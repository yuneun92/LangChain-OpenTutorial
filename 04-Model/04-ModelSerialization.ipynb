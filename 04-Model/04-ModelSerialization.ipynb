{
  "cells": [
    {
      "cell_type": "markdown",
      "metadata": {},
      "source": [
        "# Model Serialization\n",
        "\n",
        "- Author: [Mark](https://github.com/obov)\n",
        "- Peer Review : [Jaemin Hong](https://github.com/geminii01), [Dooil Kwak](https://github.com/back2zion)\n",
        "- This is a part of [LangChain Open Tutorial](https://github.com/LangChain-OpenTutorial/LangChain-OpenTutorial)\n",
        "\n",
        "[![Open in Colab](https://colab.research.google.com/assets/colab-badge.svg)](https://colab.research.google.com/github/LangChain-OpenTutorial/LangChain-OpenTutorial/blob/main/04-Model/03-ModelSerialization.ipynb) [![Open in GitHub](https://img.shields.io/badge/Open%20in%20GitHub-181717?style=flat-square&logo=github&logoColor=white)](https://github.com/LangChain-OpenTutorial/LangChain-OpenTutorial/blob/main/04-Model/03-ModelSerialization.ipynb)\n",
        "\n",
        "## Overview\n",
        "\n",
        "Serialization is the process of converting an object into a format that can be easily stored, shared, or transmitted, and later reconstructed. In the LangChain framework, classes implement standard methods for serialization, providing several advantages:\n",
        "\n",
        "- **Separation of Secrets**: Sensitive information, such as API keys, is separated from other parameters and can be securely reloaded into the object during deserialization.\n",
        "\n",
        "- **Version Compatibility**: Deserialization remains compatible across different package versions, ensuring that objects serialized with one version of LangChain can be properly deserialized with another.\n",
        "\n",
        "All LangChain objects inheriting from `Serializable` are JSON-serializable, including messages, document objects (e.g., those returned from retrievers), and most Runnables such as chat models, retrievers, and chains implemented with the LangChain Expression Language.\n",
        "\n",
        "### Saving and Loading LangChain Objects\n",
        "\n",
        "To effectively manage LangChain objects, you can serialize and deserialize them using the following functions:\n",
        "\n",
        "- **`dumpd`**: Returns a dictionary representation of an object, suitable for JSON serialization.\n",
        "\n",
        "- **`dumps`**: Returns a JSON string representation of an object.\n",
        "\n",
        "- **`load`**: Reconstructs an object from its dictionary representation.\n",
        "\n",
        "- **`loads`**: Reconstructs an object from its JSON string representation.\n",
        "\n",
        "### Table of Contents\n",
        "\n",
        "- [Overview](#overview)\n",
        "- [Environement Setup](#environment-setup)\n",
        "- [Dumps and Loads](#dumps-and-loads)\n",
        "- [Dumpd and Load](#dumpd-and-load)\n",
        "- [Serialization with pickle](#serialization-with-pickle)\n",
        "- [Is Every Runnable Serializable?](#is-every-runnable-serializable?)\n",
        "\n",
        "---\n"
      ]
    },
    {
      "cell_type": "markdown",
      "metadata": {},
      "source": [
        "## Environment Setup\n",
        "\n",
        "Set up the environment. You may refer to [Environment Setup](https://wikidocs.net/257836) for more details.\n",
        "\n",
        "**[Note]**\n",
        "\n",
        "- `langchain-opentutorial` is a package that provides a set of easy-to-use environment setup, useful functions and utilities for tutorials.\n",
        "- You can checkout the [`langchain-opentutorial`](https://github.com/LangChain-OpenTutorial/langchain-opentutorial-pypi) for more details.\n"
      ]
    },
    {
      "cell_type": "code",
      "execution_count": 82,
      "metadata": {},
      "outputs": [],
      "source": [
        "%%capture --no-stderr\n",
        "%pip install langchain-opentutorial"
      ]
    },
    {
      "cell_type": "code",
      "execution_count": 2,
      "metadata": {},
      "outputs": [],
      "source": [
        "# Install required packages\n",
        "from langchain_opentutorial import package\n",
        "\n",
        "package.install(\n",
        "    [\n",
        "        \"langsmith\",\n",
        "        \"langchain\",\n",
        "        \"langchain_core\",\n",
        "        \"langchain_openai\",\n",
        "    ],\n",
        "    verbose=False,\n",
        "    upgrade=False,\n",
        ")"
      ]
    },
    {
      "cell_type": "code",
      "execution_count": 3,
      "metadata": {},
      "outputs": [
        {
          "name": "stdout",
          "output_type": "stream",
          "text": [
            "Environment variables have been set successfully.\n"
          ]
        }
      ],
      "source": [
        "# Set environment variables\n",
        "from langchain_opentutorial import set_env\n",
        "\n",
        "set_env(\n",
        "    {\n",
        "        \"OPENAI_API_KEY\": \"Your API KEY\",\n",
        "        \"LANGCHAIN_API_KEY\": \"\",\n",
        "        \"LANGCHAIN_TRACING_V2\": \"true\",\n",
        "        \"LANGCHAIN_ENDPOINT\": \"https://api.smith.langchain.com\",\n",
        "        \"LANGCHAIN_PROJECT\": \"Caching\",\n",
        "    }\n",
        ")"
      ]
    },
    {
      "cell_type": "code",
      "execution_count": 4,
      "metadata": {},
      "outputs": [
        {
          "data": {
            "text/plain": [
              "True"
            ]
          },
          "execution_count": 4,
          "metadata": {},
          "output_type": "execute_result"
        }
      ],
      "source": [
        "# Alternatively, one can set environmental variables with load_dotenv\n",
        "from dotenv import load_dotenv\n",
        "\n",
        "\n",
        "load_dotenv(override=True)"
      ]
    },
    {
      "cell_type": "code",
      "execution_count": 5,
      "metadata": {},
      "outputs": [],
      "source": [
        "from langchain_openai import ChatOpenAI\n",
        "from langchain_core.prompts import PromptTemplate\n",
        "\n",
        "# Create model\n",
        "llm = ChatOpenAI(model_name=\"gpt-4o-mini\")\n",
        "\n",
        "# Generate prompt\n",
        "prompt = PromptTemplate.from_template(\n",
        "    \"Sumarize about the {country} in about 200 characters\"\n",
        ")\n",
        "\n",
        "# Create chain\n",
        "chain = prompt | llm"
      ]
    },
    {
      "cell_type": "markdown",
      "metadata": {},
      "source": [
        "## Dumps and Loads\n",
        "\n",
        "- dumps : LangChain object into a JSON-formatted string\n",
        "- loads : JSON-formatted string into a LangChain object\n"
      ]
    },
    {
      "cell_type": "code",
      "execution_count": 6,
      "metadata": {},
      "outputs": [
        {
          "name": "stdout",
          "output_type": "stream",
          "text": [
            "{\n",
            "  \"lc\": 1,\n",
            "  \"type\": \"constructor\",\n",
            "  \"id\": [\n",
            "    \"langchain\",\n",
            "    \"chat_models\",\n",
            "    \"openai\",\n",
            "    \"ChatOpenAI\"\n",
            "  ],\n",
            "  \"kwargs\": {\n",
            "    \"model_name\": \"gpt-4o-mini\",\n",
            "    \"temperature\": 0.7,\n",
            "    \"openai_api_key\": {\n",
            "      \"lc\": 1,\n",
            "      \"type\": \"secret\",\n",
            "      \"id\": [\n",
            "        \"OPENAI_API_KEY\"\n",
            "      ]\n",
            "    },\n",
            "    \"max_retries\": 2,\n",
            "    \"n\": 1\n",
            "  },\n",
            "  \"name\": \"ChatOpenAI\"\n",
            "}\n",
            "<class 'str'>\n",
            "{\"lc\": 1, \"type\": \"constructor\", \"id\": [\"langchain\", \"prompts\", \"prompt\", \"PromptTemplate\"], \"kwargs ...\n",
            "<class 'str'>\n",
            "{\"lc\": 1, \"type\": \"constructor\", \"id\": [\"langchain\", \"schema\", \"runnable\", \"RunnableSequence\"], \"kwa ...\n",
            "<class 'str'>\n"
          ]
        }
      ],
      "source": [
        "from langchain_core.load.dump import dumps\n",
        "\n",
        "# Serialize LangChain object to JSON like string\n",
        "\n",
        "serialized_llm = dumps(llm, pretty=True)\n",
        "print(serialized_llm)\n",
        "print(type(serialized_llm))\n",
        "\n",
        "serialized_prompt = dumps(prompt)\n",
        "print(serialized_prompt[:100] + \" ...\")\n",
        "print(type(serialized_prompt))\n",
        "\n",
        "serialized_chain = dumps(chain)\n",
        "print(serialized_chain[:100] + \" ...\")\n",
        "print(type(serialized_chain))"
      ]
    },
    {
      "cell_type": "code",
      "execution_count": 7,
      "metadata": {},
      "outputs": [
        {
          "name": "stdout",
          "output_type": "stream",
          "text": [
            "<class 'langchain_openai.chat_models.base.ChatOpenAI'>\n",
            "<class 'langchain_core.prompts.prompt.PromptTemplate'>\n",
            "<class 'langchain_core.runnables.base.RunnableSequence'>\n"
          ]
        },
        {
          "name": "stderr",
          "output_type": "stream",
          "text": [
            "/var/folders/q_/52ctm0y10h589cwbbptjsvrw0000gp/T/ipykernel_82468/2405148250.py:5: LangChainBetaWarning: The function `loads` is in beta. It is actively being worked on, so the API may change.\n",
            "  deserialized_llm = loads(serialized_llm)\n"
          ]
        }
      ],
      "source": [
        "from langchain_core.load.load import loads\n",
        "\n",
        "# Deserialize JSON like string to LangChain object\n",
        "\n",
        "deserialized_llm = loads(serialized_llm)\n",
        "print(type(deserialized_llm))\n",
        "\n",
        "deserialized_prompt = loads(serialized_prompt)\n",
        "print(type(deserialized_prompt))\n",
        "\n",
        "deserialized_chain = loads(serialized_chain)\n",
        "print(type(deserialized_chain))"
      ]
    },
    {
      "cell_type": "code",
      "execution_count": 8,
      "metadata": {},
      "outputs": [
        {
          "name": "stdout",
          "output_type": "stream",
          "text": [
            "South Korea, located on the Korean Peninsula, is known for its vibrant culture, advanced technology, and rich history. Major cities include Seoul and Busan, and it has a strong economy and global influence.\n",
            "South Korea, located on the Korean Peninsula, is known for its vibrant culture, technological advancements, and dynamic economy. Seoul is its capital, and the nation is famous for K-pop, cuisine, and rich history.\n",
            "South Korea, located on the Korean Peninsula, is a vibrant democracy known for its advanced technology, rich culture, and K-pop music. It's a global leader in innovation and economic development.\n"
          ]
        }
      ],
      "source": [
        "# Invoke chains\n",
        "\n",
        "response = chain.invoke({\"country\": \"South Korea\"})\n",
        "print(response.content)\n",
        "\n",
        "deserialized_response = deserialized_chain.invoke({\"country\": \"South Korea\"})\n",
        "print(deserialized_response.content)\n",
        "\n",
        "deserialized_response_composed = (deserialized_prompt | deserialized_llm).invoke(\n",
        "    {\"country\": \"South Korea\"}\n",
        ")\n",
        "print(deserialized_response_composed.content)"
      ]
    },
    {
      "cell_type": "markdown",
      "metadata": {},
      "source": [
        "## Dumpd and Load\n",
        "\n",
        "- dumpd : LangChain object into a dictionary\n",
        "- load : dictionary into a LangChain object\n"
      ]
    },
    {
      "cell_type": "code",
      "execution_count": 9,
      "metadata": {},
      "outputs": [
        {
          "name": "stdout",
          "output_type": "stream",
          "text": [
            "<class 'dict'>\n",
            "<class 'dict'>\n",
            "<class 'dict'>\n"
          ]
        }
      ],
      "source": [
        "from langchain_core.load.dump import dumpd\n",
        "\n",
        "# Serialize LangChain object to dictionary\n",
        "\n",
        "serialized_llm = dumpd(llm)\n",
        "print(type(serialized_llm))\n",
        "\n",
        "serialized_prompt = dumpd(prompt)\n",
        "print(type(serialized_prompt))\n",
        "\n",
        "serialized_chain = dumpd(chain)\n",
        "print(type(serialized_chain))"
      ]
    },
    {
      "cell_type": "code",
      "execution_count": 10,
      "metadata": {},
      "outputs": [
        {
          "name": "stdout",
          "output_type": "stream",
          "text": [
            "<class 'langchain_openai.chat_models.base.ChatOpenAI'>\n",
            "<class 'langchain_core.prompts.prompt.PromptTemplate'>\n",
            "<class 'langchain_core.runnables.base.RunnableSequence'>\n"
          ]
        },
        {
          "name": "stderr",
          "output_type": "stream",
          "text": [
            "/var/folders/q_/52ctm0y10h589cwbbptjsvrw0000gp/T/ipykernel_82468/4209275167.py:5: LangChainBetaWarning: The function `load` is in beta. It is actively being worked on, so the API may change.\n",
            "  deserialized_llm = load(serialized_llm)\n"
          ]
        }
      ],
      "source": [
        "from langchain_core.load.load import load\n",
        "\n",
        "# Deserialize dictionary to LangChain object\n",
        "\n",
        "deserialized_llm = load(serialized_llm)\n",
        "print(type(deserialized_llm))\n",
        "\n",
        "deserialized_prompt = load(serialized_prompt)\n",
        "print(type(deserialized_prompt))\n",
        "\n",
        "deserialized_chain = load(serialized_chain)\n",
        "print(type(deserialized_chain))"
      ]
    },
    {
      "cell_type": "code",
      "execution_count": 11,
      "metadata": {},
      "outputs": [
        {
          "name": "stdout",
          "output_type": "stream",
          "text": [
            "South Korea, located on the Korean Peninsula, is known for its vibrant culture, advanced technology, and K-pop music. Its capital, Seoul, is a bustling metropolis blending tradition and modernity.\n",
            "South Korea is a vibrant East Asian nation known for its technological advancements, rich culture, K-pop, and delicious cuisine. It has a strong economy and a unique blend of tradition and modernity.\n",
            "South Korea, located on the Korean Peninsula, is known for its vibrant culture, advanced technology, and economic strength. Major cities include Seoul and Busan. It has a rich history and a strong global presence.\n"
          ]
        }
      ],
      "source": [
        "# Invoke chains\n",
        "\n",
        "response = chain.invoke({\"country\": \"South Korea\"})\n",
        "print(response.content)\n",
        "\n",
        "deserialized_response = deserialized_chain.invoke({\"country\": \"South Korea\"})\n",
        "print(deserialized_response.content)\n",
        "\n",
        "deserialized_response_composed = (deserialized_prompt | deserialized_llm).invoke(\n",
        "    {\"country\": \"South Korea\"}\n",
        ")\n",
        "print(deserialized_response_composed.content)"
      ]
    },
    {
      "cell_type": "markdown",
      "metadata": {},
      "source": [
        "## Serialization with pickle\n",
        "\n",
        "The `pickle` module in Python is used for serializing and deserializing Python object structures, also known as _pickling_ and _unpickling_. Serialization involves converting a Python object hierarchy into a byte stream, while deserialization reconstructs the object hierarchy from the byte stream.\n",
        "\n",
        "https://docs.python.org/3/library/pickle.html\n",
        "\n",
        "### Key Functions\n",
        "\n",
        "- **`pickle.dump(obj, file)`**: Serializes `obj` and writes it to the open file object `file`.\n",
        "\n",
        "- **`pickle.load(file)`**: Reads a byte stream from the open file object `file` and deserializes it back into a Python object.\n"
      ]
    },
    {
      "cell_type": "code",
      "execution_count": 12,
      "metadata": {},
      "outputs": [
        {
          "name": "stdout",
          "output_type": "stream",
          "text": [
            "<class 'dict'>\n",
            "<class 'dict'>\n",
            "<class 'dict'>\n"
          ]
        }
      ],
      "source": [
        "from langchain_core.load.dump import dumpd\n",
        "\n",
        "# Serialize LangChain object to dictionary\n",
        "\n",
        "serialized_llm = dumpd(llm)\n",
        "print(type(serialized_llm))\n",
        "\n",
        "serialized_prompt = dumpd(prompt)\n",
        "print(type(serialized_prompt))\n",
        "\n",
        "serialized_chain = dumpd(chain)\n",
        "print(type(serialized_chain))"
      ]
    },
    {
      "cell_type": "code",
      "execution_count": 13,
      "metadata": {},
      "outputs": [],
      "source": [
        "import pickle\n",
        "import os\n",
        "\n",
        "# Serialize dictionary to pickle file\n",
        "\n",
        "os.makedirs(\"data\", exist_ok=True)\n",
        "\n",
        "with open(\"data/serialized_llm.pkl\", \"wb\") as f:\n",
        "    pickle.dump(serialized_llm, f)\n",
        "\n",
        "with open(\"data/serialized_prompt.pkl\", \"wb\") as f:\n",
        "    pickle.dump(serialized_prompt, f)\n",
        "\n",
        "with open(\"data/serialized_chain.pkl\", \"wb\") as f:\n",
        "    pickle.dump(serialized_chain, f)"
      ]
    },
    {
      "cell_type": "code",
      "execution_count": 14,
      "metadata": {},
      "outputs": [
        {
          "name": "stdout",
          "output_type": "stream",
          "text": [
            "<class 'dict'>\n",
            "<class 'dict'>\n",
            "<class 'dict'>\n"
          ]
        }
      ],
      "source": [
        "# Deserialize pickle file to dictionary\n",
        "\n",
        "with open(\"data/serialized_llm.pkl\", \"rb\") as f:\n",
        "    loaded_llm = pickle.load(f)\n",
        "    print(type(loaded_llm))\n",
        "\n",
        "with open(\"data/serialized_prompt.pkl\", \"rb\") as f:\n",
        "    loaded_prompt = pickle.load(f)\n",
        "    print(type(loaded_prompt))\n",
        "\n",
        "with open(\"data/serialized_chain.pkl\", \"rb\") as f:\n",
        "    loaded_chain = pickle.load(f)\n",
        "    print(type(loaded_chain))"
      ]
    },
    {
      "cell_type": "code",
      "execution_count": 15,
      "metadata": {},
      "outputs": [
        {
          "name": "stdout",
          "output_type": "stream",
          "text": [
            "<class 'langchain_openai.chat_models.base.ChatOpenAI'>\n",
            "<class 'langchain_core.prompts.prompt.PromptTemplate'>\n",
            "<class 'langchain_core.runnables.base.RunnableSequence'>\n"
          ]
        }
      ],
      "source": [
        "from langchain_core.load.load import load\n",
        "\n",
        "# Deserialize dictionary to LangChain object\n",
        "\n",
        "deserialized_llm = load(serialized_llm)\n",
        "print(type(deserialized_llm))\n",
        "\n",
        "deserialized_prompt = load(serialized_prompt)\n",
        "print(type(deserialized_prompt))\n",
        "\n",
        "deserialized_chain = load(serialized_chain)\n",
        "print(type(deserialized_chain))"
      ]
    },
    {
      "cell_type": "code",
      "execution_count": 16,
      "metadata": {},
      "outputs": [
        {
          "name": "stdout",
          "output_type": "stream",
          "text": [
            "South Korea, located on the Korean Peninsula, is known for its technological advancements, rich culture, and history. Major cities like Seoul blend modernity with tradition, while K-pop and cuisine gain global popularity.\n",
            "South Korea, located on the Korean Peninsula, is known for its advanced technology, vibrant culture, and rich history. It features a dynamic economy, popular K-pop music, and delicious cuisine.\n",
            "South Korea is a vibrant East Asian nation known for its advanced technology, rich culture, and historical landmarks. It's famous for K-pop, delicious cuisine, and significant economic growth post-war.\n"
          ]
        }
      ],
      "source": [
        "# Invoke chains\n",
        "\n",
        "response = chain.invoke({\"country\": \"South Korea\"})\n",
        "print(response.content)\n",
        "\n",
        "deserialized_response = deserialized_chain.invoke({\"country\": \"South Korea\"})\n",
        "print(deserialized_response.content)\n",
        "\n",
        "deserialized_response_composed = (deserialized_prompt | deserialized_llm).invoke(\n",
        "    {\"country\": \"South Korea\"}\n",
        ")\n",
        "print(deserialized_response_composed.content)"
      ]
    },
    {
      "cell_type": "markdown",
      "metadata": {},
      "source": [
        "## Is Every Runnable Serializable?\n",
        "\n",
        "LangChain's `dumps` and `dumpd` methods attempt to serialize objects as much as possible, but the resulting data may be incomplete.\n",
        "\n",
        "1. Even if the `is_lc_serializable` method does not exist or returns `False`, a result is still generated.\n",
        "2. Even if the `is_lc_serializable` method returns `True` and serialization is successful, deserialization may fail.\n",
        "\n",
        "After serialization, it is essential to check if the JSON data contains `\"type\": \"not_implemented\"`. Only then can the `load` or `loads` functions be used safely.\n"
      ]
    },
    {
      "cell_type": "code",
      "execution_count": 17,
      "metadata": {},
      "outputs": [
        {
          "name": "stdout",
          "output_type": "stream",
          "text": [
            "<class 'langchain_core.runnables.base.RunnableSequence'>\n",
            "<class 'langchain_core.runnables.base.RunnableSequence'>\n",
            "South Korea, located in East Asia, is known for its rich culture, advanced technology, and vibrant economy. It features bustling cities, traditional cuisine, and global influence through K-pop and cinema.\n",
            "South Korea, located in East Asia, is known for its advanced technology, rich culture, and vibrant economy. It's famous for K-pop, cuisine, and historical sites, blending tradition with modernity.\n"
          ]
        }
      ],
      "source": [
        "from langchain_core.output_parsers.string import StrOutputParser\n",
        "from langchain_core.runnables import RunnableLambda\n",
        "from langchain_core.load.dump import dumps\n",
        "from langchain_core.load.load import loads\n",
        "\n",
        "\n",
        "def custom_function(llm_response):\n",
        "    return llm_response.content\n",
        "\n",
        "\n",
        "# Define chains that make same results\n",
        "chain_with_custom_function = chain | custom_function\n",
        "print(type(chain_with_custom_function))\n",
        "chain_with_str_output_parser = chain | StrOutputParser()\n",
        "print(type(chain_with_str_output_parser))\n",
        "\n",
        "response = chain_with_custom_function.invoke({\"country\": \"South Korea\"})\n",
        "print(response)\n",
        "\n",
        "response = chain_with_str_output_parser.invoke({\"country\": \"South Korea\"})\n",
        "print(response)"
      ]
    },
    {
      "cell_type": "code",
      "execution_count": 18,
      "metadata": {},
      "outputs": [
        {
          "name": "stdout",
          "output_type": "stream",
          "text": [
            "True\n",
            "True\n"
          ]
        }
      ],
      "source": [
        "# Both of them are serializable\n",
        "print(chain_with_custom_function.is_lc_serializable())\n",
        "print(chain_with_str_output_parser.is_lc_serializable())"
      ]
    },
    {
      "cell_type": "code",
      "execution_count": 19,
      "metadata": {},
      "outputs": [
        {
          "name": "stdout",
          "output_type": "stream",
          "text": [
            "...\n",
            "\n",
            "    ],\n",
            "    \"last\": {\n",
            "      \"lc\": 1,\n",
            "      \"type\": \"not_implemented\",\n",
            "      \"id\": [\n",
            "        \"langchain_core\",\n",
            "        \"runnables\",\n",
            "        \"base\",\n",
            "        \"RunnableLambda\"\n",
            "      ],\n",
            "      \"repr\": \"RunnableLambda(custom_function)\"\n",
            "    }\n",
            "  },\n",
            "  \"name\": \"RunnableSequence\"\n",
            "}\n",
            "Error : \n",
            " Trying to load an object that doesn't implement serialization: {'lc': 1, 'type': 'not_implemented', 'id': ['langchain_core', 'runnables', 'base', 'RunnableLambda'], 'repr': 'RunnableLambda(custom_function)'}\n",
            "<class 'langchain_core.runnables.base.RunnableSequence'>\n",
            "South Korea, located on the Korean Peninsula, is known for its advanced technology, rich culture, and vibrant economy. It has a democratic government and is famous for K-pop, cuisine, and historical sites.\n"
          ]
        }
      ],
      "source": [
        "try:\n",
        "    print(\n",
        "        \"...\\n\"\n",
        "        # You can see that the serialized string contains \"type\": \"not_implemented\"\n",
        "        + ((serialized_str := dumps(chain_with_custom_function, pretty=True)))[-270:]\n",
        "    )\n",
        "    # First one fail to deserialize\n",
        "    loads(serialized_str)\n",
        "except Exception as e:\n",
        "    print(\"Error : \\n\", e)\n",
        "\n",
        "print(type(deserialized_chain := loads(dumps(chain_with_str_output_parser))))\n",
        "print(deserialized_chain.invoke({\"country\": \"South Korea\"}))"
      ]
    },
    {
      "cell_type": "code",
      "execution_count": 20,
      "metadata": {},
      "outputs": [
        {
          "name": "stdout",
          "output_type": "stream",
          "text": [
            "Error : \n",
            " 'RunnableLambda' object has no attribute 'is_lc_serializable'\n",
            "{\n",
            "  \"lc\": 1,\n",
            "  \"type\": \"not_implemented\",\n",
            "  \"id\": [\n",
            "    \"langchain_core\",\n",
            "    \"runnables\",\n",
            "    \"base\",\n",
            "    \"RunnableLambda\"\n",
            "  ],\n",
            "  \"repr\": \"RunnableLambda(custom_function)\"\n",
            "}\n",
            "Error : \n",
            " 'function' object has no attribute 'is_lc_serializable'\n",
            "{\n",
            "  \"lc\": 1,\n",
            "  \"type\": \"not_implemented\",\n",
            "  \"id\": [\n",
            "    \"__main__\",\n",
            "    \"custom_function\"\n",
            "  ],\n",
            "  \"repr\": \"<function custom_function at 0x114b99440>\"\n",
            "}\n"
          ]
        }
      ],
      "source": [
        "# RunnableLambda and custom_function has no is_lc_serializable method\n",
        "# But they are serializable\n",
        "\n",
        "try:\n",
        "    print(RunnableLambda(custom_function).is_lc_serializable())\n",
        "except Exception as e:\n",
        "    print(\"Error : \\n\", e)\n",
        "\n",
        "print(dumps(RunnableLambda(custom_function), pretty=True))\n",
        "\n",
        "try:\n",
        "    print(custom_function.is_lc_serializable())\n",
        "except Exception as e:\n",
        "    print(\"Error : \\n\", e)\n",
        "\n",
        "print(dumps(custom_function, pretty=True))"
      ]
    },
    {
      "cell_type": "code",
      "execution_count": 21,
      "metadata": {},
      "outputs": [
        {
          "name": "stdout",
          "output_type": "stream",
          "text": [
            "False\n",
            "{\n",
            "  \"lc\": 1,\n",
            "  \"type\": \"not_implemented\",\n",
            "  \"id\": [\n",
            "    \"langchain_core\",\n",
            "    \"load\",\n",
            "    \"serializable\",\n",
            "    \"Serializable\"\n",
            "  ],\n",
            "  \"repr\": \"<class 'langchain_core.load.serializable.Serializable'>\"\n",
            "}\n",
            "{'lc': 1, 'type': 'not_implemented', 'id': ['langchain_core', 'load', 'serializable', 'Serializable'], 'repr': \"<class 'langchain_core.load.serializable.Serializable'>\"}\n"
          ]
        }
      ],
      "source": [
        "from langchain_core.load.serializable import Serializable\n",
        "\n",
        "# Serializable has is_lc_serializable method\n",
        "# But it returns False\n",
        "print(Serializable.is_lc_serializable())\n",
        "\n",
        "# But also it is serializable\n",
        "print(dumps(Serializable, pretty=True))\n",
        "print(dumpd(Serializable))"
      ]
    }
  ],
  "metadata": {
    "kernelspec": {
      "display_name": "langchain-opentutorial-7evm7_Rx-py3.11",
      "language": "python",
      "name": "python3"
    },
    "language_info": {
      "codemirror_mode": {
        "name": "ipython",
        "version": 3
      },
      "file_extension": ".py",
      "mimetype": "text/x-python",
      "name": "python",
      "nbconvert_exporter": "python",
      "pygments_lexer": "ipython3",
      "version": "3.11.10"
    }
  },
  "nbformat": 4,
  "nbformat_minor": 2
}
