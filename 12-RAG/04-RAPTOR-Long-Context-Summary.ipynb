{
  "cells": [
    {
      "cell_type": "markdown",
      "id": "635d8ebb",
      "metadata": {},
      "source": [
        "# RAPTOR: Recursive Abstractive Processing for Tree-Organized Retrieval\n",
        "\n",
        "- Author: [Yoonji Oh](https://github.com/samdaseuss)\n",
        "- Design: [Teddy](https://github.com/teddylee777)\n",
        "- Peer Review: [Yun Eun](https://github.com/yuneun92)\n",
        "- This is a part of [LangChain Open Tutorial](https://github.com/LangChain-OpenTutorial/LangChain-OpenTutorial)\n",
        "\n",
        "[![Open in Colab](https://colab.research.google.com/assets/colab-badge.svg)](https://colab.research.google.com/github/LangChain-OpenTutorial/LangChain-OpenTutorial/blob/main/12-RAG/04-RAPTOR-Long-Context-Summary.ipynb) [![Open in GitHub](https://img.shields.io/badge/Open%20in%20GitHub-181717?style=flat-square&logo=github&logoColor=white)](https://github.com/LangChain-OpenTutorial/LangChain-OpenTutorial/blob/main/12-RAG/04-RAPTOR-Long-Context-Summary.ipynb)\n",
        "\n",
        "## Overview\n",
        "\n",
        "### Welcome to the RAPTOR Tutorial!\n",
        "In this tutorial, we’ll explore RAPTOR, which stands for Recursive Abstractive Processing for Tree-Organized Retrieval. This innovative technique organizes data into a tree-like structure through summarization, making it easier to efficiently locate the information you need. The search process begins at the root and navigates down to more detailed nodes, ultimately delivering the most relevant answer to your query.\n",
        "\n",
        "This tutorial is inspired by the paper \"RAPTOR: Recursive Abstractive Processing for Tree-Organized Retrieval\". A special thanks to the authors for their groundbreaking work that inspired this deep dive. Let’s get started!\n",
        "\n",
        "\n",
        "### Table of Contents\n",
        "\n",
        "- [Overview](#overview)\n",
        "- [Environment Setup](#environment-setup)\n",
        "- [Installation](#installation)\n",
        "- [What is RAPTOR?](#what-is-raptor)\n",
        "- [Documents](#documents)\n",
        "- [Models](#models)\n",
        "- [Tree Construction](#tree-construction)\n",
        "\n",
        "\n",
        "### References\n",
        "\n",
        "- [RAPTOR: Recursive Abstractive Processing for Tree-Organized Retrieval](https://arxiv.org/pdf/2401.18059)  \n",
        "  **Authors** : Xinyu Zhang, Tao Lei, Heng Ji, Kevin Small  \n",
        "  **Published in** : *arXiv preprint arXiv:2401.18059* (2024)\n",
        "- [GMM: Original Repository](https://github.com/parthsarthi03/raptor/blob/master/raptor/cluster_tree_builder.py)\n",
        "- [GMM: Minor Adjustments](https://github.com/run-llama/llama_index/blob/main/llama-index-packs/llama-index-packs-raptor/llama_index/packs/raptor/clustering.py)\n",
        "----"
      ]
    },
    {
      "cell_type": "markdown",
      "id": "c6c7aba4",
      "metadata": {},
      "source": [
        "## Environment Setup\n",
        "\n",
        "Set up the environment. You may refer to [Environment Setup](https://wikidocs.net/257836) for more details.\n",
        "\n",
        "**[Note]**\n",
        "- `langchain-opentutorial` is a package that provides a set of easy-to-use environment setup, useful functions and utilities for tutorials. \n",
        "- You can checkout the [`langchain-opentutorial`](https://github.com/LangChain-OpenTutorial/langchain-opentutorial-pypi) for more details."
      ]
    },
    {
      "cell_type": "code",
      "execution_count": 1,
      "id": "21943adb",
      "metadata": {},
      "outputs": [],
      "source": [
        "%%capture --no-stderr\n",
        "%pip install langchain-opentutorial"
      ]
    },
    {
      "cell_type": "code",
      "execution_count": 114,
      "id": "f25ec196",
      "metadata": {},
      "outputs": [],
      "source": [
        "# Install required packages\n",
        "from langchain_opentutorial import package\n",
        "\n",
        "package.install(\n",
        "    [\n",
        "        \"langsmith\",\n",
        "        \"langchain\",\n",
        "        \"langchain_core\",\n",
        "        \"langchain-anthropic\",\n",
        "        \"langchain_community\",\n",
        "        \"langchain_text_splitters\",\n",
        "        \"langchain_openai\",\n",
        "    ],\n",
        "    verbose=False,\n",
        "    upgrade=False,\n",
        ")"
      ]
    },
    {
      "cell_type": "code",
      "execution_count": 115,
      "id": "7f9065ea",
      "metadata": {},
      "outputs": [
        {
          "name": "stdout",
          "output_type": "stream",
          "text": [
            "Environment variables have been set successfully.\n"
          ]
        }
      ],
      "source": [
        "# Set environment variables\n",
        "from langchain_opentutorial import set_env\n",
        "\n",
        "set_env(\n",
        "    {\n",
        "        \"OPENAI_API_KEY\": \"\",\n",
        "        \"LANGCHAIN_API_KEY\": \"\",\n",
        "        \"LANGCHAIN_TRACING_V2\": \"true\",\n",
        "        \"LANGCHAIN_ENDPOINT\": \"https://api.smith.langchain.com\",\n",
        "        \"LANGCHAIN_PROJECT\": \"RAPTOR: Recursive Abstractive Processing for Tree-Organized Retrieval\"\n",
        "    }\n",
        ")"
      ]
    },
    {
      "cell_type": "markdown",
      "id": "690a9ae0",
      "metadata": {},
      "source": [
        "You can alternatively set API keys such as `OPENAI_API_KEY` in a `.env` file and load them.\n",
        "\n",
        "[Note] This is not necessary if you've already set the required API keys in previous steps."
      ]
    },
    {
      "cell_type": "code",
      "execution_count": 116,
      "id": "4f99b5b6",
      "metadata": {},
      "outputs": [
        {
          "data": {
            "text/plain": [
              "True"
            ]
          },
          "execution_count": 116,
          "metadata": {},
          "output_type": "execute_result"
        }
      ],
      "source": [
        "# Load API keys from .env file\n",
        "from dotenv import load_dotenv\n",
        "\n",
        "load_dotenv(override=True)"
      ]
    },
    {
      "cell_type": "code",
      "execution_count": 5,
      "id": "eeb2a44a",
      "metadata": {},
      "outputs": [],
      "source": [
        "%pip install -qU langchain umap-learn scikit-learn langchain_community tiktoken langchain-openai langchainhub chromadb langchain-anthropic matplotlib "
      ]
    },
    {
      "cell_type": "markdown",
      "id": "255596fb",
      "metadata": {},
      "source": [
        "## What is RAPTOR?\n",
        "\n",
        "RAPTOR: Recursive Abstractive Processing for Tree-Organized Retrieval  \n",
        "The RAPTOR paper introduces an intriguing approach to indexing and retrieving documents.\n",
        "\n",
        "- **Leafs**  represent the initial set of documents.\n",
        "- The leafs are embedded and clustered.\n",
        "- Then, the clusters are summarized at a higher (more abstract) level to capture information across similar documents.  \n",
        "  This process is performed recursively, forming a \"tree\" that progresses from the original documents (leafs) to more abstract summaries.\n",
        "\n",
        "This approach can be applied at various scales. Leafs can be:\n",
        "\n",
        "- Text chunks within a single document (as shown in the paper)\n",
        "- Entire documents (as shown below)  \n",
        "With longer-context LLMs, this can be extended to entire documents.\n",
        "\n",
        "---\n",
        "\n",
        "## Documents\n",
        "\n",
        "Now, let's apply this concept to LangChain's LCEL documentation.\n",
        "\n",
        "In this case, each document is a unique web page from the LCEL documentation.\n",
        "\n",
        "The context sizes range from fewer than 2,000 tokens to over 10,000 tokens.\n",
        "\n",
        "The process involves extracting text data from web documents and calculating the token count of the text, which is visualized in a histogram.\n",
        "\n",
        "1. **Token Counting**:  \n",
        "   - Use the `tiktoken` library to calculate the number of tokens in a string based on a given encoding name.\n",
        "2. **Recursive URL Loading**:  \n",
        "   - Use the `RecursiveUrlLoader` class to recursively load web documents from specified URLs.  \n",
        "   - Extract text from HTML documents using BeautifulSoup during this process.\n",
        "3. **Aggregating Text Data**:  \n",
        "   - Load documents from multiple URLs and combine all text data into a single list.\n",
        "4. **Token Calculation**:  \n",
        "   - Call the `num_tokens_from_string` function for each document text to calculate the number of tokens, then store the results in a list.\n",
        "5. **Histogram Visualization**:  \n",
        "   - Use `matplotlib` to visualize the distribution of token counts in a histogram.  \n",
        "   - The histogram plots token counts on the x-axis and the frequency of documents with that token count on the y-axis.\n",
        "\n",
        "A histogram helps to understand the distribution of data, especially for visually identifying the length distribution of the text data."
      ]
    },
    {
      "cell_type": "code",
      "execution_count": 117,
      "id": "560d9ff6",
      "metadata": {},
      "outputs": [],
      "source": [
        "from langchain_community.document_loaders.recursive_url_loader import RecursiveUrlLoader\n",
        "from bs4 import BeautifulSoup as Soup\n",
        "import tiktoken\n",
        "import matplotlib.pyplot as plt"
      ]
    },
    {
      "cell_type": "code",
      "execution_count": 118,
      "id": "218eece9",
      "metadata": {},
      "outputs": [],
      "source": [
        "# Returns the number of tokens in the given string.\n",
        "def num_tokens_from_string(string: str, encoding_name: str) -> int:\n",
        "    encoding = tiktoken.get_encoding(encoding_name)\n",
        "    num_tokens = len(encoding.encode(string))\n",
        "    return num_tokens"
      ]
    },
    {
      "cell_type": "code",
      "execution_count": 119,
      "id": "ee28b573",
      "metadata": {},
      "outputs": [],
      "source": [
        "# Loading LCEL Documents\n",
        "url = \"https://python.langchain.com/docs/expression_language/\"\n",
        "loader = RecursiveUrlLoader(\n",
        "    url=url, max_depth=20, extractor=lambda x: Soup(x, \"html.parser\").text\n",
        ")\n",
        "docs = loader.load()"
      ]
    },
    {
      "cell_type": "code",
      "execution_count": 120,
      "id": "2ce06dc5",
      "metadata": {},
      "outputs": [],
      "source": [
        "# Loading LCEL Documents Using PydanticOutputParser (External LCEL Documents)\n",
        "url = \"https://python.langchain.com/docs/how_to/output_parser_structured/\"\n",
        "loader = RecursiveUrlLoader(\n",
        "    url=url, max_depth=1, extractor=lambda x: Soup(x, \"html.parser\").text\n",
        ")\n",
        "docs_pydantic = loader.load()"
      ]
    },
    {
      "cell_type": "code",
      "execution_count": 121,
      "id": "ad6adb45",
      "metadata": {},
      "outputs": [],
      "source": [
        "# Loading External LCEL Documents Using Self-Query Retriever\n",
        "url = \"https://python.langchain.com/v0.1/docs/modules/data_connection/retrievers/self_query/\"\n",
        "loader = RecursiveUrlLoader(\n",
        "    url=url, max_depth=1, extractor=lambda x: Soup(x, \"html.parser\").text\n",
        ")\n",
        "docs_sq = loader.load()"
      ]
    },
    {
      "cell_type": "code",
      "execution_count": 122,
      "id": "5c177082",
      "metadata": {},
      "outputs": [],
      "source": [
        "# Document Text\n",
        "docs.extend([*docs_pydantic, *docs_sq])\n",
        "docs_texts = [d.page_content for d in docs]"
      ]
    },
    {
      "cell_type": "code",
      "execution_count": 123,
      "id": "30e626cd",
      "metadata": {},
      "outputs": [],
      "source": [
        "# Calculating Token Count for Each Document\n",
        "counts = [num_tokens_from_string(d, \"cl100k_base\") for d in docs_texts]"
      ]
    },
    {
      "cell_type": "code",
      "execution_count": 124,
      "id": "6275e0b8",
      "metadata": {},
      "outputs": [
        {
          "data": {
            "text/plain": [
              "<function matplotlib.pyplot.show(close=None, block=None)>"
            ]
          },
          "execution_count": 124,
          "metadata": {},
          "output_type": "execute_result"
        },
        {
          "data": {
            "image/png": "[encoded data removed]",
            "text/plain": [
              "<Figure size 1000x600 with 1 Axes>"
            ]
          },
          "metadata": {},
          "output_type": "display_data"
        }
      ],
      "source": [
        "# Plotting a Histogram of Token Counts\n",
        "plt.figure(figsize=(10, 6))\n",
        "plt.hist(counts, bins=30, color=\"blue\", edgecolor=\"black\", alpha=0.7)\n",
        "plt.title(\"Token Counts in LCEL Documents\")\n",
        "plt.xlabel(\"Token Count\")\n",
        "plt.ylabel(\"Frequency\")\n",
        "plt.grid(axis=\"y\", alpha=0.75)\n",
        "\n",
        "# Displaying the Histogram\n",
        "plt.show\n"
      ]
    },
    {
      "cell_type": "markdown",
      "id": "e0ea2fe6",
      "metadata": {},
      "source": [
        "Explaining the Process of Sorting, Concatenating Document Text, and Calculating Token Count\n",
        "\n",
        "- The documents (`docs`) are sorted based on the value of the \"source\" key in their metadata.\n",
        "- The sorted list of documents is then reversed.\n",
        "- The text content of the reversed documents is concatenated using a specific delimiter (`\"\\n\\n\\n --- \\n\\n\\n\"`).\n",
        "- The `num_tokens_from_string` function calculates and prints the number of tokens in the concatenated text. The \"cl100k_base\" model is used for tokenization."
      ]
    },
    {
      "cell_type": "code",
      "execution_count": 125,
      "id": "7bd1944f",
      "metadata": {},
      "outputs": [
        {
          "name": "stdout",
          "output_type": "stream",
          "text": [
            "Num tokens in all context: 9282\n"
          ]
        }
      ],
      "source": [
        "# Concatenating Document Text\n",
        "# Sorting documents based on source metadata.\n",
        "d_sorted = sorted(docs, key=lambda x: x.metadata[\"source\"])\n",
        "d_reversed = list(reversed(d_sorted))  # Reversing the order of the sorted documents.\n",
        "concatenated_content = \"\\n\\n\\n --- \\n\\n\\n\".join(\n",
        "    [\n",
        "        # Concatenating the content of the reversed documents.\n",
        "        doc.page_content\n",
        "        for doc in d_reversed\n",
        "    ]\n",
        ")\n",
        "print(\n",
        "    \"Num tokens in all context: %s\"  # Printing the total token count across all contexts.\n",
        "    % num_tokens_from_string(concatenated_content, \"cl100k_base\")\n",
        ")"
      ]
    },
    {
      "cell_type": "markdown",
      "id": "d03f5c51",
      "metadata": {},
      "source": [
        "Explaining the Process of Splitting Text Using `RecursiveCharacterTextSplitter`\n",
        "\n",
        "- Initialize the `chunk_size_tok` variable to 2000 tokens, which defines the size of each text chunk.\n",
        "- Initialize the text splitter using the `from_tiktoken_encoder` method of `RecursiveCharacterTextSplitter`. Set the `chunk_size` to 2000 and the `chunk_overlap` to 0 to ensure there is no overlap between chunks.\n",
        "- Call the `split_text` method of the initialized text splitter to split the concatenated text stored in the `concatenated_content` variable. The split results are stored in the `texts_split` variable."
      ]
    },
    {
      "cell_type": "code",
      "execution_count": 126,
      "id": "1ea92db0",
      "metadata": {},
      "outputs": [],
      "source": [
        "# Code for Text Splitting\n",
        "from langchain_text_splitters import RecursiveCharacterTextSplitter\n",
        "\n",
        "chunk_size_tok = 2000  # Set the chunk size for tokens.  \n",
        "# Initialize the recursive character text splitter and configure the chunk size and overlap using a token encoder.\n",
        "text_splitter = RecursiveCharacterTextSplitter.from_tiktoken_encoder(\n",
        "    chunk_size=chunk_size_tok, chunk_overlap=0\n",
        ")\n",
        "texts_split = text_splitter.split_text(\n",
        "    concatenated_content\n",
        ")  # Split the given text."
      ]
    },
    {
      "cell_type": "markdown",
      "id": "a4cde0bb",
      "metadata": {},
      "source": [
        "## Models\n",
        "\n",
        "You can test various models, including the new Claude3 series.\n",
        "\n",
        "Ensure you set the required API keys:\n",
        "- `OPENAI_API_KEY` for OpenAI and `ANTHROPIC_API_KEY` for Anthropic if using their services.\n",
        "\n",
        "Implement a chatbot model using `ChatOpenAI` or `ChatAnthropic` with `OpenAIEmbeddings`.\n",
        "\n",
        "- Instantiate `OpenAIEmbeddings` to initialize OpenAI's embedding functionality.\n",
        "- Use `ChatOpenAI` or `ChatAnthropic` to initialize the chatbot model, setting the temperature to 0."
      ]
    },
    {
      "cell_type": "code",
      "execution_count": 127,
      "id": "ca4d8abe",
      "metadata": {},
      "outputs": [
        {
          "data": {
            "text/plain": [
              "True"
            ]
          },
          "execution_count": 127,
          "metadata": {},
          "output_type": "execute_result"
        }
      ],
      "source": [
        "from dotenv import load_dotenv\n",
        "\n",
        "load_dotenv()"
      ]
    },
    {
      "cell_type": "markdown",
      "id": "fe0025f4",
      "metadata": {},
      "source": [
        "The following code illustrates how to set up `Cache Embedding` using LangChain. It prevents redundant embedding calculations for identical inputs by storing and reusing cached values."
      ]
    },
    {
      "cell_type": "code",
      "execution_count": 128,
      "id": "b7967f96",
      "metadata": {},
      "outputs": [],
      "source": [
        "from langchain_openai import OpenAIEmbeddings\n",
        "from langchain.embeddings import CacheBackedEmbeddings\n",
        "from langchain.storage import LocalFileStore\n",
        "\n",
        "# Defines a local directory to store cached data.\n",
        "store = LocalFileStore(\"./cache/\")\n",
        "\n",
        "# Initializing the Embedding Instance\n",
        "embd = OpenAIEmbeddings(model=\"text-embedding-3-small\", disallowed_special=())\n",
        "\n",
        "# Combining Cache Backend with Embeddings\n",
        "cached_embeddings = CacheBackedEmbeddings.from_bytes_store(\n",
        "    embd, # The OpenAIEmbeddings instance that performs the embedding calculations.\n",
        "    store, # The LocalFileStore instance where cache data is saved.\n",
        "    namespace=embd.model # Assigns the embedding model's name as the namespace for cached data to avoid conflicts with other models.\n",
        ")"
      ]
    },
    {
      "cell_type": "markdown",
      "id": "2c3361f2",
      "metadata": {},
      "source": [
        "The following code demonstrates how to initialize `ChatOpenAI` and `ChatAnthropic` models using LangChain and utilize streaming functionality to output results token by token."
      ]
    },
    {
      "cell_type": "code",
      "execution_count": 129,
      "id": "8393a9b8",
      "metadata": {},
      "outputs": [],
      "source": [
        "from langchain_anthropic import ChatAnthropic\n",
        "from langchain_openai import OpenAIEmbeddings, ChatOpenAI\n",
        "from langchain.callbacks.base import BaseCallbackHandler\n",
        "\n",
        "# Define a custom callback class to handle token streaming.\n",
        "# This class inherits from LangChain's BaseCallbackHandler and is used to print each token as it is generated.\n",
        "class StreamCallback(BaseCallbackHandler):\n",
        "    def on_llm_new_token(self, token: str, **kwargs):\n",
        "        # Print each token without adding a new line, ensuring real-time display of the generated text.\n",
        "        print(token, end=\"\", flush=True)\n",
        "\n",
        "# Initialize the ChatOpenAI model.\n",
        "# This configuration uses OpenAI's GPT model (\"gpt-4-turbo-preview\").\n",
        "# The temperature is set to 0 to produce deterministic outputs with minimal variability.\n",
        "# Streaming is enabled to allow real-time generation of text.\n",
        "# The StreamCallback is passed to handle the streaming of tokens.\n",
        "model = ChatOpenAI(\n",
        "    model=\"gpt-4-turbo-preview\",  # Specify the OpenAI model to use.\n",
        "    temperature=0,               # Set the temperature for deterministic output.\n",
        "    streaming=True,              # Enable streaming for real-time token generation.\n",
        "    callbacks=[StreamCallback()],  # Attach the custom StreamCallback for token streaming.\n",
        ")\n",
        "\n",
        "# ==============================================================================\n",
        "# ChatAnthropic Model Initialization (Optional)\n",
        "# ------------------------------------------------------------------------------\n",
        "# Uncomment the following section to initialize the ChatAnthropic model instead \n",
        "# of ChatOpenAI. This configuration uses Anthropic's Claude model \n",
        "# (\"claude-3-opus-20240229\"). The temperature is similarly set to 0 for \n",
        "# deterministic output.\n",
        "#\n",
        "# Note: ChatAnthropic is currently commented out and can be enabled as needed.\n",
        "# ==============================================================================\n",
        "\n",
        "# model = ChatAnthropic(\n",
        "#     temperature=0,              # Set the temperature for deterministic output.\n",
        "#     model=\"claude-3-opus-20240229\"  # Specify the Anthropic model to use.\n",
        "# )\n"
      ]
    },
    {
      "cell_type": "markdown",
      "id": "426bf005",
      "metadata": {},
      "source": [
        "## Tree Construction\n",
        "\n",
        "The tree construction process employs several sophisticated clustering approaches.\n",
        "\n",
        "### GMM (Gaussian Mixture Model)\n",
        "\n",
        "- Models the distribution of data points across various clusters.\n",
        "- Determines the optimal number of clusters by evaluating the model's Bayesian Information Criterion (BIC).\n",
        "\n",
        "### UMAP (Uniform Manifold Approximation and Projection)\n",
        "\n",
        "- Supports clustering.\n",
        "- Reduces the dimensionality of high-dimensional data.\n",
        "- UMAP emphasizes natural groupings based on the similarity of data points.\n",
        "\n",
        "### Local and Global Clustering\n",
        "\n",
        "- Used to analyze data at different scales.\n",
        "- Effectively captures both fine-grained patterns and broader trends within the data.\n",
        "\n",
        "### Thresholding\n",
        "\n",
        "- Applied to determine cluster membership in the context of GMM.\n",
        "- Based on probabilistic distributions (allowing data points to be assigned to one or more clusters).\n",
        "\n",
        "---------\n",
        "\n",
        "The code for GMM and thresholding is credited to Sarthi et al., as mentioned in the following sources:\n",
        "\n",
        "- [Original Repository](https://github.com/parthsarthi03/raptor/blob/master/raptor/cluster_tree_builder.py)\n",
        "- [Minor Adjustments](https://github.com/run-llama/llama_index/blob/main/llama-index-packs/llama-index-packs-raptor/llama_index/packs/raptor/clustering.py)\n",
        "\n",
        "Full credit is given to both authors.\n",
        "\n",
        "The `global_cluster_embeddings` function uses UMAP for global dimensionality reduction of embeddings.\n",
        "\n",
        "- Reduces the dimensionality of the input embeddings to the specified dimension (`dim`) using UMAP.\n",
        "- `n_neighbors` specifies the number of neighbors to consider for each point and defaults to the square root of the number of embeddings if not provided.\n",
        "- `metric` specifies the distance metric to be used by UMAP.\n",
        "- The result is a numpy array of embeddings reduced to the specified dimensions."
      ]
    },
    {
      "cell_type": "code",
      "execution_count": 130,
      "id": "86c43b4b",
      "metadata": {},
      "outputs": [],
      "source": [
        "from typing import Dict, List, Optional, Tuple\n",
        "\n",
        "import numpy as np\n",
        "import pandas as pd\n",
        "import umap.umap_ as umap\n",
        "from langchain.prompts import ChatPromptTemplate\n",
        "from langchain_core.output_parsers import StrOutputParser\n",
        "from sklearn.mixture import GaussianMixture\n",
        "\n",
        "RANDOM_SEED = 42  # Fixed seed value for reproducibility\n",
        "\n",
        "### --- Added comments and documentation to the referenced code above --- ###\n",
        "\n",
        "\n",
        "def global_cluster_embeddings(\n",
        "    embeddings: np.ndarray,\n",
        "    dim: int,\n",
        "    n_neighbors: Optional[int] = None,\n",
        "    metric: str = \"cosine\",\n",
        ") -> np.ndarray:\n",
        "    \"\"\"\n",
        "    Performs global dimensionality reduction of embeddings using UMAP.\n",
        "\n",
        "    Parameters:\n",
        "    - embeddings: Input embeddings as a numpy array.\n",
        "    - dim: Target dimensionality of the reduced space.\n",
        "    - n_neighbors: Optional; the number of neighbors to consider for each point.\n",
        "                   Defaults to the square root of the number of embeddings if not provided.\n",
        "    - metric: The distance metric to use with UMAP.\n",
        "\n",
        "    Returns:\n",
        "    - A numpy array of embeddings reduced to the specified dimensionality.\n",
        "    \"\"\"\n",
        "    if n_neighbors is None:\n",
        "        n_neighbors = int((len(embeddings) - 1) ** 0.5)\n",
        "    return umap.UMAP(\n",
        "        n_neighbors=n_neighbors, n_components=dim, metric=metric\n",
        "    ).fit_transform(embeddings)"
      ]
    },
    {
      "cell_type": "markdown",
      "id": "df5067e0",
      "metadata": {},
      "source": [
        "The `local_cluster_embeddings` function performs local dimensionality reduction on embedding data.\n",
        "\n",
        "- The input embeddings (`embeddings`) are reduced to the specified dimension (`dim`) using UMAP.\n",
        "- During the dimensionality reduction process, the number of neighbors to consider for each point (`num_neighbors`) and the distance metric (`metric`) are used as parameters.\n",
        "- Finally, the reduced embeddings are returned as a numpy array."
      ]
    },
    {
      "cell_type": "code",
      "execution_count": 131,
      "id": "651941c1",
      "metadata": {},
      "outputs": [],
      "source": [
        "def local_cluster_embeddings(\n",
        "    embeddings: np.ndarray, dim: int, num_neighbors: int = 10, metric: str = \"cosine\"\n",
        ") -> np.ndarray:\n",
        "    \"\"\"\n",
        "    Performs local dimensionality reduction on embeddings. \n",
        "    This is typically used after global clustering.\n",
        "\n",
        "    Parameters:\n",
        "    - embeddings: Input embeddings as a numpy array.\n",
        "    - dim: Target dimensionality of the reduced space.\n",
        "    - num_neighbors: The number of neighbors to consider for each point.\n",
        "    - metric: The distance metric to use with UMAP.\n",
        "\n",
        "    Returns:\n",
        "    - A numpy array of embeddings reduced to the specified dimensionality.\n",
        "    \"\"\"\n",
        "    return umap.UMAP(\n",
        "        n_neighbors=num_neighbors, n_components=dim, metric=metric\n",
        "    ).fit_transform(embeddings)\n"
      ]
    },
    {
      "cell_type": "markdown",
      "id": "7570aad0",
      "metadata": {},
      "source": [
        "The `get_optimal_clusters` function is used to determine the optimal number of clusters based on the given embedding data. This is achieved by calculating the Bayesian Information Criterion (BIC) using the Gaussian Mixture Model (GMM).\n",
        "\n",
        "- The input embeddings are provided as a numpy array.\n",
        "- The maximum number of clusters (`max_clusters`) specifies the upper limit for the number of clusters to consider. The default value is 50.\n",
        "- A fixed `random_state` is used to ensure reproducibility.\n",
        "- The function iterates through multiple cluster numbers for the input embeddings and calculates the BIC value for each.\n",
        "- The number of clusters with the lowest BIC value is determined to be the optimal number of clusters and is returned.\n",
        "  \n",
        "This function automates the process of determining the optimal number of clusters that best represent the underlying data structure."
      ]
    },
    {
      "cell_type": "code",
      "execution_count": 132,
      "id": "262f2a48",
      "metadata": {},
      "outputs": [],
      "source": [
        "def get_optimal_clusters(\n",
        "    embeddings: np.ndarray, max_clusters: int = 50, random_state: int = RANDOM_SEED\n",
        ") -> int:\n",
        "    \"\"\"\n",
        "    Determines the optimal number of clusters using the Gaussian Mixture Model (GMM)\n",
        "    and the Bayesian Information Criterion (BIC).\n",
        "\n",
        "    Parameters:\n",
        "    - embeddings: Input embeddings as a numpy array.\n",
        "    - max_clusters: The maximum number of clusters to consider.\n",
        "    - random_state: A seed value for reproducibility.\n",
        "\n",
        "    Returns:\n",
        "    - An integer representing the optimal number of clusters.\n",
        "    \"\"\"\n",
        "    max_clusters = min(\n",
        "        max_clusters, len(embeddings)\n",
        "    )  # Set the maximum number of clusters to the smaller of max_clusters or the length of embeddings.\n",
        "    n_clusters = np.arange(1, max_clusters)  # Generate a range of cluster numbers from 1 to max_clusters.\n",
        "    bics = []  # List to store BIC scores.\n",
        "    for n in n_clusters:  # Iterate through each cluster number.\n",
        "        gm = GaussianMixture(\n",
        "            n_components=n, random_state=random_state\n",
        "        )  # Initialize a Gaussian Mixture Model with n components.\n",
        "        gm.fit(embeddings)  # Fit the model to the embeddings.\n",
        "        bics.append(gm.bic(embeddings))  # Add the BIC score of the fitted model to the list.\n",
        "    return n_clusters[np.argmin(bics)]  # Return the cluster number with the lowest BIC score.\n"
      ]
    },
    {
      "cell_type": "markdown",
      "id": "7a88ae15",
      "metadata": {},
      "source": [
        "The `GMM_cluster` function performs clustering on embeddings using a Gaussian Mixture Model (GMM). This process is based on a probability threshold.\n",
        "\n",
        "- The input embeddings are provided as a numpy array.\n",
        "- The `threshold` parameter specifies the probability threshold for assigning embeddings to specific clusters.\n",
        "- `random_state` is used to ensure reproducibility of the results.\n",
        "- The `get_optimal_clusters` function is called to determine the optimal number of clusters.\n",
        "- Based on the determined number of clusters, a Gaussian Mixture Model is initialized and trained on the input embeddings.\n",
        "- Cluster assignment probabilities are calculated for each embedding, and embeddings are assigned to clusters if their probability exceeds the given threshold.\n",
        "- The function returns a tuple of `(cluster_labels, num_clusters)`, where cluster labels contains the cluster assignments for each embedding."
      ]
    },
    {
      "cell_type": "code",
      "execution_count": 133,
      "id": "a5f24c43",
      "metadata": {},
      "outputs": [],
      "source": [
        "def GMM_cluster(embeddings: np.ndarray, threshold: float, random_state: int = 0):\n",
        "    \"\"\"\n",
        "    Clusters embeddings using a Gaussian Mixture Model (GMM) based on a probability threshold.\n",
        "\n",
        "    Parameters:\n",
        "    - embeddings: Input embeddings as a numpy array.\n",
        "    - threshold: Probability threshold for assigning embeddings to clusters.\n",
        "    - random_state: Seed for reproducibility.\n",
        "\n",
        "    Returns:\n",
        "    - A tuple containing the cluster labels and the determined number of clusters.\n",
        "    \"\"\"\n",
        "    n_clusters = get_optimal_clusters(embeddings)  # Determine the optimal number of clusters.\n",
        "    # Initialize the Gaussian Mixture Model.\n",
        "    gm = GaussianMixture(n_components=n_clusters, random_state=random_state)\n",
        "    gm.fit(embeddings)  # Train the model on the embeddings.\n",
        "    probs = gm.predict_proba(\n",
        "        embeddings\n",
        "    )  # Predict the probabilities of each embedding belonging to each cluster.\n",
        "    # Select clusters as labels where the probabilities exceed the threshold.\n",
        "    labels = [np.where(prob > threshold)[0] for prob in probs]\n",
        "    return labels, n_clusters  # Return the labels and the number of clusters.\n",
        "\n"
      ]
    },
    {
      "cell_type": "markdown",
      "id": "507a6411",
      "metadata": {},
      "source": [
        "The `perform_clustering` function performs dimensionality reduction, global clustering using a Gaussian Mixture Model (GMM), and local clustering within each global cluster to return clustering results.\n",
        "\n",
        "- **Dimensionality Reduction** : The input embeddings are reduced to a specified dimension (`dim`) using UMAP. This step prepares the embeddings for further clustering processes.\n",
        "- **Global Clustering** : Global clustering is performed on the reduced embeddings using a Gaussian Mixture Model (GMM). Cluster assignments are determined based on a specified probability threshold (`threshold`).\n",
        "- **Local Clustering** : Additional local clustering is performed within each global cluster. This involves applying dimensionality reduction and GMM clustering to embeddings that belong to each global cluster, based on the results of the global clustering.\n",
        "- **Final Output** : The function assigns global and local cluster IDs to all embeddings and returns a list of cluster IDs. This list contains the cluster assignments for each embedding in the order they appear.\n",
        "\n",
        "This function combines global and local clustering approaches to handle high-dimensional data, providing more granular clustering results. It is particularly effective for analyzing complex data structures and uncovering hierarchical patterns within the data."
      ]
    },
    {
      "cell_type": "code",
      "execution_count": 134,
      "id": "2b7cc29f",
      "metadata": {},
      "outputs": [],
      "source": [
        "def perform_clustering(\n",
        "    embeddings: np.ndarray,\n",
        "    dim: int,\n",
        "    threshold: float,\n",
        ") -> List[np.ndarray]:\n",
        "    \"\"\"\n",
        "    Performs dimensionality reduction, clustering using a Gaussian Mixture Model (GMM),\n",
        "    and local clustering within each global cluster, in sequence.\n",
        "\n",
        "    Parameters:\n",
        "    - embeddings: Input embeddings as a numpy array.\n",
        "    - dim: Target dimensionality for UMAP reduction.\n",
        "    - threshold: Probability threshold for assigning embeddings to clusters in GMM.\n",
        "\n",
        "    Returns:\n",
        "    - A list of numpy arrays containing cluster IDs for each embedding.\n",
        "    \"\"\"\n",
        "    if len(embeddings) <= dim + 1:\n",
        "        # Skip clustering if there is insufficient data.\n",
        "        return [np.array([0]) for _ in range(len(embeddings))]\n",
        "\n",
        "    # Global dimensionality reduction\n",
        "    reduced_embeddings_global = global_cluster_embeddings(embeddings, dim)\n",
        "    # Global clustering\n",
        "    global_clusters, n_global_clusters = GMM_cluster(\n",
        "        reduced_embeddings_global, threshold\n",
        "    )\n",
        "\n",
        "    all_local_clusters = [np.array([]) for _ in range(len(embeddings))]\n",
        "    total_clusters = 0\n",
        "\n",
        "    # Iterate through each global cluster to perform local clustering\n",
        "    for i in range(n_global_clusters):\n",
        "        # Extract embeddings belonging to the current global cluster\n",
        "        global_cluster_embeddings_ = embeddings[\n",
        "            np.array([i in gc for gc in global_clusters])\n",
        "        ]\n",
        "\n",
        "        if len(global_cluster_embeddings_) == 0:\n",
        "            continue\n",
        "        if len(global_cluster_embeddings_) <= dim + 1:\n",
        "            # Handle small clusters by direct assignment\n",
        "            local_clusters = [np.array([0]) for _ in global_cluster_embeddings_]\n",
        "            n_local_clusters = 1\n",
        "        else:\n",
        "            # Perform local dimensionality reduction and clustering\n",
        "            reduced_embeddings_local = local_cluster_embeddings(\n",
        "                global_cluster_embeddings_, dim\n",
        "            )\n",
        "            local_clusters, n_local_clusters = GMM_cluster(\n",
        "                reduced_embeddings_local, threshold\n",
        "            )\n",
        "\n",
        "        # Assign local cluster IDs, adjusting for already processed total clusters\n",
        "        for j in range(n_local_clusters):\n",
        "            local_cluster_embeddings_ = global_cluster_embeddings_[\n",
        "                np.array([j in lc for lc in local_clusters])\n",
        "            ]\n",
        "            indices = np.where(\n",
        "                (embeddings == local_cluster_embeddings_[:, None]).all(-1)\n",
        "            )[1]\n",
        "            for idx in indices:\n",
        "                all_local_clusters[idx] = np.append(\n",
        "                    all_local_clusters[idx], j + total_clusters\n",
        "                )\n",
        "\n",
        "        total_clusters += n_local_clusters\n",
        "\n",
        "    return all_local_clusters\n"
      ]
    },
    {
      "cell_type": "markdown",
      "id": "4db5a42b",
      "metadata": {},
      "source": [
        "Implement the function `embed` to generate embeddings for a list of text documents.\n",
        "\n",
        "- Takes a list of text documents (`texts`) as input.\n",
        "- Uses the `embed_documents` method of the `embd` object to generate embeddings for the text documents.\n",
        "- Converts the generated embeddings into a `numpy.ndarray` format and returns it."
      ]
    },
    {
      "cell_type": "code",
      "execution_count": 135,
      "id": "8e00f7b5",
      "metadata": {},
      "outputs": [],
      "source": [
        "def embed(texts):\n",
        "    # Generates embeddings for a list of text documents.\n",
        "    #\n",
        "    # This function assumes that the `embd` object exists, which has a method\n",
        "    # `embed_documents` that takes a list of texts and returns their embeddings.\n",
        "    #\n",
        "    # Parameters:\n",
        "    # - texts: List[str], a list of text documents to be embedded.\n",
        "    #\n",
        "    # Returns:\n",
        "    # - numpy.ndarray: An array of embeddings for the given text documents.\n",
        "    text_embeddings = embd.embed_documents(\n",
        "        texts\n",
        "    )  # Generate embeddings for the text documents.\n",
        "    text_embeddings_np = np.array(text_embeddings)  # Convert the embeddings to a numpy array.\n",
        "    return text_embeddings_np  # Return the embedded numpy array.\n",
        "\n"
      ]
    },
    {
      "cell_type": "markdown",
      "id": "212556dc",
      "metadata": {},
      "source": [
        "The `embed_cluster_texts` function embeds and clusters a list of texts, returning a `pandas.DataFrame` containing the original texts, their embeddings, and assigned cluster labels.\n",
        "\n",
        "- Generates embeddings for the given list of texts.\n",
        "- Performs clustering based on the generated embeddings using the predefined `perform_clustering` function.\n",
        "- Initializes a `pandas.DataFrame` to store the results.\n",
        "- Stores the original texts, embedding lists, and cluster labels in the DataFrame.\n",
        "\n",
        "This function combines the embedding generation and clustering of text data into a single step, facilitating the structural analysis and grouping of text data."
      ]
    },
    {
      "cell_type": "code",
      "execution_count": 136,
      "id": "4e40fb40",
      "metadata": {},
      "outputs": [],
      "source": [
        "def embed_cluster_texts(texts):\n",
        "    \"\"\"\n",
        "    Embeds and clusters a list of texts, returning a DataFrame containing the texts,\n",
        "    their embeddings, and the assigned cluster labels.\n",
        "\n",
        "    This function combines embedding generation and clustering into a single step.\n",
        "    It assumes the preexistence of the `perform_clustering` function, which performs\n",
        "    clustering on the generated embeddings.\n",
        "\n",
        "    Parameters:\n",
        "    - texts: List[str], a list of text documents to be processed.\n",
        "\n",
        "    Returns:\n",
        "    - pandas.DataFrame: A DataFrame containing the original texts, their embeddings,\n",
        "      and the assigned cluster labels.\n",
        "    \"\"\"\n",
        "    text_embeddings_np = embed(texts)  # Generate embeddings\n",
        "    cluster_labels = perform_clustering(\n",
        "        text_embeddings_np, 10, 0.1\n",
        "    )  # Perform clustering on the embeddings\n",
        "    df = pd.DataFrame()  # Initialize a DataFrame to store the results\n",
        "    df[\"text\"] = texts  # Store the original texts\n",
        "    df[\"embd\"] = list(text_embeddings_np)  # Store the embeddings as a list in the DataFrame\n",
        "    df[\"cluster\"] = cluster_labels  # Store the cluster labels\n",
        "    return df\n"
      ]
    },
    {
      "cell_type": "markdown",
      "id": "4508036f",
      "metadata": {},
      "source": [
        "The `fmt_txt` function formats text documents from a pandas DataFrame into a single string.\n",
        "\n",
        "- The input parameter is a DataFrame that must contain a `'text'` column with the text documents to be formatted.\n",
        "- All text documents are concatenated into a single string using a specific delimiter (`\"--- --- \\n --- ---\"`).\n",
        "- The function returns a single string containing the concatenated text documents."
      ]
    },
    {
      "cell_type": "code",
      "execution_count": 137,
      "id": "981e9750",
      "metadata": {},
      "outputs": [],
      "source": [
        "def fmt_txt(df: pd.DataFrame) -> str:\n",
        "    \"\"\"\n",
        "    Formats text documents from a DataFrame into a single string.\n",
        "\n",
        "    Parameters:\n",
        "    - df: A DataFrame containing text documents to be formatted in the 'text' column.\n",
        "\n",
        "    Returns:\n",
        "    - A single string with all text documents concatenated using a specific delimiter.\n",
        "    \"\"\"\n",
        "    unique_txt = df[\"text\"].tolist()  # Convert all texts in the 'text' column to a list\n",
        "    return \"--- --- \\n --- --- \".join(\n",
        "        unique_txt\n",
        "    )  # Concatenate the text documents using a specific delimiter and return"
      ]
    },
    {
      "cell_type": "markdown",
      "id": "1acc6a93",
      "metadata": {},
      "source": [
        "The `embed_cluster_summarize_texts` function involves embedding text data, clustering it, and generating summaries for each cluster.\n",
        "\n",
        "- **Embedding and Clustering** : The given list of texts is embedded, and clustering based on similarity is performed. The result is stored in the `df_clusters` DataFrame, which contains the original texts, embeddings, and cluster assignment information.\n",
        "- **Expanding the DataFrame** : To simplify cluster assignment handling, the DataFrame entries are expanded. Each row is transformed into a new DataFrame containing the text, embedding, and cluster assignment.\n",
        "- **Formatting and Summarizing** : Unique cluster identifiers are extracted from the expanded DataFrame. For each cluster, texts are formatted and cluster-specific summaries are generated. These summaries are stored in the `df_summary` DataFrame, which includes the summary for each cluster, a specified level of detail, and the cluster identifier.\n",
        "- **Return Value** : The function returns a tuple of `(df_clusters, df_summary)` where:\n",
        "  1. The first DataFrame includes the original texts, embeddings, and cluster assignments.\n",
        "  2. The second DataFrame contains the summaries for each cluster, their detail level, and cluster identifiers."
      ]
    },
    {
      "cell_type": "code",
      "execution_count": 138,
      "id": "4a4621aa",
      "metadata": {},
      "outputs": [],
      "source": [
        "def embed_cluster_summarize_texts(\n",
        "    texts: List[str], level: int\n",
        ") -> Tuple[pd.DataFrame, pd.DataFrame]:\n",
        "    \"\"\"\n",
        "    Performs embedding, clustering, and summarization for a list of texts.\n",
        "    This function generates embeddings for the texts, clusters them based on similarity,\n",
        "    expands cluster assignments for easier handling, and summarizes the content within each cluster.\n",
        "\n",
        "    Parameters:\n",
        "    - texts: A list of text documents to be processed.\n",
        "    - level: An integer parameter that defines the depth or level of detail for processing.\n",
        "\n",
        "    Returns:\n",
        "    - A tuple containing two DataFrames:\n",
        "      1. The first DataFrame (`df_clusters`) contains the original texts, their embeddings, and cluster assignments.\n",
        "      2. The second DataFrame (`df_summary`) contains summaries for each cluster, the specified level of detail, and cluster identifiers.\n",
        "    \"\"\"\n",
        "\n",
        "    # Embed the texts and cluster them to create a DataFrame with 'text', 'embd', and 'cluster' columns.\n",
        "    df_clusters = embed_cluster_texts(texts)\n",
        "\n",
        "    # Prepare to expand the DataFrame for easier manipulation of clusters.\n",
        "    expanded_list = []\n",
        "\n",
        "    # Expand the DataFrame entries into document-cluster pairs for simplified handling.\n",
        "    for index, row in df_clusters.iterrows():\n",
        "        for cluster in row[\"cluster\"]:\n",
        "            expanded_list.append(\n",
        "                {\"text\": row[\"text\"], \"embd\": row[\"embd\"], \"cluster\": cluster}\n",
        "            )\n",
        "\n",
        "    # Create a new DataFrame from the expanded list.\n",
        "    expanded_df = pd.DataFrame(expanded_list)\n",
        "\n",
        "    # Retrieve unique cluster identifiers for processing.\n",
        "    all_clusters = expanded_df[\"cluster\"].unique()\n",
        "\n",
        "    print(f\"--Generated {len(all_clusters)} clusters--\")\n",
        "\n",
        "    # Summarization template\n",
        "    template = \"\"\"Here is a subset of LangChain expression language documentation.\n",
        "\n",
        "    LangChain expression language provides a way to construct chains in LangChain.\n",
        "\n",
        "    Provide a detailed summary of the given documents.\n",
        "\n",
        "    Documents:\n",
        "    {context}\n",
        "    \"\"\"\n",
        "    prompt = ChatPromptTemplate.from_template(template)\n",
        "    chain = prompt | model | StrOutputParser()\n",
        "\n",
        "    # Format texts within each cluster for summarization.\n",
        "    summaries = []\n",
        "    for i in all_clusters:\n",
        "        df_cluster = expanded_df[expanded_df[\"cluster\"] == i]\n",
        "        formatted_txt = fmt_txt(df_cluster)\n",
        "        summaries.append(chain.invoke({\"context\": formatted_txt}))\n",
        "\n",
        "    # Create a DataFrame to store summaries, their clusters, and the level.\n",
        "    df_summary = pd.DataFrame(\n",
        "        {\n",
        "            \"summaries\": summaries,\n",
        "            \"level\": [level] * len(summaries),\n",
        "            \"cluster\": list(all_clusters),\n",
        "        }\n",
        "    )\n",
        "\n",
        "    return df_clusters, df_summary\n"
      ]
    },
    {
      "cell_type": "markdown",
      "id": "71efe38e",
      "metadata": {},
      "source": [
        "The `recursive_embed_cluster_summarize` function implements the process of recursively embedding, clustering, and summarizing text data.\n",
        "\n",
        "- The given list of `texts` is embedded, clustered, and summarized, with results stored at each step.\n",
        "- The function terminates when either the maximum recursion level is reached or the number of unique clusters reduces to 1.\n",
        "- At each recursion step, the clustering and summarization results for the current level are returned as DataFrames and stored in a results dictionary.\n",
        "- If the current level is less than the maximum recursion level and the number of unique clusters is greater than 1, the summary results from the current level are used as the input texts for the next level, and the function is called recursively.\n",
        "- Finally, the function returns a dictionary containing the cluster DataFrames and summary DataFrames for each recursion level."
      ]
    },
    {
      "cell_type": "code",
      "execution_count": 139,
      "id": "e0bf0303",
      "metadata": {},
      "outputs": [],
      "source": [
        "def recursive_embed_cluster_summarize(\n",
        "    texts: List[str], level: int = 1, n_levels: int = 3\n",
        ") -> Dict[int, Tuple[pd.DataFrame, pd.DataFrame]]:\n",
        "    \"\"\"\n",
        "    Recursively embeds, clusters, and summarizes texts up to a specified level or until the number of unique clusters becomes 1,\n",
        "    saving the results for each level.\n",
        "\n",
        "    Parameters:\n",
        "    - texts: List[str], the texts to process.\n",
        "    - level: int, the current recursion level (starting from 1).\n",
        "    - n_levels: int, the maximum depth of recursion.\n",
        "\n",
        "    Returns:\n",
        "    - Dict[int, Tuple[pd.DataFrame, pd.DataFrame]], a dictionary where the keys represent the recursion level,\n",
        "      and the values are tuples containing the cluster DataFrame and the summary DataFrame for that level.\n",
        "    \"\"\"\n",
        "    results = {}  # Dictionary to store results for each level\n",
        "\n",
        "    # Perform embedding, clustering, and summarization for the current level\n",
        "    df_clusters, df_summary = embed_cluster_summarize_texts(texts, level)\n",
        "\n",
        "    # Save the results for the current level\n",
        "    results[level] = (df_clusters, df_summary)\n",
        "\n",
        "    # Determine if further recursion is possible and meaningful\n",
        "    unique_clusters = df_summary[\"cluster\"].nunique()\n",
        "    if level < n_levels and unique_clusters > 1:\n",
        "        # Use summaries as the input texts for the next level of recursion\n",
        "        new_texts = df_summary[\"summaries\"].tolist()\n",
        "        next_level_results = recursive_embed_cluster_summarize(\n",
        "            new_texts, level + 1, n_levels\n",
        "        )\n",
        "\n",
        "        # Merge the results of the next level into the current results dictionary\n",
        "        results.update(next_level_results)\n",
        "\n",
        "    return results\n"
      ]
    },
    {
      "cell_type": "code",
      "execution_count": 140,
      "metadata": {},
      "outputs": [
        {
          "data": {
            "text/plain": [
              "3"
            ]
          },
          "execution_count": 140,
          "metadata": {},
          "output_type": "execute_result"
        }
      ],
      "source": [
        "# Total number of documents\n",
        "len(docs_texts)"
      ]
    },
    {
      "cell_type": "code",
      "execution_count": 141,
      "id": "057069d2",
      "metadata": {},
      "outputs": [
        {
          "name": "stdout",
          "output_type": "stream",
          "text": [
            "--Generated 1 clusters--\n",
            "The provided documents offer a comprehensive overview of the LangChain Expression Language (LCEL), detailing its functionalities, benefits, and specific use cases such as output parsing and self-querying retrieval. Here's a detailed summary of the key points from each document:\n",
            "\n",
            "### LangChain Expression Language (LCEL)\n",
            "\n",
            "- **Introduction**: LCEL is designed for constructing new Runnables from existing ones in a declarative manner, focusing on what should happen rather than how. This approach allows for optimized runtime execution.\n",
            "- **Benefits**: LCEL enables optimized parallel execution, guaranteed async support, simplified streaming, seamless LangSmith tracing for observability, a standard API for Runnables, and deployability with LangServe.\n",
            "- **Usage Recommendations**: LCEL is best for simpler orchestration tasks. For complex state management, branching, cycles, or multiple agents, LangGraph is recommended.\n",
            "- **Composition Primitives**: The document introduces RunnableSequence and RunnableParallel as the main composition primitives, with examples on how to use them for chaining Runnables sequentially or running them concurrently.\n",
            "- **Composition Syntax**: LCEL introduces shorthand syntax for common operations, such as the `|` operator for creating RunnableSequences and `.pipe` method as an alternative.\n",
            "- **Coercion**: Automatic type coercion is applied within LCEL expressions to simplify chain composition, with examples provided for dictionary to RunnableParallel and function to RunnableLambda conversions.\n",
            "- **Legacy Chains**: LCEL aims to provide a more customizable and consistent approach compared to legacy subclassed chains like LLMChain and ConversationalRetrievalChain.\n",
            "\n",
            "### How to Use Output Parsers to Parse an LLM Response into Structured Format\n",
            "\n",
            "- **Purpose**: Output parsers transform language model (LLM) text responses into structured formats.\n",
            "- **Main Types**: The document focuses on the PydanticOutputParser, which uses Pydantic models for defining the desired data structure and parsing logic.\n",
            "- **Implementation**: It provides a step-by-step guide on setting up a PydanticOutputParser, including defining a data model, setting up a parser, and invoking the parser to structure LLM responses.\n",
            "- **LCEL Integration**: Output parsers implement the Runnable interface, allowing them to be seamlessly integrated into LCEL chains for streamlined data processing.\n",
            "\n",
            "### Self-querying\n",
            "\n",
            "- **Concept**: Self-querying retrievers can query themselves using a query-constructing LLM chain to write structured queries applied to an underlying VectorStore.\n",
            "- **Setup**: The document outlines the process of creating a self-querying retriever, including specifying metadata fields, document content descriptions, and instantiating the retriever with these configurations.\n",
            "- **Usage**: Examples demonstrate how to use the self-querying retriever for various query types, including filters and composite filters.\n",
            "- **Advanced Configuration**: For users seeking more control, the document explains how to construct a self-querying retriever from scratch using LCEL, detailing the creation of a query-construction chain and structured query translator.\n",
            "\n",
            "Overall, these documents provide a thorough guide on leveraging LCEL for building efficient, scalable, and customizable chains within the LangChain framework, highlighting specific applications like output parsing and self-querying retrieval to enhance data processing and retrieval capabilities."
          ]
        }
      ],
      "source": [
        "# Tree Construction\n",
        "leaf_texts = docs_texts  # Set document texts as leaf texts\n",
        "results = recursive_embed_cluster_summarize(\n",
        "    leaf_texts, level=1, n_levels=3\n",
        ")  # Perform recursive embedding, clustering, and summarization to obtain results"
      ]
    },
    {
      "cell_type": "markdown",
      "id": "675e8279",
      "metadata": {},
      "source": [
        "In the paper, collapsed tree retrieval is reported to achieve the best performance.\n",
        "\n",
        "This involves flattening the tree structure into a single layer, followed by applying k-Nearest Neighbor (kNN) retrieval across all nodes simultaneously.\n",
        "\n",
        "Below is a simplified explanation of this process.\n",
        "\n",
        "The process of building a vectorized and searchable Chroma vector store using text data is described as follows:\n",
        "\n",
        "1. The text data stored in `leaf_texts` is initially copied to the `all_texts` variable.\n",
        "2. The result data (`results`) is iterated through, extracting the summarized texts at each level and appending them to `all_texts`.\n",
        "3. The `summaries` column from the DataFrame at each level is converted into a list and extracted.\n",
        "4. The extracted summaries are added to `all_texts`.\n",
        "5. Using all the text data (`all_texts`), a Chroma vector store is constructed.\n",
        "6. The `Chroma.from_texts` function is called to vectorize the text data and create the vector store.\n",
        "7. To make the generated vector store searchable, the `.as_retriever()` method is used to initialize a retriever.\n",
        "\n",
        "Through this process, text data, including summaries from various levels, is vectorized and used to build a searchable `Chroma` vector store."
      ]
    },
    {
      "cell_type": "code",
      "execution_count": 90,
      "id": "cae7e8c4",
      "metadata": {},
      "outputs": [],
      "source": [
        "from langchain_community.vectorstores import FAISS\n",
        "\n",
        "# Initialize all_texts by copying leaf_texts.\n",
        "all_texts = leaf_texts.copy()\n",
        "\n",
        "# Iterate through the results to extract summaries from each level and add them to all_texts.\n",
        "for level in sorted(results.keys()):\n",
        "    # Extract summaries from the DataFrame of the current level.\n",
        "    summaries = results[level][1][\"summaries\"].tolist()\n",
        "    # Add the current level's summaries to all_texts.\n",
        "    all_texts.extend(summaries)\n",
        "\n",
        "# Now, use all_texts to build a FAISS vectorstore.\n",
        "vectorstore = FAISS.from_texts(texts=all_texts, embedding=embd)"
      ]
    },
    {
      "cell_type": "markdown",
      "id": "b9954ffe",
      "metadata": {},
      "source": [
        "The code below saves the database locally."
      ]
    },
    {
      "cell_type": "code",
      "execution_count": 63,
      "id": "f045d865",
      "metadata": {},
      "outputs": [],
      "source": [
        "import os\n",
        "\n",
        "DB_INDEX = \"RAPTOR\"\n",
        "\n",
        "# Check if the FAISS DB index already exists locally. If it does, load it, merge it with the current vectorstore, and save it back.\n",
        "if os.path.exists(DB_INDEX):\n",
        "    local_index = FAISS.load_local(DB_INDEX, embd)\n",
        "    local_index.merge_from(vectorstore)\n",
        "    local_index.save_local(DB_INDEX)\n",
        "else:\n",
        "    vectorstore.save_local(folder_path=DB_INDEX)"
      ]
    },
    {
      "cell_type": "markdown",
      "id": "4a5aada3",
      "metadata": {},
      "source": [
        "[NOTE]\n",
        "\n",
        "The following error may occur when using `FAISS.load_local` :\n",
        "\n",
        "```bash\n",
        "\n",
        "ValueError: The de-serialization relies on loading a pickle file. Pickle files can be modified to deliver a malicious payload that results in execution of arbitrary code on your machine. You will need to set allow_dangerous_deserialization to True to enable deserialization. If you do this, make sure that you trust the source of the data. For example, if you are loading a file that you created, and know that no one else has modified the file, then this is safe to do. Do not set this to True if you are loading a file from an untrusted source (e.g., some random site on the internet.).\n",
        "\n",
        "```\n",
        "\n",
        "#### Why the Error Occurs\n",
        "The FAISS.load_local method uses pickle files for deserialization, which can pose a security risk. Pickle files may execute malicious code if tampered with, so deserialization is disabled by default unless explicitly enabled.\n",
        "\n",
        "#### How to Fix the Error\n",
        "If you trust the source of the pickle file, you can safely enable deserialization by setting `allow_dangerous_deserialization=True` :\n",
        "\n",
        "```\n",
        "local_index = FAISS.load_local(\n",
        "    DB_INDEX, \n",
        "    embd, \n",
        "    allow_dangerous_deserialization=True\n",
        ")\n",
        "```\n",
        "\n",
        "[Warning]\n",
        "\n",
        "- Only enable `allow_dangerous_deserialization=True` if:\n",
        "  1. The pickle file was created by you.\n",
        "  2. You are certain that the file has not been tampered with by others.\n",
        "- **Do not enable this for files from untrusted or unknown sources.** "
      ]
    },
    {
      "cell_type": "code",
      "execution_count": 91,
      "id": "7b5ae65c",
      "metadata": {},
      "outputs": [],
      "source": [
        "# Create a retriever\n",
        "retriever = vectorstore.as_retriever()"
      ]
    },
    {
      "cell_type": "markdown",
      "id": "e0b3d428",
      "metadata": {},
      "source": [
        "Implement the process of defining a Retrieval Augmented Generation (RAG) chain and handling a specific code example request.\n",
        "\n",
        "- Use `hub.pull` to fetch the RAG prompt.\n",
        "- Define the `format_docs` function for document formatting. This function concatenates the page content of documents and returns it.\n",
        "- Construct the RAG chain. This chain retrieves context from the retriever, formats it using the `format_docs` function, and processes the question.\n",
        "- Use `RunnablePassthrough()` to pass the question directly through.\n",
        "- The chain parses the final output into a string using the prompt, model, and `StrOutputParser()`.\n",
        "- Use the `rag_chain.invoke` method to process the question: \"How to define a RAG chain? Give me a specific code example.\""
      ]
    },
    {
      "cell_type": "code",
      "execution_count": 92,
      "id": "015f4a16",
      "metadata": {},
      "outputs": [],
      "source": [
        "from langchain import hub\n",
        "from langchain_core.runnables import RunnablePassthrough\n",
        "\n",
        "# Generate the prompt\n",
        "prompt = hub.pull(\"rlm/rag-prompt\")\n",
        "\n",
        "# Document post-processing\n",
        "\n",
        "\n",
        "def format_docs(docs):\n",
        "    # Concatenate the page content of documents and return it.\n",
        "    return \"\\n\\n\".join(doc.page_content for doc in docs)\n",
        "\n",
        "\n",
        "# Define the RAG chain\n",
        "rag_chain = (\n",
        "    # Format the search results and process the question.\n",
        "    {\"context\": retriever | format_docs, \"question\": RunnablePassthrough()}\n",
        "    | prompt  # Apply the prompt.\n",
        "    | model  # Apply the model.\n",
        "    | StrOutputParser()  # Apply the string output parser.\n",
        ")"
      ]
    },
    {
      "cell_type": "code",
      "execution_count": 66,
      "id": "81153bf9",
      "metadata": {},
      "outputs": [
        {
          "name": "stdout",
          "output_type": "stream",
          "text": [
            "The core topics of the entire document revolve around the LangChain Expression Language (LCEL), its key features, practical applications, and how it integrates with LangChain for optimizing language model workflows. LCEL is designed for constructing and optimizing chains in LangChain, supporting parallel execution, asynchronous operations, simplified streaming, seamless integration, and debugging, along with a standard API for ease of use. The document also covers when to use LCEL, its composition primitives, output parsers, self-querying capabilities, and provides examples of practical applications, highlighting its efficiency, scalability, and ease of use for developers."
          ]
        }
      ],
      "source": [
        "# Execute an abstract question\n",
        "_ = rag_chain.invoke(\"Explain the core topics of the entire document.\")"
      ]
    },
    {
      "cell_type": "markdown",
      "id": "c4f6ae66",
      "metadata": {},
      "source": [
        "The link below provides the result of the code execution using the LangChain framework:  \n",
        "- [View the Result on LangSmith](https://smith.langchain.com/public/6271c797-9d6b-40df-9a30-a9fc1b9b63df/r)"
      ]
    },
    {
      "cell_type": "code",
      "execution_count": 93,
      "id": "d7515223",
      "metadata": {},
      "outputs": [
        {
          "name": "stdout",
          "output_type": "stream",
          "text": [
            "```python\n",
            "from langchain_core.output_parsers import PydanticOutputParser\n",
            "from langchain_core.prompts import PromptTemplate\n",
            "from langchain_openai import OpenAI\n",
            "from pydantic import BaseModel, Field, model_validator\n",
            "\n",
            "model = OpenAI(model_name=\"gpt-3.5-turbo-instruct\", temperature=0.0)\n",
            "\n",
            "class Joke(BaseModel):\n",
            "    setup: str = Field(description=\"question to set up a joke\")\n",
            "    punchline: str = Field(description=\"answer to resolve the joke\")\n",
            "    \n",
            "    @model_validator(mode=\"before\")\n",
            "    @classmethod\n",
            "    def question_ends_with_question_mark(cls, values: dict) -> dict:\n",
            "        setup = values.get(\"setup\")\n",
            "        if setup and setup[-1] != \"?\":\n",
            "            raise ValueError(\"Badly formed question!\")\n",
            "        return values\n",
            "\n",
            "parser = PydanticOutputParser(pydantic_object=Joke)\n",
            "prompt = PromptTemplate(\n",
            "    template=\"Answer the user query.\\n{format_instructions}\\n{query}\\n\",\n",
            "    input_variables=[\"query\"],\n",
            "    partial_variables={\"format_instructions\": parser.get_format_instructions()},\n",
            ")\n",
            "\n",
            "prompt_and_model = prompt | model\n",
            "output = prompt_and_model.invoke({\"query\": \"Tell me a joke.\"})\n",
            "parser.invoke(output)\n",
            "```"
          ]
        }
      ],
      "source": [
        "# Execute a low-level question\n",
        "_ = rag_chain.invoke(\"Write an example code using PydanticOutputParser.\")"
      ]
    },
    {
      "cell_type": "markdown",
      "id": "08d20bc3",
      "metadata": {},
      "source": [
        "The link below provides the result of the code execution using the LangChain framework:  \n",
        "- [View the Result on LangSmith](https://smith.langchain.com/public/f0998a14-317b-45c3-ab20-6d1f250cbfdf/r)"
      ]
    },
    {
      "cell_type": "code",
      "execution_count": 94,
      "id": "7e6cec81",
      "metadata": {},
      "outputs": [
        {
          "name": "stdout",
          "output_type": "stream",
          "text": [
            "The self-querying method involves a retriever that can query itself by using a query-constructing LLM chain to write a structured query, which is then applied to its underlying VectorStore. This process allows the retriever to perform semantic similarity comparisons and execute metadata-based filters on stored documents. Here's an example code snippet demonstrating the creation and use of a self-querying retriever:\n",
            "\n",
            "```python\n",
            "from langchain.chains.query_constructor.base import AttributeInfo\n",
            "from langchain.retrievers.self_query.base import SelfQueryRetriever\n",
            "from langchain_openai import ChatOpenAI\n",
            "\n",
            "# Metadata fields and document content description\n",
            "metadata_field_info = [\n",
            "    AttributeInfo(name=\"genre\", description=\"The genre of the movie.\", type=\"string\"),\n",
            "    AttributeInfo(name=\"year\", description=\"The year the movie was released\", type=\"integer\"),\n",
            "    AttributeInfo(name=\"director\", description=\"The name of the movie director\", type=\"string\"),\n",
            "    AttributeInfo(name=\"rating\", description=\"A 1-10 rating for the movie\", type=\"float\"),\n",
            "]\n",
            "document_content_description = \"Brief summary of a movie\"\n",
            "\n",
            "# Instantiate the LLM and the self-querying retriever\n",
            "llm = ChatOpenAI(temperature=0)\n",
            "retriever = SelfQueryRetriever.from_llm(\n",
            "    llm,\n",
            "    vectorstore,\n",
            "    document_content_description,\n",
            "    metadata_field_info,\n",
            ")\n",
            "\n",
            "# Example query\n",
            "retriever.invoke(\"What's a highly rated (above 8.5) science fiction film?\")\n",
            "```\n",
            "\n",
            "This code sets up a self-querying retriever with specified metadata fields for movies, then uses it to find highly rated science fiction films."
          ]
        }
      ],
      "source": [
        "# Execute a low-level question\n",
        "_ = rag_chain.invoke(\"Explain the self-querying method and write an example code.\")"
      ]
    },
    {
      "cell_type": "markdown",
      "id": "9bcaceaf",
      "metadata": {},
      "source": [
        "The link below provides the result of the code execution using the LangChain framework:  \n",
        "- [View the Result on LangSmith](https://smith.langchain.com/public/91bdecc2-33c8-4c50-9e3a-fdea98101a36/r)"
      ]
    }
  ],
  "metadata": {
    "kernelspec": {
      "display_name": "langchain-kr-lwwSZlnu-py3.11",
      "language": "python",
      "name": "python3"
    },
    "language_info": {
      "codemirror_mode": {
        "name": "ipython",
        "version": 3
      },
      "file_extension": ".py",
      "mimetype": "text/x-python",
      "name": "python",
      "nbconvert_exporter": "python",
      "pygments_lexer": "ipython3",
      "version": "3.11.11"
    }
  },
  "nbformat": 4,
  "nbformat_minor": 5
}
