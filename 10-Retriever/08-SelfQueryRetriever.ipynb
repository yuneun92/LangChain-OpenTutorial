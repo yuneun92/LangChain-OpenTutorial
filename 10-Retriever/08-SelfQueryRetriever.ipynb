{
 "cells": [
  {
   "cell_type": "markdown",
   "id": "5a03e0f7",
   "metadata": {},
   "source": [
    "# Self-querying\n",
    "- Author: [Hye-yoon Jeong](https://github.com/Hye-yoonJeong)\n",
    "- Peer Review: \n",
    "- Proofread:\n",
    "- This is a part of [LangChain Open Tutorial](https://github.com/LangChain-OpenTutorial/LangChain-OpenTutorial)\n",
    "\n",
    "[![Open in Colab](https://colab.research.google.com/assets/colab-badge.svg)](https://colab.research.google.com/github/LangChain-OpenTutorial/LangChain-OpenTutorial/blob/main/10-Retriever/08-SelfQueryRetriever.ipynb) [![Open in GitHub](https://img.shields.io/badge/Open%20in%20GitHub-181717?style=flat-square&logo=github&logoColor=white)](https://github.com/LangChain-OpenTutorial/LangChain-OpenTutorial/blob/main/10-Retriever/08-SelfQueryRetriever.ipynb)\n",
    "\n",
    "## Overview\n",
    "\n",
    "`SelfQueryRetriever` is a retriever equipped with the capability to generate and resolve queries autonomously.\n",
    "\n",
    "`SelfQueryRetriever` converts the natural language input provided by the user into a **structured query** using a **query-constructing LLM chain** . This **structured query** is then used to retrieve documents from the **vector store** .\n",
    "\n",
    "Through this process, `SelfQueryRetriever` goes beyond merely comparing the user's input query with the content of stored documents semantically, and **extracts filters on the metadata** from the user's query and executes those filters to retrieve relevant documents.\n",
    "\n",
    "The list of **self-querying retrievers** supported by LangChain can be found [here](https://python.langchain.com/docs/integrations/retrievers/self_query).\n",
    "\n",
    "### Table of Contents\n",
    "\n",
    "- [Overview](#overview)\n",
    "- [Environment Setup](#environment-setup)\n",
    "- [Sample Data](#sample-data)\n",
    "- [SelfQueryRetriever](#selfqueryretriever)\n",
    "- [Query Constructor Chain](#query-constructor-chain)\n",
    "\n",
    "### References\n",
    "- [LangChain Documentation: Self-querying retrievers](https://python.langchain.com/docs/integrations/retrievers/self_query)\n",
    "- [LangChain cookbook: Building hotel room search with self-querying retrieval](https://github.com/langchain-ai/langchain/blob/master/cookbook/self_query_hotel_search.ipynb)\n",
    "----"
   ]
  },
  {
   "cell_type": "markdown",
   "id": "0644bc3d",
   "metadata": {},
   "source": [
    "## Environment Setup\n",
    "\n",
    "Set up the environment. You may refer to [Environment Setup](https://wikidocs.net/257836) for more details.\n",
    "\n",
    "**[Note]**\n",
    "- `langchain-opentutorial` is a package that provides a set of easy-to-use environment setup, useful functions and utilities for tutorials. \n",
    "- You can checkout the [`langchain-opentutorial`](https://github.com/LangChain-OpenTutorial/langchain-opentutorial-pypi) for more details."
   ]
  },
  {
   "cell_type": "code",
   "execution_count": 1,
   "id": "708af283",
   "metadata": {},
   "outputs": [
    {
     "name": "stderr",
     "output_type": "stream",
     "text": [
      "\n",
      "[notice] A new release of pip is available: 24.1 -> 24.3.1\n",
      "[notice] To update, run: python.exe -m pip install --upgrade pip\n"
     ]
    }
   ],
   "source": [
    "%%capture --no-stderr\n",
    "%pip install langchain-opentutorial"
   ]
  },
  {
   "cell_type": "code",
   "execution_count": 2,
   "id": "7f5afca3",
   "metadata": {},
   "outputs": [],
   "source": [
    "# Install required packages\n",
    "from langchain_opentutorial import package\n",
    "\n",
    "package.install(\n",
    "    [\n",
    "        \"langsmith\",\n",
    "        \"langchain\",\n",
    "        \"langchain_core\",\n",
    "        \"langchain_openai\",\n",
    "        \"langchain_chroma\",\n",
    "        \"langchain_community\",\n",
    "    ],\n",
    "    verbose=False,\n",
    "    upgrade=False,\n",
    ")"
   ]
  },
  {
   "cell_type": "code",
   "execution_count": 3,
   "id": "fdad08ab",
   "metadata": {},
   "outputs": [
    {
     "data": {
      "text/plain": [
       "True"
      ]
     },
     "execution_count": 3,
     "metadata": {},
     "output_type": "execute_result"
    }
   ],
   "source": [
    "from dotenv import load_dotenv\n",
    "\n",
    "load_dotenv(override=True)"
   ]
  },
  {
   "cell_type": "code",
   "execution_count": 4,
   "id": "46f2214a",
   "metadata": {},
   "outputs": [
    {
     "name": "stdout",
     "output_type": "stream",
     "text": [
      "Environment variables have been set successfully.\n"
     ]
    }
   ],
   "source": [
    "# Set environment variables\n",
    "from langchain_opentutorial import set_env\n",
    "\n",
    "set_env(\n",
    "    {\n",
    "        # \"OPENAI_API_KEY\": \"\",\n",
    "        # \"LANGCHAIN_API_KEY\": \"\",\n",
    "        \"LANGCHAIN_TRACING_V2\": \"true\",\n",
    "        \"LANGCHAIN_ENDPOINT\": \"https://api.smith.langchain.com\",\n",
    "        \"LANGCHAIN_PROJECT\": \"Self-querying\",\n",
    "    }\n",
    ")"
   ]
  },
  {
   "cell_type": "code",
   "execution_count": 5,
   "id": "e7631e88",
   "metadata": {},
   "outputs": [
    {
     "name": "stdout",
     "output_type": "stream",
     "text": [
      "Requirement already satisfied: lark in c:\\users\\hyj89\\appdata\\local\\pypoetry\\cache\\virtualenvs\\langchain-kr-arohchi8-py3.11\\lib\\site-packages (1.2.2)\n",
      "Note: you may need to restart the kernel to use updated packages.\n"
     ]
    },
    {
     "name": "stderr",
     "output_type": "stream",
     "text": [
      "\n",
      "[notice] A new release of pip is available: 24.1 -> 24.3.1\n",
      "[notice] To update, run: python.exe -m pip install --upgrade pip\n"
     ]
    }
   ],
   "source": [
    "%pip install lark"
   ]
  },
  {
   "cell_type": "markdown",
   "id": "468e6696",
   "metadata": {},
   "source": [
    "## Sample Data\n",
    "\n",
    "Let's build a vector store that enables similarity search based on the descriptions and metadata of some cosmetic products."
   ]
  },
  {
   "cell_type": "code",
   "execution_count": 6,
   "id": "19f836a1",
   "metadata": {},
   "outputs": [],
   "source": [
    "from langchain_chroma import Chroma\n",
    "from langchain_core.documents import Document\n",
    "from langchain_openai import OpenAIEmbeddings\n",
    "\n",
    "# Generate sample data with the descriptions and metadata of cosmetic products.\n",
    "docs = [\n",
    "    Document(\n",
    "        page_content=\"A hyaluronic acid serum packed with moisture, delivering hydration deep into the skin.\",\n",
    "        metadata={\"year\": 2024, \"category\": \"Skincare\", \"user_rating\": 4.7},\n",
    "    ),\n",
    "    Document(\n",
    "        page_content=\"A matte-finish foundation with 24-hour wear, covering pores and providing a natural skin appearance.\",\n",
    "        metadata={\"year\": 2023, \"category\": \"Makeup\", \"user_rating\": 4.5},\n",
    "    ),\n",
    "    Document(\n",
    "        page_content=\"A hypoallergenic cleansing oil made with plant-based ingredients, gently removes makeup and impurities.\",\n",
    "        metadata={\"year\": 2023, \"category\": \"Cleansers\", \"user_rating\": 4.8},\n",
    "    ),\n",
    "    Document(\n",
    "        page_content=\"A brightening cream with vitamin C, brightens dull skin tones for a radiant complexion.\",\n",
    "        metadata={\"year\": 2023, \"category\": \"Skincare\", \"user_rating\": 4.6},\n",
    "    ),\n",
    "    Document(\n",
    "        page_content=\"A long-lasting lipstick with vivid color payoff and a moisturizing texture for all-day comfort.\",\n",
    "        metadata={\"year\": 2024, \"category\": \"Makeup\", \"user_rating\": 4.4},\n",
    "    ),\n",
    "    Document(\n",
    "        page_content=\"A tone-up sunscreen with SPF50+/PA++++, offering high UV protection and keeping the skin safe.\",\n",
    "        metadata={\"year\": 2024, \"category\": \"Sunscreen\", \"user_rating\": 4.9},\n",
    "    ),\n",
    "]\n",
    "\n",
    "# Build a vector store\n",
    "vectorstore = Chroma.from_documents(\n",
    "    docs, OpenAIEmbeddings(model=\"text-embedding-3-small\")\n",
    ")"
   ]
  },
  {
   "cell_type": "markdown",
   "id": "781d49bf",
   "metadata": {},
   "source": [
    "## SelfQueryRetriever\n",
    "\n",
    "To instantiate the `retriever` , you need to define **metadata fields** and **a brief description of the document contents** in advance using the `AttributeInfo` class.\n",
    "\n",
    "In this example, the metadata for cosmetic products is defined as follows:\n",
    "\n",
    "- `category` : String type, represents the category of the cosmetic product and takes one of the following values: ['Skincare', 'Makeup', 'Cleansers', 'Sunscreen'].\n",
    "- `year` : Integer type, represents the year the cosmetic product was released.\n",
    "- `user_rating` : Float type, represents the user rating in the range of 1 to 5."
   ]
  },
  {
   "cell_type": "code",
   "execution_count": 7,
   "id": "8dd17e37",
   "metadata": {},
   "outputs": [],
   "source": [
    "from langchain.chains.query_constructor.schema import AttributeInfo\n",
    "\n",
    "# Generate metadata field\n",
    "metadata_field_info = [\n",
    "    AttributeInfo(\n",
    "        name=\"category\",\n",
    "        description=\"The category of the cosmetic product. One of ['Skincare', 'Makeup', 'Cleansers', 'Sunscreen']\",\n",
    "        type=\"string\",\n",
    "    ),\n",
    "    AttributeInfo(\n",
    "        name=\"year\",\n",
    "        description=\"The year the cosmetic product was released\",\n",
    "        type=\"integer\",\n",
    "    ),\n",
    "    AttributeInfo(\n",
    "        name=\"user_rating\",\n",
    "        description=\"A user rating for the cosmetic product, ranging from 1 to 5\",\n",
    "        type=\"float\",\n",
    "    ),\n",
    "]"
   ]
  },
  {
   "cell_type": "markdown",
   "id": "00be94e2",
   "metadata": {},
   "source": [
    "Create `retriever` object with `SelfQueryRetriever.from_llm` method.\n",
    "\n",
    "- `llm`: Large language model\n",
    "- `vectorstore`: Vector store\n",
    "- `document_contents`: Description of the contents of the documents\n",
    "- `metadata_field_info`: Metadata field information"
   ]
  },
  {
   "cell_type": "code",
   "execution_count": 8,
   "id": "b1fb20bf",
   "metadata": {},
   "outputs": [],
   "source": [
    "from langchain.retrievers.self_query.base import SelfQueryRetriever\n",
    "from langchain_openai import ChatOpenAI\n",
    "\n",
    "# Define the LLM to use\n",
    "llm = ChatOpenAI(model=\"gpt-4o-mini\", temperature=0)\n",
    "\n",
    "# Create SelfQueryRetriever\n",
    "retriever = SelfQueryRetriever.from_llm(\n",
    "    llm=llm,\n",
    "    vectorstore=vectorstore,\n",
    "    document_contents=\"Brief summary of a cosmetic product\",\n",
    "    metadata_field_info=metadata_field_info,\n",
    ")"
   ]
  },
  {
   "cell_type": "markdown",
   "id": "a4fa4817",
   "metadata": {},
   "source": [
    "Now, let's test this `SelfQueryRetriever` with some example queries."
   ]
  },
  {
   "cell_type": "code",
   "execution_count": 9,
   "id": "a59b1e5c",
   "metadata": {},
   "outputs": [
    {
     "data": {
      "text/plain": [
       "[Document(metadata={'category': 'Cleansers', 'user_rating': 4.8, 'year': 2023}, page_content='A hypoallergenic cleansing oil made with plant-based ingredients, gently removes makeup and impurities.'),\n",
       " Document(metadata={'category': 'Sunscreen', 'user_rating': 4.9, 'year': 2024}, page_content='A tone-up sunscreen with SPF50+/PA++++, offering high UV protection and keeping the skin safe.')]"
      ]
     },
     "execution_count": 9,
     "metadata": {},
     "output_type": "execute_result"
    }
   ],
   "source": [
    "# Self-query retrieval\n",
    "retriever.invoke(\"Please recommend products with a rating of 4.8 or higher.\")"
   ]
  },
  {
   "cell_type": "code",
   "execution_count": 10,
   "id": "0cf6368b",
   "metadata": {},
   "outputs": [
    {
     "data": {
      "text/plain": [
       "[Document(metadata={'category': 'Cleansers', 'user_rating': 4.8, 'year': 2023}, page_content='A hypoallergenic cleansing oil made with plant-based ingredients, gently removes makeup and impurities.'),\n",
       " Document(metadata={'category': 'Skincare', 'user_rating': 4.6, 'year': 2023}, page_content='A brightening cream with vitamin C, brightens dull skin tones for a radiant complexion.'),\n",
       " Document(metadata={'category': 'Makeup', 'user_rating': 4.5, 'year': 2023}, page_content='A matte-finish foundation with 24-hour wear, covering pores and providing a natural skin appearance.')]"
      ]
     },
     "execution_count": 10,
     "metadata": {},
     "output_type": "execute_result"
    }
   ],
   "source": [
    "# Self-query retrieval\n",
    "retriever.invoke(\"Please recommend products released in 2023.\")"
   ]
  },
  {
   "cell_type": "code",
   "execution_count": 11,
   "id": "172ddf61",
   "metadata": {},
   "outputs": [
    {
     "data": {
      "text/plain": [
       "[Document(metadata={'category': 'Sunscreen', 'user_rating': 4.9, 'year': 2024}, page_content='A tone-up sunscreen with SPF50+/PA++++, offering high UV protection and keeping the skin safe.')]"
      ]
     },
     "execution_count": 11,
     "metadata": {},
     "output_type": "execute_result"
    }
   ],
   "source": [
    "# Self-query retrieval\n",
    "retriever.invoke(\"Please recommend products in the Sunscreen category.\")"
   ]
  },
  {
   "cell_type": "markdown",
   "id": "a5cea901",
   "metadata": {},
   "source": [
    "`SelfQueryRetriever` can also be used to retrieve items with two or more conditions."
   ]
  },
  {
   "cell_type": "code",
   "execution_count": 12,
   "id": "20f38f98",
   "metadata": {},
   "outputs": [
    {
     "data": {
      "text/plain": [
       "[Document(metadata={'category': 'Makeup', 'user_rating': 4.5, 'year': 2023}, page_content='A matte-finish foundation with 24-hour wear, covering pores and providing a natural skin appearance.')]"
      ]
     },
     "execution_count": 12,
     "metadata": {},
     "output_type": "execute_result"
    }
   ],
   "source": [
    "# Self-query retrieval\n",
    "retriever.invoke(\n",
    "    \"Please recommend products in the 'Makeup' category with a rating of 4.5 or higher.\"\n",
    ")"
   ]
  },
  {
   "cell_type": "markdown",
   "id": "2af3ea60",
   "metadata": {},
   "source": [
    "You can also specify **the number of documents to retrieve** using the argument `k` when using `SelfQueryRetriever` .\n",
    "\n",
    "This can be done by passing `enable_limit=True` to the constructor."
   ]
  },
  {
   "cell_type": "code",
   "execution_count": 13,
   "id": "959cc5f4",
   "metadata": {},
   "outputs": [],
   "source": [
    "retriever = SelfQueryRetriever.from_llm(\n",
    "    llm=llm,\n",
    "    vectorstore=vectorstore,\n",
    "    document_contents=\"Brief summary of a cosmetic product\",\n",
    "    metadata_field_info=metadata_field_info,\n",
    "    enable_limit=True,  # Enable to limit the search result.\n",
    "    search_kwargs={\"k\": 2},  # Limit the number of retrieved documents to 2.\n",
    ")"
   ]
  },
  {
   "cell_type": "markdown",
   "id": "c86c0dfb",
   "metadata": {},
   "source": [
    "There are 3 products released in 2023, but by setting the value of `k` to 2, only 2 products are retrieved."
   ]
  },
  {
   "cell_type": "code",
   "execution_count": 14,
   "id": "4628ffbc",
   "metadata": {},
   "outputs": [
    {
     "data": {
      "text/plain": [
       "[Document(metadata={'category': 'Cleansers', 'user_rating': 4.8, 'year': 2023}, page_content='A hypoallergenic cleansing oil made with plant-based ingredients, gently removes makeup and impurities.'),\n",
       " Document(metadata={'category': 'Skincare', 'user_rating': 4.6, 'year': 2023}, page_content='A brightening cream with vitamin C, brightens dull skin tones for a radiant complexion.')]"
      ]
     },
     "execution_count": 14,
     "metadata": {},
     "output_type": "execute_result"
    }
   ],
   "source": [
    "# Self-query retrieval\n",
    "retriever.invoke(\"Please recommend products released in 2023.\")"
   ]
  },
  {
   "cell_type": "markdown",
   "id": "ed520315",
   "metadata": {},
   "source": [
    "However, you can also limit the number of search results by directly specifying the number of search results in the query without explicitly specifying `search_kwargs` in the code."
   ]
  },
  {
   "cell_type": "code",
   "execution_count": 15,
   "id": "9b4cabe1",
   "metadata": {},
   "outputs": [
    {
     "data": {
      "text/plain": [
       "[Document(metadata={'category': 'Cleansers', 'user_rating': 4.8, 'year': 2023}, page_content='A hypoallergenic cleansing oil made with plant-based ingredients, gently removes makeup and impurities.')]"
      ]
     },
     "execution_count": 15,
     "metadata": {},
     "output_type": "execute_result"
    }
   ],
   "source": [
    "retriever = SelfQueryRetriever.from_llm(\n",
    "    llm=llm,\n",
    "    vectorstore=vectorstore,\n",
    "    document_contents=\"Brief summary of a cosmetic product\",\n",
    "    metadata_field_info=metadata_field_info,\n",
    "    enable_limit=True,  # Enable to limit the search result.\n",
    ")\n",
    "\n",
    "# Self-query retrieval\n",
    "retriever.invoke(\"Please recommend one product released in 2023.\")"
   ]
  },
  {
   "cell_type": "code",
   "execution_count": 16,
   "id": "9af3a1ab",
   "metadata": {},
   "outputs": [
    {
     "data": {
      "text/plain": [
       "[Document(metadata={'category': 'Cleansers', 'user_rating': 4.8, 'year': 2023}, page_content='A hypoallergenic cleansing oil made with plant-based ingredients, gently removes makeup and impurities.'),\n",
       " Document(metadata={'category': 'Skincare', 'user_rating': 4.6, 'year': 2023}, page_content='A brightening cream with vitamin C, brightens dull skin tones for a radiant complexion.')]"
      ]
     },
     "execution_count": 16,
     "metadata": {},
     "output_type": "execute_result"
    }
   ],
   "source": [
    "# Self-query retrieval\n",
    "retriever.invoke(\"Please recommend 2 products released in 2023.\")"
   ]
  },
  {
   "cell_type": "markdown",
   "id": "4a5e8059",
   "metadata": {},
   "source": [
    "## Query Constructor Chain\n",
    "\n",
    "To see what happens internally and to have more custom control, we can construct a `retriever` from scratch.\n",
    "\n",
    "First, we need to create a `query_constructor` chain that generates structured queries. Here, we use the `get_query_constructor_prompt` function to retrieve the prompt that helps constructing queries."
   ]
  },
  {
   "cell_type": "code",
   "execution_count": 17,
   "id": "8e9b180d",
   "metadata": {},
   "outputs": [],
   "source": [
    "from langchain.chains.query_constructor.base import (\n",
    "    StructuredQueryOutputParser,\n",
    "    get_query_constructor_prompt,\n",
    ")\n",
    "\n",
    "# Retrieve the query constructor prompt using the document content description and metadata field information.\n",
    "prompt = get_query_constructor_prompt(\n",
    "    \"Brief summary of a cosmetic product\",  # Document content description\n",
    "    metadata_field_info,  # Metadata field information\n",
    ")\n",
    "\n",
    "# Create StructuredQueryOutputParser\n",
    "output_parser = StructuredQueryOutputParser.from_components()\n",
    "\n",
    "# Create query_constructor chain\n",
    "query_constructor = prompt | llm | output_parser"
   ]
  },
  {
   "cell_type": "markdown",
   "id": "dd7e94a2",
   "metadata": {},
   "source": [
    "To check the content of the prompt, use the `prompt.format` method to pass the string `\"dummy question\"` to the `query` parameter and print the result."
   ]
  },
  {
   "cell_type": "code",
   "execution_count": 18,
   "id": "74bc86da",
   "metadata": {},
   "outputs": [
    {
     "name": "stdout",
     "output_type": "stream",
     "text": [
      "Your goal is to structure the user's query to match the request schema provided below.\n",
      "\n",
      "<< Structured Request Schema >>\n",
      "When responding use a markdown code snippet with a JSON object formatted in the following schema:\n",
      "\n",
      "```json\n",
      "{\n",
      "    \"query\": string \\ text string to compare to document contents\n",
      "    \"filter\": string \\ logical condition statement for filtering documents\n",
      "}\n",
      "```\n",
      "\n",
      "The query string should contain only text that is expected to match the contents of documents. Any conditions in the filter should not be mentioned in the query as well.\n",
      "\n",
      "A logical condition statement is composed of one or more comparison and logical operation statements.\n",
      "\n",
      "A comparison statement takes the form: `comp(attr, val)`:\n",
      "- `comp` (eq | ne | gt | gte | lt | lte | contain | like | in | nin): comparator\n",
      "- `attr` (string):  name of attribute to apply the comparison to\n",
      "- `val` (string): is the comparison value\n",
      "\n",
      "A logical operation statement takes the form `op(statement1, statement2, ...)`:\n",
      "- `op` (and | or | not): logical operator\n",
      "- `statement1`, `statement2`, ... (comparison statements or logical operation statements): one or more statements to apply the operation to\n",
      "\n",
      "Make sure that you only use the comparators and logical operators listed above and no others.\n",
      "Make sure that filters only refer to attributes that exist in the data source.\n",
      "Make sure that filters only use the attributed names with its function names if there are functions applied on them.\n",
      "Make sure that filters only use format `YYYY-MM-DD` when handling date data typed values.\n",
      "Make sure that filters take into account the descriptions of attributes and only make comparisons that are feasible given the type of data being stored.\n",
      "Make sure that filters are only used as needed. If there are no filters that should be applied return \"NO_FILTER\" for the filter value.\n",
      "\n",
      "<< Example 1. >>\n",
      "Data Source:\n",
      "```json\n",
      "{\n",
      "    \"content\": \"Lyrics of a song\",\n",
      "    \"attributes\": {\n",
      "        \"artist\": {\n",
      "            \"type\": \"string\",\n",
      "            \"description\": \"Name of the song artist\"\n",
      "        },\n",
      "        \"length\": {\n",
      "            \"type\": \"integer\",\n",
      "            \"description\": \"Length of the song in seconds\"\n",
      "        },\n",
      "        \"genre\": {\n",
      "            \"type\": \"string\",\n",
      "            \"description\": \"The song genre, one of \"pop\", \"rock\" or \"rap\"\"\n",
      "        }\n",
      "    }\n",
      "}\n",
      "```\n",
      "\n",
      "User Query:\n",
      "What are songs by Taylor Swift or Katy Perry about teenage romance under 3 minutes long in the dance pop genre\n",
      "\n",
      "Structured Request:\n",
      "```json\n",
      "{\n",
      "    \"query\": \"teenager love\",\n",
      "    \"filter\": \"and(or(eq(\\\"artist\\\", \\\"Taylor Swift\\\"), eq(\\\"artist\\\", \\\"Katy Perry\\\")), lt(\\\"length\\\", 180), eq(\\\"genre\\\", \\\"pop\\\"))\"\n",
      "}\n",
      "```\n",
      "\n",
      "\n",
      "<< Example 2. >>\n",
      "Data Source:\n",
      "```json\n",
      "{\n",
      "    \"content\": \"Lyrics of a song\",\n",
      "    \"attributes\": {\n",
      "        \"artist\": {\n",
      "            \"type\": \"string\",\n",
      "            \"description\": \"Name of the song artist\"\n",
      "        },\n",
      "        \"length\": {\n",
      "            \"type\": \"integer\",\n",
      "            \"description\": \"Length of the song in seconds\"\n",
      "        },\n",
      "        \"genre\": {\n",
      "            \"type\": \"string\",\n",
      "            \"description\": \"The song genre, one of \"pop\", \"rock\" or \"rap\"\"\n",
      "        }\n",
      "    }\n",
      "}\n",
      "```\n",
      "\n",
      "User Query:\n",
      "What are songs that were not published on Spotify\n",
      "\n",
      "Structured Request:\n",
      "```json\n",
      "{\n",
      "    \"query\": \"\",\n",
      "    \"filter\": \"NO_FILTER\"\n",
      "}\n",
      "```\n",
      "\n",
      "\n",
      "<< Example 3. >>\n",
      "Data Source:\n",
      "```json\n",
      "{\n",
      "    \"content\": \"Brief summary of a cosmetic product\",\n",
      "    \"attributes\": {\n",
      "    \"category\": {\n",
      "        \"description\": \"The category of the cosmetic product. One of ['Skincare', 'Makeup', 'Cleansers', 'Sunscreen']\",\n",
      "        \"type\": \"string\"\n",
      "    },\n",
      "    \"year\": {\n",
      "        \"description\": \"The year the cosmetic product was released\",\n",
      "        \"type\": \"integer\"\n",
      "    },\n",
      "    \"user_rating\": {\n",
      "        \"description\": \"A user rating for the cosmetic product, ranging from 1 to 5\",\n",
      "        \"type\": \"float\"\n",
      "    }\n",
      "}\n",
      "}\n",
      "```\n",
      "\n",
      "User Query:\n",
      "dummy question\n",
      "\n",
      "Structured Request:\n",
      "\n"
     ]
    }
   ],
   "source": [
    "# Print prompt\n",
    "print(prompt.format(query=\"dummy question\"))"
   ]
  },
  {
   "cell_type": "markdown",
   "id": "5e9d0f92",
   "metadata": {},
   "source": [
    "Call the `query_constructor.invoke` method to process the given query."
   ]
  },
  {
   "cell_type": "code",
   "execution_count": 19,
   "id": "bc33a7ac",
   "metadata": {},
   "outputs": [],
   "source": [
    "query_output = query_constructor.invoke(\n",
    "    {\n",
    "        # Call the query constructor to generate a query.\n",
    "        \"query\": \"Please recommend skincare products released in 2023 with a rating of 4.5 or higher.\"\n",
    "    }\n",
    ")"
   ]
  },
  {
   "cell_type": "code",
   "execution_count": 20,
   "id": "c5d13f2f",
   "metadata": {},
   "outputs": [
    {
     "data": {
      "text/plain": [
       "[Comparison(comparator=<Comparator.EQ: 'eq'>, attribute='category', value='Skincare'),\n",
       " Comparison(comparator=<Comparator.GTE: 'gte'>, attribute='year', value=2023),\n",
       " Comparison(comparator=<Comparator.GTE: 'gte'>, attribute='user_rating', value=4.5)]"
      ]
     },
     "execution_count": 20,
     "metadata": {},
     "output_type": "execute_result"
    }
   ],
   "source": [
    "# Print query\n",
    "query_output.filter.arguments"
   ]
  },
  {
   "cell_type": "markdown",
   "id": "7f762ab4",
   "metadata": {},
   "source": [
    "The core component of a `SelfQueryRetriever` is the **query constructor** . To build an effective retrieval system, it is essential to ensure that the **query constructor** is well defined.\n",
    "\n",
    "To achieve this, you need to adjust the **prompt**, **examples within the prompt**, and **attribute descriptions** ."
   ]
  },
  {
   "cell_type": "markdown",
   "id": "6422bc8b",
   "metadata": {},
   "source": [
    "### Structured Query Translator\n",
    "\n",
    "You can also create a structured query using the **structured query translator** .\n",
    "\n",
    "**Structured query translator** converts a query into metadata filters compatible with the syntax of the vector store with `StructuredQuery` object."
   ]
  },
  {
   "cell_type": "code",
   "execution_count": 21,
   "id": "a4d228d3",
   "metadata": {},
   "outputs": [],
   "source": [
    "from langchain.retrievers.self_query.chroma import ChromaTranslator\n",
    "\n",
    "retriever = SelfQueryRetriever(\n",
    "    query_constructor=query_constructor,  # The query_constructor chain created in the previous step.\n",
    "    vectorstore=vectorstore,  # Specify the VectorStore\n",
    "    structured_query_translator=ChromaTranslator(),  # Query translator\n",
    ")"
   ]
  },
  {
   "cell_type": "markdown",
   "id": "941b5561",
   "metadata": {},
   "source": [
    "Use the `retriever.invoke` method to generate an answer for the given question."
   ]
  },
  {
   "cell_type": "code",
   "execution_count": 22,
   "id": "ad4b4199",
   "metadata": {},
   "outputs": [
    {
     "data": {
      "text/plain": [
       "[Document(metadata={'category': 'Skincare', 'user_rating': 4.7, 'year': 2024}, page_content='A hyaluronic acid serum packed with moisture, delivering hydration deep into the skin.'),\n",
       " Document(metadata={'category': 'Skincare', 'user_rating': 4.6, 'year': 2023}, page_content='A brightening cream with vitamin C, brightens dull skin tones for a radiant complexion.')]"
      ]
     },
     "execution_count": 22,
     "metadata": {},
     "output_type": "execute_result"
    }
   ],
   "source": [
    "retriever.invoke(\n",
    "    \"Please recommend skincare products released in 2023 with a rating of 4.5 or higher.\"\n",
    ")"
   ]
  }
 ],
 "metadata": {
  "kernelspec": {
   "display_name": "langchain-kr-ARohChI8-py3.11",
   "language": "python",
   "name": "python3"
  },
  "language_info": {
   "codemirror_mode": {
    "name": "ipython",
    "version": 3
   },
   "file_extension": ".py",
   "mimetype": "text/x-python",
   "name": "python",
   "nbconvert_exporter": "python",
   "pygments_lexer": "ipython3",
   "version": "3.11.9"
  }
 },
 "nbformat": 4,
 "nbformat_minor": 5
}
