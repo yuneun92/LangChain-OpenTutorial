{
 "cells": [
  {
   "cell_type": "markdown",
   "metadata": {},
   "source": [
    "#  TitanicQASystem\n",
    "\n",
    "- Author: [Taylor(Jihyun Kim)](https://github.com/Taylor0819)\n",
    "- Design: \n",
    "- Peer Review: [Jongcheol Kim](https://github.com/greencode-99), [Heesun Moon](https://github.com/MoonHeesun)\n",
    "- This is a part of [LangChain Open Tutorial](https://github.com/LangChain-OpenTutorial/LangChain-OpenTutorial)\n",
    "\n",
    "[![Open in Colab](https://colab.research.google.com/assets/colab-badge.svg)](https://colab.research.google.com/github/LangChain-OpenTutorial/LangChain-OpenTutorial/blob/main/19-Cookbook/03-GraphDB/05-TitanicQASystem.ipynb) [![Open in GitHub](https://img.shields.io/badge/Open%20in%20GitHub-181717?style=flat-square&logo=github&logoColor=white)](https://github.com/LangChain-OpenTutorial/LangChain-OpenTutorial/blob/main/19-Cookbook/03-GraphDB/05-TitanicQASystem.ipynb)\n",
    "\n"
   ]
  },
  {
   "cell_type": "markdown",
   "metadata": {},
   "source": [
    "## Overview\n",
    "In this tutorial, we walk through building a Q&A system with the Titanic dataset stored in a `Neo4j` graph. \n",
    "\n",
    "Starting with a csv file, we preprocess passenger data and model both nodes (Passenger) and relationships (`MARRIED_TO` , `SIBLING_OF` , `PARENT_OF` ) in `Neo4j` . \n",
    "\n",
    "LangChain then transforms user questions into Cypher queries that retrieve key insights, while langgraph handles invalid queries by allowing an LLM to revise them based on Neo4j feedback. \n",
    "\n",
    "Ultimately, you gain a robust pipeline to analyze relationships, compute statistics, and explore passenger connections in the Titanic dataset.\n",
    "\n",
    "1. Setup & Data Preparation  \n",
    "   - Acquire and clean the Titanic csv file.  \n",
    "   - Preprocess passenger data by handling missing values and extracting relevant fields.\n",
    "\n",
    "2. Graph Modeling in Neo4j\n",
    "   - Create `Passenger` nodes with core properties (e.g., `age`, `ticket`, `survived`).  \n",
    "   - Establish relationships such as:\n",
    "     - `MARRIED_TO`  \n",
    "     - `SIBLING_OF` \n",
    "     - `PARENT_OF` \n",
    "\n",
    "3. Querying with LangChain\n",
    "   - Convert natural-language questions into Cypher queries.  \n",
    "   - Retrieve insights like family ties, survival rates, and ticket usage.\n",
    "\n",
    "4. Error Handling with langgraph \n",
    "   - Catch and correct invalid queries.  \n",
    "   - Provide Neo4j feedback to an LLM, automatically revising problematic Cypher statements.\n",
    "\n",
    "5. Outcome  \n",
    "   - By the end, you'll have a **robust Q&A system** for exploring passenger connections, computing statistics, and discovering meaningful patterns in the Titanic dataset stored in Neo4j."
   ]
  },
  {
   "cell_type": "markdown",
   "metadata": {},
   "source": [
    "### Table of Contents\n",
    "\n",
    "- [Overview](#overview)\n",
    "- [Environement Setup](#environment-setup)\n",
    "- [Load Titanic data](#load-titanic-data)\n",
    "- [Neo4j Database Connection](#neo4j-database-connection)\n",
    "- [Consider the Data with Arrows.app](#consider-the-data-with-arrows.app)\n",
    "- [Data Restructure](#data-restructure)\n",
    "- [Usage Example](#usage-example)\n",
    "\n",
    "\n",
    "### References\n",
    "- [Neo4j Arrows](https://neo4j.com/labs/arrows)\n",
    "- [LangChain Neo4j](https://python.langchain.com/docs/integrations/graphs/neo4j_cypher)\n",
    "- [Langchain Neo4j Advanced Implementation with langgraph](https://python.langchain.com/docs/tutorials/graph/#query-validation)\n",
    "----"
   ]
  },
  {
   "cell_type": "markdown",
   "metadata": {},
   "source": [
    "## Environment Setup\n",
    "Set up the environment. You may refer to [Environment Setup](https://wikidocs.net/257836) for more details.\n",
    "\n",
    "**[Note]** \n",
    "\n",
    "- `langchain-opentutorial` is a package that provides a set of easy-to-use environment setup, useful functions and utilities for tutorials.\n",
    "- You can checkout the [`langchain-opentutorial`](https://github.com/LangChain-OpenTutorial/langchain-opentutorial-pypi) for more details.\n"
   ]
  },
  {
   "cell_type": "code",
   "execution_count": 1,
   "metadata": {},
   "outputs": [],
   "source": [
    "%%capture --no-stderr\n",
    "%pip install langchain-opentutorial"
   ]
  },
  {
   "cell_type": "code",
   "execution_count": 2,
   "metadata": {},
   "outputs": [],
   "source": [
    "# Install required packages\n",
    "from langchain_opentutorial import package\n",
    "\n",
    "package.install(\n",
    "    [\"langsmith\", \"langchain_neo4j\", \"langchain_openai\", \"langgraph\"],\n",
    "    verbose=False,\n",
    "    upgrade=False,\n",
    ")"
   ]
  },
  {
   "cell_type": "code",
   "execution_count": 3,
   "metadata": {},
   "outputs": [
    {
     "name": "stdout",
     "output_type": "stream",
     "text": [
      "Environment variables have been set successfully.\n"
     ]
    }
   ],
   "source": [
    "# Set environment variables\n",
    "from langchain_opentutorial import set_env\n",
    "\n",
    "set_env(\n",
    "    {\n",
    "        \"OPENAI_API_KEY\": \"\",\n",
    "        \"LANGCHAIN_API_KEY\": \"\",\n",
    "        \"LANGCHAIN_TRACING_V2\": \"true\",\n",
    "        \"LANGCHAIN_ENDPOINT\": \"https://api.smith.langchain.com\",\n",
    "        \"LANGCHAIN_PROJECT\": \"05-FAQRAGSystem\",\n",
    "        \"NEO4J_URI\": \"\",\n",
    "        \"NEO4J_USERNAME\": \"\",\n",
    "        \"NEO4J_PASSWORD\": \"\",\n",
    "    }\n",
    ")"
   ]
  },
  {
   "cell_type": "markdown",
   "metadata": {},
   "source": [
    "You can alternatively set API keys such as `OPENAI_API_KEY` in a `.env` file and load them.\n",
    "\n",
    "[Note] This is not necessary if you've already set the required API keys in previous steps."
   ]
  },
  {
   "cell_type": "code",
   "execution_count": 4,
   "metadata": {},
   "outputs": [
    {
     "data": {
      "text/plain": [
       "True"
      ]
     },
     "execution_count": 4,
     "metadata": {},
     "output_type": "execute_result"
    }
   ],
   "source": [
    "# Load API keys from .env file\n",
    "from dotenv import load_dotenv\n",
    "\n",
    "load_dotenv(override=True)"
   ]
  },
  {
   "cell_type": "code",
   "execution_count": 5,
   "metadata": {},
   "outputs": [],
   "source": [
    "import os\n",
    "import nest_asyncio\n",
    "\n",
    "# Allow async\n",
    "nest_asyncio.apply()"
   ]
  },
  {
   "cell_type": "markdown",
   "metadata": {},
   "source": [
    "## Load Titanic Data\n",
    "\n",
    "### Data Preparation\n",
    "\n",
    "In this tutorial, we will use the following csv file:\n",
    "\n",
    "- Download Link: [Kaggle Titanic Dataset](https://www.kaggle.com/datasets/yasserh/titanic-dataset)\n",
    "- Author : M Yasser H (kaggle ID)\n",
    "- File name: Titanic-Dataset.csv\"\n",
    "- File path: \"./data/Titanic-Dataset.csv\"\n",
    "\n",
    "There are two ways to obtain the dataset:\n",
    "\n",
    "1. Download directly from the Kaggle link above\n",
    "2. Use the Python code below to automatically download via Kaggle API"
   ]
  },
  {
   "cell_type": "code",
   "execution_count": 6,
   "metadata": {},
   "outputs": [
    {
     "name": "stdout",
     "output_type": "stream",
     "text": [
      "File downloaded and extracted to ./data\n",
      "Temporary zip file deleted: ./data/data.zip\n"
     ]
    }
   ],
   "source": [
    "# Download and save sample csv file to ./data directory\n",
    "import requests\n",
    "import zipfile\n",
    "\n",
    "def download_csv(url, zip_path, extract_dir):\n",
    "    \"\"\"\n",
    "    Downloads a csv file from the given URL and saves it to the specified path.\n",
    "\n",
    "        Args:\n",
    "        url (str): The URL of the csv file to download\n",
    "        zip_path (str): The full path (including file name) where the zip file will be temporarily saved\n",
    "        extract_dir (str): The directory path where the contents will be extracted\n",
    "    \"\"\"\n",
    "    try:\n",
    "        # Ensure the directory exists\n",
    "        os.makedirs(os.path.dirname(zip_path), exist_ok=True)\n",
    "\n",
    "        # Download the file\n",
    "        response = requests.get(url, stream=True)\n",
    "        response.raise_for_status()  # Raise an error for bad status codes\n",
    "\n",
    "        # Save the file to the specified path\n",
    "        with open(zip_path, \"wb\") as file:\n",
    "            for chunk in response.iter_content(chunk_size=8192):\n",
    "                file.write(chunk)\n",
    "\n",
    "        # Extract the zip file\n",
    "        with zipfile.ZipFile(zip_path, \"r\") as zip_ref:\n",
    "            zip_ref.extractall(extract_dir)\n",
    "\n",
    "        print(f\"File downloaded and extracted to {extract_dir}\")\n",
    "\n",
    "        # Delete the temporary zip file (optional)\n",
    "        os.remove(zip_path)\n",
    "        print(f\"Temporary zip file deleted: {zip_path}\")\n",
    "\n",
    "    except Exception as e:\n",
    "        print(f\"An error occurred: {e}\")\n",
    "        print(f\"csv downloaded and saved to: {zip_path}\")\n",
    "\n",
    "\n",
    "# Configuration for the PDF file\n",
    "url = \"https://www.kaggle.com/api/v1/datasets/download/yasserh/titanic-dataset\"\n",
    "zip_path = \"./data/data.zip\"\n",
    "extract_dir = \"./data\"\n",
    "\n",
    "# Download the PDF\n",
    "download_csv(url, zip_path, extract_dir)"
   ]
  },
  {
   "cell_type": "code",
   "execution_count": 7,
   "metadata": {},
   "outputs": [
    {
     "name": "stdout",
     "output_type": "stream",
     "text": [
      "=== DataFrame Info ===\n",
      "<class 'pandas.core.frame.DataFrame'>\n",
      "RangeIndex: 891 entries, 0 to 890\n",
      "Data columns (total 12 columns):\n",
      " #   Column       Non-Null Count  Dtype  \n",
      "---  ------       --------------  -----  \n",
      " 0   PassengerId  891 non-null    int64  \n",
      " 1   Survived     891 non-null    int64  \n",
      " 2   Pclass       891 non-null    int64  \n",
      " 3   Name         891 non-null    object \n",
      " 4   Sex          891 non-null    object \n",
      " 5   Age          714 non-null    float64\n",
      " 6   SibSp        891 non-null    int64  \n",
      " 7   Parch        891 non-null    int64  \n",
      " 8   Ticket       891 non-null    object \n",
      " 9   Fare         891 non-null    float64\n",
      " 10  Cabin        204 non-null    object \n",
      " 11  Embarked     889 non-null    object \n",
      "dtypes: float64(2), int64(5), object(5)\n",
      "memory usage: 83.7+ KB\n",
      "=== Sample data ===\n"
     ]
    },
    {
     "data": {
      "text/html": [
       "<div>\n",
       "<style scoped>\n",
       "    .dataframe tbody tr th:only-of-type {\n",
       "        vertical-align: middle;\n",
       "    }\n",
       "\n",
       "    .dataframe tbody tr th {\n",
       "        vertical-align: top;\n",
       "    }\n",
       "\n",
       "    .dataframe thead th {\n",
       "        text-align: right;\n",
       "    }\n",
       "</style>\n",
       "<table border=\"1\" class=\"dataframe\">\n",
       "  <thead>\n",
       "    <tr style=\"text-align: right;\">\n",
       "      <th></th>\n",
       "      <th>PassengerId</th>\n",
       "      <th>Survived</th>\n",
       "      <th>Pclass</th>\n",
       "      <th>Name</th>\n",
       "      <th>Sex</th>\n",
       "      <th>Age</th>\n",
       "      <th>SibSp</th>\n",
       "      <th>Parch</th>\n",
       "      <th>Ticket</th>\n",
       "      <th>Fare</th>\n",
       "      <th>Cabin</th>\n",
       "      <th>Embarked</th>\n",
       "    </tr>\n",
       "  </thead>\n",
       "  <tbody>\n",
       "    <tr>\n",
       "      <th>0</th>\n",
       "      <td>1</td>\n",
       "      <td>0</td>\n",
       "      <td>3</td>\n",
       "      <td>Braund, Mr. Owen Harris</td>\n",
       "      <td>male</td>\n",
       "      <td>22.0</td>\n",
       "      <td>1</td>\n",
       "      <td>0</td>\n",
       "      <td>A/5 21171</td>\n",
       "      <td>7.2500</td>\n",
       "      <td>NaN</td>\n",
       "      <td>S</td>\n",
       "    </tr>\n",
       "    <tr>\n",
       "      <th>1</th>\n",
       "      <td>2</td>\n",
       "      <td>1</td>\n",
       "      <td>1</td>\n",
       "      <td>Cumings, Mrs. John Bradley (Florence Briggs Th...</td>\n",
       "      <td>female</td>\n",
       "      <td>38.0</td>\n",
       "      <td>1</td>\n",
       "      <td>0</td>\n",
       "      <td>PC 17599</td>\n",
       "      <td>71.2833</td>\n",
       "      <td>C85</td>\n",
       "      <td>C</td>\n",
       "    </tr>\n",
       "    <tr>\n",
       "      <th>2</th>\n",
       "      <td>3</td>\n",
       "      <td>1</td>\n",
       "      <td>3</td>\n",
       "      <td>Heikkinen, Miss. Laina</td>\n",
       "      <td>female</td>\n",
       "      <td>26.0</td>\n",
       "      <td>0</td>\n",
       "      <td>0</td>\n",
       "      <td>STON/O2. 3101282</td>\n",
       "      <td>7.9250</td>\n",
       "      <td>NaN</td>\n",
       "      <td>S</td>\n",
       "    </tr>\n",
       "    <tr>\n",
       "      <th>3</th>\n",
       "      <td>4</td>\n",
       "      <td>1</td>\n",
       "      <td>1</td>\n",
       "      <td>Futrelle, Mrs. Jacques Heath (Lily May Peel)</td>\n",
       "      <td>female</td>\n",
       "      <td>35.0</td>\n",
       "      <td>1</td>\n",
       "      <td>0</td>\n",
       "      <td>113803</td>\n",
       "      <td>53.1000</td>\n",
       "      <td>C123</td>\n",
       "      <td>S</td>\n",
       "    </tr>\n",
       "    <tr>\n",
       "      <th>4</th>\n",
       "      <td>5</td>\n",
       "      <td>0</td>\n",
       "      <td>3</td>\n",
       "      <td>Allen, Mr. William Henry</td>\n",
       "      <td>male</td>\n",
       "      <td>35.0</td>\n",
       "      <td>0</td>\n",
       "      <td>0</td>\n",
       "      <td>373450</td>\n",
       "      <td>8.0500</td>\n",
       "      <td>NaN</td>\n",
       "      <td>S</td>\n",
       "    </tr>\n",
       "  </tbody>\n",
       "</table>\n",
       "</div>"
      ],
      "text/plain": [
       "   PassengerId  Survived  Pclass  \\\n",
       "0            1         0       3   \n",
       "1            2         1       1   \n",
       "2            3         1       3   \n",
       "3            4         1       1   \n",
       "4            5         0       3   \n",
       "\n",
       "                                                Name     Sex   Age  SibSp  \\\n",
       "0                            Braund, Mr. Owen Harris    male  22.0      1   \n",
       "1  Cumings, Mrs. John Bradley (Florence Briggs Th...  female  38.0      1   \n",
       "2                             Heikkinen, Miss. Laina  female  26.0      0   \n",
       "3       Futrelle, Mrs. Jacques Heath (Lily May Peel)  female  35.0      1   \n",
       "4                           Allen, Mr. William Henry    male  35.0      0   \n",
       "\n",
       "   Parch            Ticket     Fare Cabin Embarked  \n",
       "0      0         A/5 21171   7.2500   NaN        S  \n",
       "1      0          PC 17599  71.2833   C85        C  \n",
       "2      0  STON/O2. 3101282   7.9250   NaN        S  \n",
       "3      0            113803  53.1000  C123        S  \n",
       "4      0            373450   8.0500   NaN        S  "
      ]
     },
     "execution_count": 7,
     "metadata": {},
     "output_type": "execute_result"
    }
   ],
   "source": [
    "import pandas as pd\n",
    "\n",
    "file_path = \"./data/Titanic-Dataset.csv\"\n",
    "\n",
    "# Read csv file\n",
    "df = pd.read_csv(file_path)\n",
    "\n",
    "# check data structure, sample data\n",
    "print(\"=== DataFrame Info ===\")\n",
    "df.info()\n",
    "\n",
    "print(\"=== Sample data ===\")\n",
    "df.head()"
   ]
  },
  {
   "cell_type": "markdown",
   "metadata": {},
   "source": [
    "### Column Descriptions\n",
    "Key column descriptions:\n",
    "- `PassengerId` : Unique identifier for each passenger\n",
    "- `Survived` : Survival status (0 = No, 1 = Yes)\n",
    "- `Pclass` : Ticket class (1, 2, 3)\n",
    "- `Name` : Passenger name\n",
    "- `Sex` : Gender\n",
    "- `Age` : Age in years\n",
    "- `SibSp` : Number of siblings/spouses aboard\n",
    "- `Parch` : Number of parents/children aboard\n",
    "- `Ticket` : Ticket number\n",
    "- `Fare` : Passenger fare\n",
    "- `Cabin` : Cabin number\n",
    "- `Embarked` : Port of embarkation (C = Cherbourg, Q = Queenstown, S = Southampton)"
   ]
  },
  {
   "cell_type": "markdown",
   "metadata": {},
   "source": [
    "### Simple Data Preprocessing\n",
    "- Creating `LastName` Column: Extracts the last name from the Name column and stores it in a new column LastName. The extraction is done by splitting the string at the comma and using the first element.\n",
    "- Removing Missing Values: Drops rows where the `Age` column has null values to ensure data completeness.\n",
    "- Data Type Conversion: Converts the `Ticket` column to string format to maintain consistency in data types."
   ]
  },
  {
   "cell_type": "code",
   "execution_count": 8,
   "metadata": {},
   "outputs": [],
   "source": [
    "# Optional: parse last names from \"Name\" if helpful\n",
    "df[\"LastName\"] = df[\"Name\"].apply(lambda x: x.split(\",\")[0].strip())\n",
    "\n",
    "# Drop rows where Age is null\n",
    "df.dropna(subset=[\"Age\"], inplace=True)\n",
    "\n",
    "# Convert \"Ticket\" to a string type to maintain consistency\n",
    "df[\"Ticket\"] = df[\"Ticket\"].astype(str)"
   ]
  },
  {
   "cell_type": "code",
   "execution_count": 9,
   "metadata": {},
   "outputs": [
    {
     "data": {
      "text/html": [
       "<div>\n",
       "<style scoped>\n",
       "    .dataframe tbody tr th:only-of-type {\n",
       "        vertical-align: middle;\n",
       "    }\n",
       "\n",
       "    .dataframe tbody tr th {\n",
       "        vertical-align: top;\n",
       "    }\n",
       "\n",
       "    .dataframe thead th {\n",
       "        text-align: right;\n",
       "    }\n",
       "</style>\n",
       "<table border=\"1\" class=\"dataframe\">\n",
       "  <thead>\n",
       "    <tr style=\"text-align: right;\">\n",
       "      <th></th>\n",
       "      <th>PassengerId</th>\n",
       "      <th>Survived</th>\n",
       "      <th>Pclass</th>\n",
       "      <th>Name</th>\n",
       "      <th>Sex</th>\n",
       "      <th>Age</th>\n",
       "      <th>SibSp</th>\n",
       "      <th>Parch</th>\n",
       "      <th>Ticket</th>\n",
       "      <th>Fare</th>\n",
       "      <th>Cabin</th>\n",
       "      <th>Embarked</th>\n",
       "      <th>LastName</th>\n",
       "    </tr>\n",
       "  </thead>\n",
       "  <tbody>\n",
       "    <tr>\n",
       "      <th>0</th>\n",
       "      <td>1</td>\n",
       "      <td>0</td>\n",
       "      <td>3</td>\n",
       "      <td>Braund, Mr. Owen Harris</td>\n",
       "      <td>male</td>\n",
       "      <td>22.0</td>\n",
       "      <td>1</td>\n",
       "      <td>0</td>\n",
       "      <td>A/5 21171</td>\n",
       "      <td>7.2500</td>\n",
       "      <td>NaN</td>\n",
       "      <td>S</td>\n",
       "      <td>Braund</td>\n",
       "    </tr>\n",
       "    <tr>\n",
       "      <th>1</th>\n",
       "      <td>2</td>\n",
       "      <td>1</td>\n",
       "      <td>1</td>\n",
       "      <td>Cumings, Mrs. John Bradley (Florence Briggs Th...</td>\n",
       "      <td>female</td>\n",
       "      <td>38.0</td>\n",
       "      <td>1</td>\n",
       "      <td>0</td>\n",
       "      <td>PC 17599</td>\n",
       "      <td>71.2833</td>\n",
       "      <td>C85</td>\n",
       "      <td>C</td>\n",
       "      <td>Cumings</td>\n",
       "    </tr>\n",
       "    <tr>\n",
       "      <th>2</th>\n",
       "      <td>3</td>\n",
       "      <td>1</td>\n",
       "      <td>3</td>\n",
       "      <td>Heikkinen, Miss. Laina</td>\n",
       "      <td>female</td>\n",
       "      <td>26.0</td>\n",
       "      <td>0</td>\n",
       "      <td>0</td>\n",
       "      <td>STON/O2. 3101282</td>\n",
       "      <td>7.9250</td>\n",
       "      <td>NaN</td>\n",
       "      <td>S</td>\n",
       "      <td>Heikkinen</td>\n",
       "    </tr>\n",
       "    <tr>\n",
       "      <th>3</th>\n",
       "      <td>4</td>\n",
       "      <td>1</td>\n",
       "      <td>1</td>\n",
       "      <td>Futrelle, Mrs. Jacques Heath (Lily May Peel)</td>\n",
       "      <td>female</td>\n",
       "      <td>35.0</td>\n",
       "      <td>1</td>\n",
       "      <td>0</td>\n",
       "      <td>113803</td>\n",
       "      <td>53.1000</td>\n",
       "      <td>C123</td>\n",
       "      <td>S</td>\n",
       "      <td>Futrelle</td>\n",
       "    </tr>\n",
       "    <tr>\n",
       "      <th>4</th>\n",
       "      <td>5</td>\n",
       "      <td>0</td>\n",
       "      <td>3</td>\n",
       "      <td>Allen, Mr. William Henry</td>\n",
       "      <td>male</td>\n",
       "      <td>35.0</td>\n",
       "      <td>0</td>\n",
       "      <td>0</td>\n",
       "      <td>373450</td>\n",
       "      <td>8.0500</td>\n",
       "      <td>NaN</td>\n",
       "      <td>S</td>\n",
       "      <td>Allen</td>\n",
       "    </tr>\n",
       "  </tbody>\n",
       "</table>\n",
       "</div>"
      ],
      "text/plain": [
       "   PassengerId  Survived  Pclass  \\\n",
       "0            1         0       3   \n",
       "1            2         1       1   \n",
       "2            3         1       3   \n",
       "3            4         1       1   \n",
       "4            5         0       3   \n",
       "\n",
       "                                                Name     Sex   Age  SibSp  \\\n",
       "0                            Braund, Mr. Owen Harris    male  22.0      1   \n",
       "1  Cumings, Mrs. John Bradley (Florence Briggs Th...  female  38.0      1   \n",
       "2                             Heikkinen, Miss. Laina  female  26.0      0   \n",
       "3       Futrelle, Mrs. Jacques Heath (Lily May Peel)  female  35.0      1   \n",
       "4                           Allen, Mr. William Henry    male  35.0      0   \n",
       "\n",
       "   Parch            Ticket     Fare Cabin Embarked   LastName  \n",
       "0      0         A/5 21171   7.2500   NaN        S     Braund  \n",
       "1      0          PC 17599  71.2833   C85        C    Cumings  \n",
       "2      0  STON/O2. 3101282   7.9250   NaN        S  Heikkinen  \n",
       "3      0            113803  53.1000  C123        S   Futrelle  \n",
       "4      0            373450   8.0500   NaN        S      Allen  "
      ]
     },
     "execution_count": 9,
     "metadata": {},
     "output_type": "execute_result"
    }
   ],
   "source": [
    "df.head()"
   ]
  },
  {
   "cell_type": "markdown",
   "metadata": {},
   "source": [
    "# Neo4j Database Connection\n",
    "This tutorial is based on Neo4j Desktop. First, install the Neo4j graph database from [Neo4j Desktop Installation link](https://neo4j.com/docs/operations-manual/current/installation/)\n",
    "\n",
    "[Note] \n",
    "You can set up Neo4j in several ways \n",
    "\n",
    "1. [`Neo4j Desktop`](https://neo4j.com/docs/operations-manual/current/installation/) :  A desktop application for local development\n",
    "\n",
    "2. [`Neo4j Sandbox` ](https://neo4j.com/sandbox/) : A free, cloud-based platform for working with graph databases\n",
    "\n",
    "3. [`Docker` ](https://neo4j.com/docs/operations-manual/current/docker/) : Run Neo4j in a container using the official Neo4j Docker image\n",
    "\n",
    "**[Important]** Before importing the csv file, Please follow the setup instructions in the link: \n",
    "\n",
    "[03-GraphDB/04-MovieQASystem](https://github.com/LangChain-OpenTutorial/LangChain-OpenTutorial/blob/main/19-Cookbook/03-GraphDB/04-MovieQASystem.ipynb)\n",
    "\n",
    "1. Setup APOC Plugin\n",
    "2. Update the neo4j.conf file.\n",
    "\n"
   ]
  },
  {
   "cell_type": "markdown",
   "metadata": {},
   "source": [
    "### Define Neo4j Credentials\n",
    "\n",
    "Next, you need to define your `Neo4j` credentials. If you haven't done this in the previous steps, you can define them using the os package.\n",
    "\n",
    "[Note] This is not necessary if you've already set the required `Neo4j` credentials in previous steps.\n",
    "\n",
    ">The default user account information:\n",
    ">\n",
    ">- Default username: `neo4j`\n",
    ">\n",
    ">- Default password: `neo4j`\n",
    ">\n",
    ">You are required to change the password upon your first login.\n",
    "\n"
   ]
  },
  {
   "cell_type": "code",
   "execution_count": 10,
   "metadata": {},
   "outputs": [],
   "source": [
    "import os\n",
    "\n",
    "os.environ[\"NEO4J_URI\"] = \"bolt://localhost:7687\"\n",
    "os.environ[\"NEO4J_USERNAME\"] = \"taylor\"\n",
    "os.environ[\"NEO4J_PASSWORD\"] = \"titanic12\""
   ]
  },
  {
   "cell_type": "markdown",
   "metadata": {},
   "source": [
    "### Import Titanic data\n",
    "[How to Import csv File into Neo4j](https://neo4j.com/docs/getting-started/appendix/tutorials/guide-import-desktop-csv/#csv-location)\n",
    "\n",
    "We will import a csv file into the Neo4j Desktop by adding it to the `import` folder.\n",
    "\n",
    "To open a finder window, hover over the three dots on the right side of the started DBMS, select `Open folder` , and then click `Import` \n",
    "![explanation-02](./assets/05-titanicqasystem-flow-explanation-02.png)"
   ]
  },
  {
   "cell_type": "markdown",
   "metadata": {},
   "source": [
    "You can directly drag & drop files into this folder to add them.\n",
    "![explanation-03](./assets/05-titanicqasystem-flow-explanation-03.png)\n"
   ]
  },
  {
   "cell_type": "markdown",
   "metadata": {},
   "source": [
    "Let's verify the data import using Neo4j Browser.\n",
    "![explanation-04](./assets/05-titanicqasystem-flow-explanation-04.png)"
   ]
  },
  {
   "cell_type": "markdown",
   "metadata": {},
   "source": [
    "We will use a simple Cypher query to verify that the data has been successfully added:\n",
    "\n",
    "This query will count the number of rows in the Titanic-Dataset.csv file and return the total count. If the data is accessible and correctly loaded, you will see the total row count in the result.\n",
    "\n",
    ">CYPER : LOAD CSV FROM 'file:///Titanic-Dataset.csv' AS row\n",
    "RETURN count(row);\n",
    "\n",
    "![explanation-05](./assets/05-titanicqasystem-flow-explanation-05.png)\n",
    "![explanation-06](./assets/05-titanicqasystem-flow-explanation-06.png)\n",
    "\n",
    "It has been successfully loaded!\n"
   ]
  },
  {
   "cell_type": "code",
   "execution_count": 11,
   "metadata": {},
   "outputs": [
    {
     "name": "stderr",
     "output_type": "stream",
     "text": [
      "Received notification from DBMS server: {severity: WARNING} {code: Neo.ClientNotification.Statement.FeatureDeprecationWarning} {category: DEPRECATION} {title: This feature is deprecated and will be removed in future versions.} {description: The procedure has a deprecated field. ('config' used by 'apoc.meta.graphSample' is deprecated.)} {position: line: 1, column: 1, offset: 0} for query: \"CALL apoc.meta.graphSample() YIELD nodes, relationships RETURN nodes, [rel in relationships | {name:apoc.any.property(rel, 'type'), count: apoc.any.property(rel, 'count')}] AS relationships\"\n"
     ]
    },
    {
     "name": "stdout",
     "output_type": "stream",
     "text": [
      "Successfully connected to Neo4j\n"
     ]
    }
   ],
   "source": [
    "from langchain_neo4j import Neo4jGraph\n",
    "\n",
    "uri = os.environ[\"NEO4J_URI\"]\n",
    "username = os.environ[\"NEO4J_USERNAME\"]\n",
    "password = os.environ[\"NEO4J_PASSWORD\"]\n",
    "\n",
    "try:\n",
    "    graph = Neo4jGraph(\n",
    "        url=uri, username=username, password=password, enhanced_schema=True\n",
    "    )\n",
    "    print(\"Successfully connected to Neo4j\")\n",
    "except Exception as e:\n",
    "    print(f\"Connection error: {str(e)}\")"
   ]
  },
  {
   "cell_type": "markdown",
   "metadata": {},
   "source": [
    "# Consider the data with Arrows.app\n",
    "When converting a complete tabular dataset like a passenger manifest into a graph, it may seem simple to create nodes for each `Person`, `tickets`, and `Embarked points` while turning the remaining columns into properties. \n",
    "\n",
    "However, the flexibility of the graph structure requires careful consideration of how to categorize data into nodes, relationships, or properties. The way the data is structured may vary depending on the types of queries you plan to run on the graph.\n",
    "\n",
    "To assist with this, Neo4j provides `Arrows.app`, a tool that allows you to visualize relationships across the graph before uploading any specific data. With [arrows.app](https://arrows.app), you can explore and experiment with different ways to model the data. To demonstrate this, I will present an example graph that represents a complex data structure."
   ]
  },
  {
   "cell_type": "markdown",
   "metadata": {},
   "source": [
    "### Defining the Relationship Categories\n",
    "The first step was to define the categories of relationships we were interested in.\n",
    "Here are the three relationships I had to define: `MARRIED_TO` , `SIBLING_TO` , `PARENT_OF`.\n",
    "\n",
    "![explanation-01](./assets/05-titanicqasystem-flow-explanation-01.png)\n",
    "\n",
    "Both `MARRIED_TO` and `SIBLING_TO` would imply the same relationship in the other direction between the same nodes. \n",
    "\n",
    "`PARENT_OF` would imply a reverse relationship of `CHILD_OF` .\n"
   ]
  },
  {
   "cell_type": "markdown",
   "metadata": {},
   "source": [
    "## Data Restructure\n",
    "### Why We Create Passenger Nodes\n",
    "\n",
    "We create `Passenger` nodes to represent each Titanic passenger in the graph database. \n",
    "\n",
    "This enables us to:\n",
    "- Assign properties (e.g., `age` , `ticket` , `survived` ) directly to a node.\n",
    "- Connect these person with relationships to other entities (e.g., `SIBLING_OF` , `MARRIED_TO` , `PARENT_OF` ) once we identify family links or other relevant data points.\n",
    "- Query the graph to analyze connections, run aggregations on survivor counts, family group structures, or other correlations inherent in the Titanic dataset.\n",
    "\n",
    "By modeling person as nodes, `Neo4j` can leverage its graph capabilities (like path finding, pattern matching, or graph algorithms) to deliver deeper insights than a traditional relational or tabular approach might."
   ]
  },
  {
   "cell_type": "code",
   "execution_count": 12,
   "metadata": {},
   "outputs": [
    {
     "name": "stderr",
     "output_type": "stream",
     "text": [
      "Received notification from DBMS server: {severity: WARNING} {code: Neo.ClientNotification.Statement.FeatureDeprecationWarning} {category: DEPRECATION} {title: This feature is deprecated and will be removed in future versions.} {description: The procedure has a deprecated field. ('config' used by 'apoc.meta.graphSample' is deprecated.)} {position: line: 1, column: 1, offset: 0} for query: \"CALL apoc.meta.graphSample() YIELD nodes, relationships RETURN nodes, [rel in relationships | {name:apoc.any.property(rel, 'type'), count: apoc.any.property(rel, 'count')}] AS relationships\"\n"
     ]
    },
    {
     "name": "stdout",
     "output_type": "stream",
     "text": [
      "Ticket node count: [{'ticketCount': 0}]\n",
      "Node properties:\n",
      "- **Passenger**\n",
      "  - `name`: STRING Example: \"Braund, Mr. Owen Harris\"\n",
      "  - `lastName`: STRING Example: \"Braund\"\n",
      "  - `age`: FLOAT Min: 0.42, Max: 80.0\n",
      "  - `sex`: STRING Available options: ['male', 'female']\n",
      "  - `survived`: INTEGER Min: 0, Max: 1\n",
      "  - `sibsp`: INTEGER Min: 0, Max: 5\n",
      "  - `parch`: INTEGER Min: 0, Max: 6\n",
      "  - `ticket`: STRING Example: \"A/5 21171\"\n",
      "  - `pclass`: INTEGER Min: 1, Max: 3\n",
      "  - `fare`: FLOAT Min: 0.0, Max: 512.3292\n",
      "  - `embarked`: STRING Available options: ['S', 'C', 'Q', 'NaN']\n",
      "  - `family`: INTEGER Min: 0, Max: 7\n",
      "  - `passengerId`: INTEGER Min: 1, Max: 891\n",
      "Relationship properties:\n",
      "\n",
      "The relationships:\n",
      "\n"
     ]
    }
   ],
   "source": [
    "cypher = \"\"\"\n",
    "UNWIND $person AS row\n",
    "MERGE (p:Passenger { passengerId: toInteger(row.PassengerId) })\n",
    "ON CREATE SET\n",
    "    p.name      = row.Name,\n",
    "    p.lastName  = row.LastName,\n",
    "    p.age       = CASE WHEN row.Age <> '' THEN toFloat(row.Age) ELSE null END,\n",
    "    p.sex       = row.Sex,\n",
    "    p.survived  = row.Survived,\n",
    "    p.sibsp     = CASE WHEN row.SibSp <> '' THEN toInteger(row.SibSp) ELSE 0 END,\n",
    "    p.parch     = CASE WHEN row.Parch <> '' THEN toInteger(row.Parch) ELSE 0 END,\n",
    "    p.family    = CASE\n",
    "                     WHEN row.SibSp <> '' AND row.Parch <> ''\n",
    "                     THEN toInteger(row.SibSp) + toInteger(row.Parch)\n",
    "                     ELSE 0\n",
    "                  END,\n",
    "    p.ticket    = row.Ticket,\n",
    "    p.pclass    = CASE WHEN row.Pclass <> '' THEN toInteger(row.Pclass) ELSE null END,\n",
    "    p.fare      = CASE WHEN row.Fare <> '' THEN toFloat(row.Fare) ELSE null END,\n",
    "    p.embarked  = row.Embarked\n",
    "RETURN count(*) AS total\n",
    "\"\"\"\n",
    "\n",
    "params = {\"person\": df.to_dict(\"records\")}\n",
    "\n",
    "graph.query(cypher, params)\n",
    "\n",
    "# 확인 쿼리 (Python에서)\n",
    "result = graph.query(\"MATCH (t:Ticket) RETURN count(t) AS ticketCount\")\n",
    "print(\"Ticket node count:\", result)\n",
    "\n",
    "graph.refresh_schema()\n",
    "print(graph.schema)"
   ]
  },
  {
   "cell_type": "markdown",
   "metadata": {},
   "source": [
    "Verifying Nodes in Neo4j Browser\n",
    "\n",
    "Cypher query:\n",
    ">MATCH (n:Passenger) RETURN n LIMIT 10\n",
    "\n",
    "![explanation-07](./assets/05-titanicqasystem-flow-explanation-07.png)\n",
    "The nodes have been successfully created!"
   ]
  },
  {
   "cell_type": "code",
   "execution_count": 13,
   "metadata": {},
   "outputs": [
    {
     "name": "stdout",
     "output_type": "stream",
     "text": [
      "Ticket node count: [{'ticketCount': 542}]\n"
     ]
    }
   ],
   "source": [
    "ticket_node_query = \"\"\"\n",
    "UNWIND $person AS row\n",
    "MERGE (t:Ticket {ticketNo: row.Ticket})\n",
    "\"\"\"\n",
    "params = {\"person\": df.to_dict(\"records\")}\n",
    "\n",
    "# Execute Query\n",
    "graph.query(ticket_node_query, params)\n",
    "\n",
    "result = graph.query(\"MATCH (t:Ticket) RETURN count(t) AS ticketCount\")\n",
    "print(\"Ticket node count:\", result)"
   ]
  },
  {
   "cell_type": "code",
   "execution_count": 14,
   "metadata": {},
   "outputs": [
    {
     "name": "stdout",
     "output_type": "stream",
     "text": [
      "TRAVELED_ON relationships created: [{'totalEdges': 714}]\n"
     ]
    }
   ],
   "source": [
    "travel_on_query = \"\"\"\n",
    "UNWIND $person AS row\n",
    "MATCH (p:Passenger { passengerId: toInteger(row.PassengerId) })\n",
    "MATCH (t:Ticket { ticketNo: row.Ticket })\n",
    "MERGE (p)-[:TRAVELED_ON]->(t)\n",
    "RETURN count(*) AS totalEdges\n",
    "\"\"\"\n",
    "# Execute Query\n",
    "rel_result = graph.query(travel_on_query, params)\n",
    "print(\"TRAVELED_ON relationships created:\", rel_result)"
   ]
  },
  {
   "cell_type": "code",
   "execution_count": 15,
   "metadata": {},
   "outputs": [
    {
     "name": "stderr",
     "output_type": "stream",
     "text": [
      "Received notification from DBMS server: {severity: WARNING} {code: Neo.ClientNotification.Statement.FeatureDeprecationWarning} {category: DEPRECATION} {title: This feature is deprecated and will be removed in future versions.} {description: The procedure has a deprecated field. ('config' used by 'apoc.meta.graphSample' is deprecated.)} {position: line: 1, column: 1, offset: 0} for query: \"CALL apoc.meta.graphSample() YIELD nodes, relationships RETURN nodes, [rel in relationships | {name:apoc.any.property(rel, 'type'), count: apoc.any.property(rel, 'count')}] AS relationships\"\n"
     ]
    },
    {
     "name": "stdout",
     "output_type": "stream",
     "text": [
      "Node properties:\n",
      "- **Passenger**\n",
      "  - `name`: STRING Example: \"Braund, Mr. Owen Harris\"\n",
      "  - `lastName`: STRING Example: \"Braund\"\n",
      "  - `age`: FLOAT Min: 0.42, Max: 80.0\n",
      "  - `sex`: STRING Available options: ['male', 'female']\n",
      "  - `survived`: INTEGER Min: 0, Max: 1\n",
      "  - `sibsp`: INTEGER Min: 0, Max: 5\n",
      "  - `parch`: INTEGER Min: 0, Max: 6\n",
      "  - `ticket`: STRING Example: \"A/5 21171\"\n",
      "  - `pclass`: INTEGER Min: 1, Max: 3\n",
      "  - `fare`: FLOAT Min: 0.0, Max: 512.3292\n",
      "  - `embarked`: STRING Available options: ['S', 'C', 'Q', 'NaN']\n",
      "  - `family`: INTEGER Min: 0, Max: 7\n",
      "  - `passengerId`: INTEGER Min: 1, Max: 891\n",
      "- **Ticket**\n",
      "  - `ticketNo`: STRING Example: \"349241\"\n",
      "Relationship properties:\n",
      "\n",
      "The relationships:\n",
      "(:Passenger)-[:TRAVELED_ON]->(:Ticket)\n"
     ]
    }
   ],
   "source": [
    "graph.refresh_schema()\n",
    "print(graph.schema)"
   ]
  },
  {
   "cell_type": "markdown",
   "metadata": {},
   "source": [
    "### Why Create These Relationships?\n",
    "\n",
    "1.\t`MARRIED_TO` \n",
    "Infers a couple is married if they share the same Ticket, have the same LastName, have sibsp = 1 (i.e., exactly one sibling/spouse count in the data), differ in sex, and a few additional age-based checks.\n",
    "\n",
    "2.\t`SIBLING_OF` \n",
    "Among those not married, uses SibSp, LastName, Ticket, and other constraints (e.g., (p2).parch = 1 or 2) to guess they’re siblings if they appear to have the same “family” context but are not recognized as spouses.\n",
    "\n",
    "3. `PARENT_OF` (and/or `CHILD_OF` )\n",
    "If the passenger has parch >= 1 (parents/children on board), is older than some threshold, or specifically older than the potential child, create PARENT_OF edges.\n",
    "\n",
    "These queries are heuristics to reconstruct plausible family connections from partial data. They rely on simplified assumptions—such as “If two people share a ticket, they might be family,” “If a passenger’s sibsp=1, that single sibling/spouse is probably a spouse rather than a child,” etc. You can refine or alter the logic to fit your own inference approach."
   ]
  },
  {
   "cell_type": "markdown",
   "metadata": {},
   "source": [
    "### Key Idea\n",
    "< `MARRIED_TO` >\n",
    "1. Find passengers (person, other) who share the same ticket using the `TRAVELED_ON` relationship.\n",
    "\n",
    "2. Create a **family members list** by collecting others (collect(other)) after `ORDER BY other.age DESC` .\n",
    "\n",
    "3. Consider familyMembers[0] (the oldest person) as the \"spouse candidate\" or \"family representative\".\n",
    "\n",
    "4. Use `FOREACH`(... `CREATE` ...) statement to create relationships only for passengers meeting specific conditions.\n",
    "\n",
    "5. p2 = familyMembers[0] → \"Only consider the oldest (or first) person as a spouse candidate\"\n",
    "\n",
    "6. (`size(familyMembers) = 1` OR `p1.age > familyMembers[1].age` ) → Complex conditions like \"If there's only one family member, or if p1 is older than the second oldest person...\"\n",
    "\n",
    "If passengers share the same ticket + same family + sibsp=1 , they are considered spouses, processing only the first person by family age order as a spouse.\n"
   ]
  },
  {
   "cell_type": "code",
   "execution_count": 16,
   "metadata": {},
   "outputs": [
    {
     "name": "stderr",
     "output_type": "stream",
     "text": [
      "Received notification from DBMS server: {severity: WARNING} {code: Neo.ClientNotification.Statement.FeatureDeprecationWarning} {category: DEPRECATION} {title: This feature is deprecated and will be removed in future versions.} {description: The procedure has a deprecated field. ('config' used by 'apoc.meta.graphSample' is deprecated.)} {position: line: 1, column: 1, offset: 0} for query: \"CALL apoc.meta.graphSample() YIELD nodes, relationships RETURN nodes, [rel in relationships | {name:apoc.any.property(rel, 'type'), count: apoc.any.property(rel, 'count')}] AS relationships\"\n"
     ]
    },
    {
     "name": "stdout",
     "output_type": "stream",
     "text": [
      "Node properties:\n",
      "- **Passenger**\n",
      "  - `name`: STRING Example: \"Braund, Mr. Owen Harris\"\n",
      "  - `lastName`: STRING Example: \"Braund\"\n",
      "  - `age`: FLOAT Min: 0.42, Max: 80.0\n",
      "  - `sex`: STRING Available options: ['male', 'female']\n",
      "  - `survived`: INTEGER Min: 0, Max: 1\n",
      "  - `sibsp`: INTEGER Min: 0, Max: 5\n",
      "  - `parch`: INTEGER Min: 0, Max: 6\n",
      "  - `ticket`: STRING Example: \"A/5 21171\"\n",
      "  - `pclass`: INTEGER Min: 1, Max: 3\n",
      "  - `fare`: FLOAT Min: 0.0, Max: 512.3292\n",
      "  - `embarked`: STRING Available options: ['S', 'C', 'Q', 'NaN']\n",
      "  - `family`: INTEGER Min: 0, Max: 7\n",
      "  - `passengerId`: INTEGER Min: 1, Max: 891\n",
      "- **Ticket**\n",
      "  - `ticketNo`: STRING Example: \"349241\"\n",
      "Relationship properties:\n",
      "\n",
      "The relationships:\n",
      "(:Passenger)-[:TRAVELED_ON]->(:Ticket)\n",
      "(:Passenger)-[:MARRIED_TO]->(:Passenger)\n"
     ]
    }
   ],
   "source": [
    "# MARRIED_TO\n",
    "married_query = \"\"\"\n",
    "MATCH (person:Passenger)\n",
    "WHERE person.age IS NOT NULL\n",
    "MATCH (person)-[:TRAVELED_ON]->(ticket:Ticket)<-[:TRAVELED_ON]-(other:Passenger)\n",
    "WHERE other.age IS NOT NULL\n",
    "  AND person.family = other.family\n",
    "WITH person, other\n",
    "ORDER BY other.age DESC\n",
    "WITH person AS p1, collect(other) AS familyMembers\n",
    "WITH p1, familyMembers,\n",
    "     [p2 IN familyMembers\n",
    "        WHERE p1.sibsp = 1\n",
    "          AND p2.sibsp = 1\n",
    "          AND p2.family >= 1\n",
    "          AND p2.sex <> p1.sex\n",
    "          AND p2 = familyMembers[0]\n",
    "          AND (size(familyMembers) = 1 OR p1.age > familyMembers[1].age)\n",
    "     ] AS spouses\n",
    "FOREACH (p IN spouses | CREATE (p1)-[:MARRIED_TO]->(p))\n",
    "\"\"\"\n",
    "\n",
    "graph.query(married_query)\n",
    "graph.refresh_schema()\n",
    "print(graph.schema)"
   ]
  },
  {
   "cell_type": "markdown",
   "metadata": {},
   "source": [
    "< `SIBLING_OF` & `PARENT_OF` >\n",
    "\n",
    "1. Find passengers sharing the same ticket and family name using `TRAVELED_ON` relationship.\n",
    "\n",
    "2. Create a **family members list** ordered by age (`ORDER BY other.age DESC`).\n",
    "\n",
    "3. Identify siblings based on conditions:\n",
    "- Not married (no `MARRIED_TO` relationship)\n",
    "- Has siblings (`sibsp >= 1`)\n",
    "- Same sibsp value between passengers\n",
    "- `Family value >= 1`\n",
    "- Parent/child count (parch) is 1 or 2\n",
    "- Not the oldest family member\n",
    "\n",
    "4. Identify children based on conditions:\n",
    "- Not married\n",
    "- Not in siblings list\n",
    "- `Family value >= 1`\n",
    "- Parent/child count is 1 or 2\n",
    "- Age comparison (`p1 older than p2`)\n"
   ]
  },
  {
   "cell_type": "code",
   "execution_count": 17,
   "metadata": {},
   "outputs": [
    {
     "name": "stderr",
     "output_type": "stream",
     "text": [
      "Received notification from DBMS server: {severity: WARNING} {code: Neo.ClientNotification.Statement.FeatureDeprecationWarning} {category: DEPRECATION} {title: This feature is deprecated and will be removed in future versions.} {description: The procedure has a deprecated field. ('config' used by 'apoc.meta.graphSample' is deprecated.)} {position: line: 1, column: 1, offset: 0} for query: \"CALL apoc.meta.graphSample() YIELD nodes, relationships RETURN nodes, [rel in relationships | {name:apoc.any.property(rel, 'type'), count: apoc.any.property(rel, 'count')}] AS relationships\"\n"
     ]
    },
    {
     "name": "stdout",
     "output_type": "stream",
     "text": [
      "Node properties:\n",
      "- **Passenger**\n",
      "  - `name`: STRING Example: \"Braund, Mr. Owen Harris\"\n",
      "  - `lastName`: STRING Example: \"Braund\"\n",
      "  - `age`: FLOAT Min: 0.42, Max: 80.0\n",
      "  - `sex`: STRING Available options: ['male', 'female']\n",
      "  - `survived`: INTEGER Min: 0, Max: 1\n",
      "  - `sibsp`: INTEGER Min: 0, Max: 5\n",
      "  - `parch`: INTEGER Min: 0, Max: 6\n",
      "  - `ticket`: STRING Example: \"A/5 21171\"\n",
      "  - `pclass`: INTEGER Min: 1, Max: 3\n",
      "  - `fare`: FLOAT Min: 0.0, Max: 512.3292\n",
      "  - `embarked`: STRING Available options: ['S', 'C', 'Q', 'NaN']\n",
      "  - `family`: INTEGER Min: 0, Max: 7\n",
      "  - `passengerId`: INTEGER Min: 1, Max: 891\n",
      "- **Ticket**\n",
      "  - `ticketNo`: STRING Example: \"349241\"\n",
      "Relationship properties:\n",
      "\n",
      "The relationships:\n",
      "(:Passenger)-[:TRAVELED_ON]->(:Ticket)\n",
      "(:Passenger)-[:MARRIED_TO]->(:Passenger)\n",
      "(:Passenger)-[:SIBLING_OF]->(:Passenger)\n",
      "(:Passenger)-[:PARENT_OF]->(:Passenger)\n"
     ]
    }
   ],
   "source": [
    "# SIBLING_OF & PARENT_OF\n",
    "\n",
    "sibling_parent_query = \"\"\"\n",
    "    MATCH (person:Passenger)\n",
    "    WHERE person.age IS NOT NULL\n",
    "    MATCH (person:Passenger)-[:TRAVELED_ON]->(ticket:Ticket)<-[:TRAVELED_ON]-(other:Passenger)\n",
    "    WHERE other.age IS NOT NULL AND person.family = other.family\n",
    "    WITH person, other\n",
    "    ORDER BY other.age DESC\n",
    "    WITH person as p1, collect(other) as familyMembers\n",
    "    WITH p1, familyMembers, [p2 in familyMembers WHERE\n",
    "    NOT (p2)-[:MARRIED_TO]->() AND\n",
    "    NOT (p1)-[:MARRIED_TO]->() AND\n",
    "    p2.sibsp >= 1 AND\n",
    "    p2.sibsp = p1.sibsp AND\n",
    "    p2.family >= 1 AND\n",
    "    (p2.parch = 1 OR p2.parch = 2) AND\n",
    "    NOT p2 = familyMembers [0] AND\n",
    "    NOT p1 = familyMembers [0] \n",
    "    ] as siblings\n",
    "    WITH p1, familyMembers, siblings, [p2 in familyMembers WHERE\n",
    "    NOT (p2)-[:MARRIED_TO]->() AND\n",
    "    NOT p2 IN siblings AND\n",
    "    NOT p1 IN siblings AND \n",
    "    p2.family >= 1 AND\n",
    "    (p2.parch = 1 OR p2.parch = 2) AND\n",
    "    p1.parch >= 1 AND\n",
    "    p1.age > p2.age\n",
    "    ] as children\n",
    "FOREACH (p in siblings | CREATE (p1)-[:SIBLING_OF]->(p))\n",
    "FOREACH (p in children | CREATE (p1)-[:PARENT_OF]->(p))\n",
    "\"\"\"\n",
    "\n",
    "graph.query(sibling_parent_query)\n",
    "graph.refresh_schema()\n",
    "print(graph.schema)"
   ]
  },
  {
   "cell_type": "markdown",
   "metadata": {},
   "source": [
    "### Consider the Data with Neo4j Desktop Visualization\n",
    "\n",
    "While we often handle and analyze large datasets using machine learning and deep learning techniques, visualizing data relationships through graph databases like Neo4j offers unique insights. The attached node visualization from `Neo4j Desktop` demonstrates the intricate connections within our Titanic dataset.\n",
    "\n",
    "This graph-based approach allows us to:\n",
    "1. Discover hidden patterns in passenger relationships\n",
    "2. Analyze survival rates based on social connections\n",
    "3. Identify clusters of passengers with similar characteristics\n",
    "4. Explore complex relationships that might be missed in traditional tabular analysis\n",
    "\n",
    "By combining these visual insights with ML/DL approaches, we can develop a more comprehensive understanding of the data and potentially uncover novel patterns that might be overlooked using traditional analysis methods alone.\n",
    "\n",
    "**[Attached: Neo4j Desktop visualization of Titanic dataset relationships]**\n",
    "\n",
    "![explanation-08](./assets/05-titanicqasystem-flow-explanation-08.png)"
   ]
  },
  {
   "cell_type": "markdown",
   "metadata": {},
   "source": [
    "# Usage Example\n",
    "Exploring Titanic Dataset with `Neo4j` and `LangGraph`\n",
    "\n",
    "When converting natural language into Cypher queries, the process doesn’t always succeed on the first try. Queries can fail for various reasons:\n",
    "1. Nonexistent columns or properties\n",
    "2. Typos in relationship or node labels\n",
    "3. Logical mistakes leading to syntax errors\n",
    "\n",
    "To handle these challenges, this tutorial demonstrates:\n",
    "- Robust error handling for query validation\n",
    "- Property existence checking before query execution\n",
    "- Automated syntax verification using `EXPLAIN`\n",
    "- Smart query reformulation using LLMs\n",
    "- Step-by-step debugging techniques for complex queries"
   ]
  },
  {
   "cell_type": "code",
   "execution_count": 18,
   "metadata": {},
   "outputs": [],
   "source": [
    "from langchain_openai import ChatOpenAI\n",
    "\n",
    "llm = ChatOpenAI(model=\"gpt-4o\", temperature=0, api_key=os.getenv(\"OPENAI_API_KEY\"))"
   ]
  },
  {
   "cell_type": "code",
   "execution_count": 19,
   "metadata": {},
   "outputs": [
    {
     "name": "stdout",
     "output_type": "stream",
     "text": [
      "input_variables=['question', 'schema'] input_types={} partial_variables={} template='\\nYou have a Neo4j database with a \\'Passenger\\' node label, which includes properties:\\n- Passenger [ id, name, age, sex, survived, sibsp, parch, ticket, pclass, fare, embarked ]\\n\\nSchema: \\n{schema}\\n\\nRelationships (inferred from the Titanic blog):\\n- :SIBLING_OF\\n- :MARRIED_TO\\n- :PARENT_OF\\n\\nRules:\\n- If the user mentions siblings, brother, or sister, use :SIBLING_OF.\\n- If the user mentions spouse, married, husband, or wife, use :MARRIED_TO.\\n- If the user mentions parent, child, mother, or father, use :PARENT_OF\\n- Do not invent new relationship names. Only use the 4 types above if relevant.\\n- The node label is only \\'Passenger\\'. Do not invent new labels.\\n- Use MATCH (p:Passenger) to reference person. \\n- Return your Cypher query in a single code block.\\n\\nExamples : \\n\\n**Example 1**  \\n**Natural language**: \"Find me all the spouses of Mr. John Smith.\"  \\n**Cypher**: \"MATCH (p:Passenger {{name: \"John Smith\"}})-[:MARRIED_TO]->(spouse:Passenger)\\nRETURN spouse.name AS spouseName\"\\n\\nThe question is:\\n{question}\\n\\n'\n",
      "\n",
      "\n",
      "\u001b[1m> Entering new GraphCypherQAChain chain...\u001b[0m\n",
      "Generated Cypher:\n",
      "\u001b[32;1m\u001b[1;3mcypher\n",
      "MATCH (p:Passenger)-[:SIBLING_OF]->(sibling:Passenger)\n",
      "RETURN p.name AS passengerName, COUNT(sibling) AS siblingCount\n",
      "ORDER BY siblingCount DESC\n",
      "LIMIT 1\n",
      "\u001b[0m\n",
      "Full Context:\n",
      "\u001b[32;1m\u001b[1;3m[{'passengerName': 'Panula, Master. Juha Niilo', 'siblingCount': 4}]\u001b[0m\n",
      "\n",
      "\u001b[1m> Finished chain.\u001b[0m\n"
     ]
    },
    {
     "data": {
      "text/plain": [
       "{'query': 'Which passenger has the most siblings?',\n",
       " 'result': 'Panula, Master. Juha Niilo has the most siblings, with a sibling count of 4.'}"
      ]
     },
     "execution_count": 19,
     "metadata": {},
     "output_type": "execute_result"
    }
   ],
   "source": [
    "from langchain_core.prompts.prompt import PromptTemplate\n",
    "from langchain_neo4j import GraphCypherQAChain\n",
    "\n",
    "schema = graph.schema\n",
    "\n",
    "# PROMPT SETUP\n",
    "# Our schema + usage instructions referencing the Titanic relationships\n",
    "\n",
    "TITANIC_SCHEMA_PROMPT = \"\"\"\n",
    "You have a Neo4j database with a 'Passenger' node label, which includes properties:\n",
    "- Passenger [ id, name, age, sex, survived, sibsp, parch, ticket, pclass, fare, embarked ]\n",
    "\n",
    "Schema: \n",
    "{schema}\n",
    "\n",
    "Relationships (inferred from the Titanic blog):\n",
    "- :SIBLING_OF\n",
    "- :MARRIED_TO\n",
    "- :PARENT_OF\n",
    "\n",
    "Rules:\n",
    "- If the user mentions siblings, brother, or sister, use :SIBLING_OF.\n",
    "- If the user mentions spouse, married, husband, or wife, use :MARRIED_TO.\n",
    "- If the user mentions parent, child, mother, or father, use :PARENT_OF\n",
    "- Do not invent new relationship names. Only use the 4 types above if relevant.\n",
    "- The node label is only 'Passenger'. Do not invent new labels.\n",
    "- Use MATCH (p:Passenger) to reference person. \n",
    "- Return your Cypher query in a single code block.\n",
    "\n",
    "Examples : \n",
    "\n",
    "**Example 1**  \n",
    "**Natural language**: \"Find me all the spouses of Mr. John Smith.\"  \n",
    "**Cypher**: \"MATCH (p:Passenger {{name: \"John Smith\"}})-[:MARRIED_TO]->(spouse:Passenger)\n",
    "RETURN spouse.name AS spouseName\"\n",
    "\n",
    "The question is:\n",
    "{question}\n",
    "\n",
    "\"\"\"\n",
    "\n",
    "CYPHER_GENERATION_PROMPT = PromptTemplate(\n",
    "    input_variables=[\"schema\", \"question\"], template=TITANIC_SCHEMA_PROMPT\n",
    ")\n",
    "print(CYPHER_GENERATION_PROMPT)\n",
    "\n",
    "# Initialize the QA chain with GPT-4o and Neo4j graph\n",
    "chain = GraphCypherQAChain.from_llm(\n",
    "    ChatOpenAI(model=\"gpt-4o\", temperature=0, api_key=os.getenv(\"OPENAI_API_KEY\")),\n",
    "    graph=graph,\n",
    "    verbose=True,\n",
    "    cypher_prompt=CYPHER_GENERATION_PROMPT,\n",
    "    allow_dangerous_requests=True,\n",
    ")\n",
    "\n",
    "# Example query 1 to find the passenger with the most siblings\n",
    "chain.invoke({\"query\": \"Which passenger has the most siblings?\"})"
   ]
  },
  {
   "cell_type": "code",
   "execution_count": 20,
   "metadata": {},
   "outputs": [
    {
     "name": "stdout",
     "output_type": "stream",
     "text": [
      "\n",
      "\n",
      "\u001b[1m> Entering new GraphCypherQAChain chain...\u001b[0m\n",
      "Generated Cypher:\n",
      "\u001b[32;1m\u001b[1;3mcypher\n",
      "MATCH (p:Passenger)\n",
      "WITH \n",
      "  p.pclass AS class, \n",
      "  p.sex AS sex, \n",
      "  CASE \n",
      "    WHEN p.age < 18 THEN 'child' \n",
      "    ELSE 'adult' \n",
      "  END AS ageGroup, \n",
      "  AVG(p.survived) AS survivalRate\n",
      "RETURN \n",
      "  class, \n",
      "  sex, \n",
      "  ageGroup, \n",
      "  survivalRate\n",
      "ORDER BY \n",
      "  survivalRate DESC\n",
      "\u001b[0m\n",
      "Full Context:\n",
      "\u001b[32;1m\u001b[1;3m[{'class': 2, 'sex': 'female', 'ageGroup': 'child', 'survivalRate': 1.0}, {'class': 1, 'sex': 'male', 'ageGroup': 'child', 'survivalRate': 1.0}, {'class': 1, 'sex': 'female', 'ageGroup': 'adult', 'survivalRate': 0.9740259740259738}, {'class': 2, 'sex': 'female', 'ageGroup': 'adult', 'survivalRate': 0.9032258064516127}, {'class': 1, 'sex': 'female', 'ageGroup': 'child', 'survivalRate': 0.875}, {'class': 2, 'sex': 'male', 'ageGroup': 'child', 'survivalRate': 0.8181818181818181}, {'class': 3, 'sex': 'female', 'ageGroup': 'child', 'survivalRate': 0.5428571428571428}, {'class': 3, 'sex': 'female', 'ageGroup': 'adult', 'survivalRate': 0.4179104477611941}, {'class': 1, 'sex': 'male', 'ageGroup': 'adult', 'survivalRate': 0.37113402061855666}, {'class': 3, 'sex': 'male', 'ageGroup': 'child', 'survivalRate': 0.23255813953488375}]\u001b[0m\n",
      "\n",
      "\u001b[1m> Finished chain.\u001b[0m\n"
     ]
    },
    {
     "data": {
      "text/plain": [
       "{'query': 'Tell me about the conditions that will give me the highest chance of survival.',\n",
       " 'result': 'The highest chance of survival is for children, regardless of sex, in class 1 or class 2, with a survival rate of 1.0.'}"
      ]
     },
     "execution_count": 20,
     "metadata": {},
     "output_type": "execute_result"
    }
   ],
   "source": [
    "# Example query 2\n",
    "chain.invoke(\n",
    "    {\n",
    "        \"query\": \"Tell me about the conditions that will give me the highest chance of survival.\"\n",
    "    }\n",
    ")"
   ]
  },
  {
   "cell_type": "code",
   "execution_count": 21,
   "metadata": {},
   "outputs": [
    {
     "name": "stdout",
     "output_type": "stream",
     "text": [
      "\n",
      "\n",
      "\u001b[1m> Entering new GraphCypherQAChain chain...\u001b[0m\n",
      "Generated Cypher:\n",
      "\u001b[32;1m\u001b[1;3mcypher\n",
      "// Calculate survival rate for passengers with children\n",
      "MATCH (p:Passenger)-[:PARENT_OF]->(:Passenger)\n",
      "WITH COUNT(p) AS totalWithChildren, SUM(p.survived) AS survivedWithChildren\n",
      "\n",
      "// Calculate survival rate for passengers without children\n",
      "MATCH (p:Passenger)\n",
      "WHERE NOT (p)-[:PARENT_OF]->(:Passenger)\n",
      "WITH totalWithChildren, survivedWithChildren, COUNT(p) AS totalWithoutChildren, SUM(p.survived) AS survivedWithoutChildren\n",
      "\n",
      "// Calculate survival rates\n",
      "RETURN \n",
      "  (survivedWithChildren * 1.0 / totalWithChildren) AS survivalRateWithChildren,\n",
      "  (survivedWithoutChildren * 1.0 / totalWithoutChildren) AS survivalRateWithoutChildren\n",
      "\u001b[0m\n",
      "Full Context:\n",
      "\u001b[32;1m\u001b[1;3m[{'survivalRateWithChildren': 0.3838383838383838, 'survivalRateWithoutChildren': 0.39663093415007655}]\u001b[0m\n",
      "\n",
      "\u001b[1m> Finished chain.\u001b[0m\n"
     ]
    },
    {
     "data": {
      "text/plain": [
       "{'query': 'What is the survival rate comparison between passengers with children and those without children?',\n",
       " 'result': 'The survival rate for passengers with children is 38.38%, while for those without children, it is 39.66%.'}"
      ]
     },
     "execution_count": 21,
     "metadata": {},
     "output_type": "execute_result"
    }
   ],
   "source": [
    "# Example query 3\n",
    "chain.invoke(\n",
    "    {\n",
    "        \"query\": \"What is the survival rate comparison between passengers with children and those without children?\"\n",
    "    }\n",
    ")"
   ]
  },
  {
   "cell_type": "markdown",
   "metadata": {},
   "source": [
    "### Usage Example using Langgraph\n",
    "**Why Use langgraph?** \n",
    "\n",
    "Sometimes, natural language can’t be directly or accurately converted to a valid Cypher query on the first try. The query might fail for various reasons:\n",
    "1.\tNonexistent Columns or Properties\n",
    "2.\tTypos in relationship labels or node labels\n",
    "3.\tLogical Mistakes leading to syntax errors\n",
    "\n",
    "Instead of manually fixing the query, we can automate the process:\n",
    "1.\tAsk an LLM to generate a query from a user’s question.\n",
    "2.\tTry running the query against `Neo4j` .\n",
    "3.\tIf it fails, capture the error message and feed it back to the LLM so it can revise the query.\n",
    "4.\tRetry until a valid query is produced or we exceed the maximum number of attempts.\n",
    "\n",
    "This iterative approach significantly improves robustness when handling open-ended user questions.\n"
   ]
  },
  {
   "cell_type": "code",
   "execution_count": 22,
   "metadata": {},
   "outputs": [],
   "source": [
    "from typing_extensions import TypedDict\n",
    "from operator import add\n",
    "from typing import Annotated, List\n",
    "from langchain_core.prompts import ChatPromptTemplate\n",
    "\n",
    "class InputState(TypedDict):\n",
    "    question: str\n",
    "\n",
    "class OverallState(TypedDict):\n",
    "    question: str\n",
    "    next_action: str\n",
    "    cypher_statement: str\n",
    "    cypher_errors: List[str]\n",
    "    database_records: List[dict]\n",
    "    steps: Annotated[List[str], add]\n",
    "\n",
    "class OutputState(TypedDict):\n",
    "    answer: str\n",
    "    steps: List[str]\n",
    "    cypher_statement: str\n",
    "\n",
    "text2cypher_prompt = ChatPromptTemplate.from_messages(\n",
    "    [\n",
    "        (\n",
    "            \"system\",\n",
    "            (\n",
    "                \"Given an input question, convert it to a Cypher query. No pre-amble.\"\n",
    "                \"Do not wrap the response in any backticks or anything else. Respond with a Cypher statement only!\"\n",
    "            ),\n",
    "        ),\n",
    "        (\n",
    "            \"human\",\n",
    "            (\n",
    "                \"\"\"You are a Neo4j expert. Given an input question, create a syntactically correct Cypher query to run.\n",
    "                Do not wrap the response in any backticks or anything else. Respond with a Cypher statement only!\n",
    "                Here is the schema information  \n",
    "                {schema}\n",
    "\n",
    "                Relationships (inferred from the Titanic blog):\n",
    "                - :SIBLING_OF\n",
    "                - :MARRIED_TO\n",
    "                - :PARENT_OF\n",
    "\n",
    "                Below are a number of examples of questions and their corresponding Cypher queries.\n",
    "\n",
    "                **User input**: \"Find me all the spouses of Mr. John Smith.\"  \n",
    "                **Cypher query**: \"MATCH (p:Passenger {{name: \"John Smith\"}})-[:MARRIED_TO]->(spouse:Passenger)\n",
    "                RETURN spouse.name AS spouseName\"\n",
    "\n",
    "                User input: {question}\n",
    "                Cypher query:\"\"\"\n",
    "            ),\n",
    "        ),\n",
    "    ]\n",
    ")\n"
   ]
  },
  {
   "cell_type": "code",
   "execution_count": 23,
   "metadata": {},
   "outputs": [],
   "source": [
    "from langchain_core.output_parsers import StrOutputParser\n",
    "from langchain_core.prompts import ChatPromptTemplate\n",
    "\n",
    "llm = ChatOpenAI(model=\"gpt-4o\", temperature=0, api_key=os.getenv(\"OPENAI_API_KEY\"))\n",
    "\n",
    "def generate_cypher(state: OverallState) -> OverallState:\n",
    "    \"\"\"\n",
    "    Generates a cypher statement based on the provided schema and user input\n",
    "    \"\"\"\n",
    "\n",
    "    try:\n",
    "       \n",
    "        # Create the text2cypher chain\n",
    "        text2cypher_chain = text2cypher_prompt | llm | StrOutputParser()\n",
    "\n",
    "        generated_cypher = text2cypher_chain.invoke(\n",
    "        {\n",
    "            \"question\": state.get(\"question\"),\n",
    "            \"schema\": graph.schema\n",
    "        })\n",
    "\n",
    "        return {\"cypher_statement\": generated_cypher, \"steps\": [\"generate_cypher\"]}\n",
    "\n",
    "    except Exception as e:\n",
    "        return {\"error_message\": str(e), \"steps\": [\"cypher_rewriter_node\"]}"
   ]
  },
  {
   "cell_type": "markdown",
   "metadata": {},
   "source": [
    "First, we will create a chain that detects any errors in the Cypher statement and extracts the property values it references."
   ]
  },
  {
   "cell_type": "code",
   "execution_count": 24,
   "metadata": {},
   "outputs": [],
   "source": [
    "from typing import Optional\n",
    "\n",
    "validate_cypher_system = \"\"\"\n",
    "You are a Cypher expert reviewing a statement written by a junior developer.\n",
    "\"\"\"\n",
    "\n",
    "validate_cypher_user = \"\"\"You must check the following:\n",
    "* Are there any syntax errors in the Cypher statement?\n",
    "* Are there any missing or undefined variables in the Cypher statement?\n",
    "* Are any node labels missing from the schema?\n",
    "* Are any relationship types missing from the schema?\n",
    "* Are any of the properties not included in the schema?\n",
    "* Does the Cypher statement include enough information to answer the question?\n",
    "\n",
    "Examples of good errors:\n",
    "* Label (:Foo) does not exist, did you mean (:Bar)?\n",
    "* Property bar does not exist for label Foo, did you mean baz?\n",
    "* Relationship FOO does not exist, did you mean FOO_BAR?\n",
    "\n",
    "Schema:\n",
    "{schema}\n",
    "\n",
    "The question is:\n",
    "{question}\n",
    "\n",
    "The Cypher statement is:\n",
    "{cypher}\n",
    "\n",
    "Make sure you don't make any mistakes!\"\"\"\n",
    "\n",
    "# Create the validate_cypher_prompt\n",
    "validate_cypher_prompt = ChatPromptTemplate.from_messages(\n",
    "    [\n",
    "        (\n",
    "            \"system\",\n",
    "            validate_cypher_system,\n",
    "        ),\n",
    "        (\n",
    "            \"human\",\n",
    "            (validate_cypher_user),\n",
    "        ),\n",
    "    ]\n",
    ")\n"
   ]
  },
  {
   "cell_type": "code",
   "execution_count": 25,
   "metadata": {},
   "outputs": [],
   "source": [
    "from pydantic import BaseModel, Field\n",
    "\n",
    "class Property(BaseModel):\n",
    "    \"\"\"\n",
    "    Represents a filter condition based on a specific node property in a graph in a Cypher statement.\n",
    "    \"\"\"\n",
    "\n",
    "    node_label: str = Field(\n",
    "        description=\"The label of the node to which this property belongs.\"\n",
    "    )\n",
    "    property_key: str = Field(description=\"The key of the property being filtered.\")\n",
    "    property_value: Optional[str] = Field(\n",
    "        default=None,\n",
    "        description=\"The value that the property is being matched against.\"\n",
    "    )\n",
    "\n",
    "class ValidateCypherOutput(BaseModel):\n",
    "    \"\"\"\n",
    "    Represents the validation result of a Cypher query's output,\n",
    "    including any errors and applied filters.\n",
    "    \"\"\"\n",
    "\n",
    "    errors: Optional[List[str]] = Field(\n",
    "        description=\"A list of syntax or semantical errors in the Cypher statement. Always explain the discrepancy between schema and Cypher statement\"\n",
    "    )\n",
    "    filters: Optional[List[Property]] = Field(\n",
    "        description=\"A list of property-based filters applied in the Cypher statement.\"\n",
    "    )\n",
    "\n",
    "\n",
    "validate_cypher_chain = validate_cypher_prompt | llm.with_structured_output(\n",
    "    ValidateCypherOutput\n",
    ")"
   ]
  },
  {
   "cell_type": "markdown",
   "metadata": {},
   "source": [
    "LLMs often struggle with correctly determining relationship directions in generated Cypher statements. Since we have access to the schema, we can deterministically correct these directions using the CypherQueryCorrector.\n",
    "\n",
    "Note: The [CypherQueryCorrector](https://python.langchain.com/api_reference/neo4j/chains/langchain_neo4j.chains.graph_qa.cypher_utils.CypherQueryCorrector.html) is an experimental feature and doesn't support all the newest Cypher syntax. "
   ]
  },
  {
   "cell_type": "code",
   "execution_count": 26,
   "metadata": {},
   "outputs": [],
   "source": [
    "from langchain_neo4j.chains.graph_qa.cypher_utils import CypherQueryCorrector, Schema\n",
    "\n",
    "# Cypher query corrector is experimental\n",
    "corrector_schema = [\n",
    "    Schema(el[\"start\"], el[\"type\"], el[\"end\"])\n",
    "    for el in graph.structured_schema.get(\"relationships\")\n",
    "]\n",
    "cypher_query_corrector = CypherQueryCorrector(corrector_schema)"
   ]
  },
  {
   "cell_type": "markdown",
   "metadata": {},
   "source": [
    "Now we can implement the Cypher validation step. First, we use the `EXPLAIN` method to detect any syntax errors. Next, we leverage the LLM to identify potential issues and extract the properties used for filtering. For string properties, we validate them against the database using a simple `CONTAINS` clause.\n",
    "\n",
    "Based on the validation results, the process can take the following paths:\n",
    "\n",
    "- If value mapping fails, we end the conversation and inform the user that we couldn't identify a specific property value (e.g., a passenger name or ticket number).\n",
    "- If errors are found, we route the query for correction.\n",
    "- If no issues are detected, we proceed to the Cypher execution step."
   ]
  },
  {
   "cell_type": "code",
   "execution_count": 27,
   "metadata": {},
   "outputs": [],
   "source": [
    "from neo4j.exceptions import CypherSyntaxError\n",
    "\n",
    "def validate_cypher(state: OverallState) -> OverallState:\n",
    "    \"\"\"\n",
    "    Validates the Cypher statements and maps any property values to the database.\n",
    "    \"\"\"\n",
    "    errors = []\n",
    "    mapping_errors = []\n",
    "    # Check for syntax errors\n",
    "    try:\n",
    "        graph.query(f\"EXPLAIN {state.get('cypher_statement')}\")\n",
    "    except CypherSyntaxError as e:\n",
    "        errors.append(e.message)\n",
    "    # Experimental feature for correcting relationship directions\n",
    "    corrected_cypher = cypher_query_corrector(state.get(\"cypher_statement\"))\n",
    "    if not corrected_cypher:\n",
    "        errors.append(\"The generated Cypher statement doesn't fit the graph schema\")\n",
    "    if not corrected_cypher == state.get(\"cypher_statement\"):\n",
    "        print(\"Relationship direction was corrected\")\n",
    "    # Use LLM to find additional potential errors and get the mapping for values\n",
    "    llm_output = validate_cypher_chain.invoke(\n",
    "        {\n",
    "            \"question\": state.get(\"question\"),\n",
    "            \"schema\": graph.schema,\n",
    "            \"cypher\": state.get(\"cypher_statement\"),\n",
    "        }\n",
    "    )\n",
    "    if llm_output.errors:\n",
    "        errors.extend(llm_output.errors)\n",
    "    if llm_output.filters:\n",
    "        for filter in llm_output.filters:\n",
    "            # Do mapping only for string values\n",
    "            if (\n",
    "                not [\n",
    "                    prop\n",
    "                    for prop in graph.structured_schema[\"node_props\"][\n",
    "                        filter.node_label\n",
    "                    ]\n",
    "                    if prop[\"property\"] == filter.property_key\n",
    "                ][0][\"type\"]\n",
    "                == \"STRING\"\n",
    "            ):\n",
    "                continue\n",
    "            mapping = graph.query(\n",
    "                f\"MATCH (n:{filter.node_label}) WHERE toLower(n.`{filter.property_key}`) = toLower($value) RETURN 'yes' LIMIT 1\",\n",
    "                {\"value\": filter.property_value},\n",
    "            )\n",
    "            if not mapping:\n",
    "                print(\n",
    "                    f\"Missing value mapping for {filter.node_label} on property {filter.property_key} with value {filter.property_value}\"\n",
    "                )\n",
    "                mapping_errors.append(\n",
    "                    f\"Missing value mapping for {filter.node_label} on property {filter.property_key} with value {filter.property_value}\"\n",
    "                )\n",
    "    if mapping_errors:\n",
    "        next_action = \"end\"\n",
    "    elif errors:\n",
    "        next_action = \"correct_cypher\"\n",
    "    else:\n",
    "        next_action = \"execute_cypher\"\n",
    "\n",
    "    return {\n",
    "        \"next_action\": next_action,\n",
    "        \"cypher_statement\": corrected_cypher,\n",
    "        \"cypher_errors\": errors,\n",
    "        \"steps\": [\"validate_cypher\"],\n",
    "    }"
   ]
  },
  {
   "cell_type": "markdown",
   "metadata": {},
   "source": [
    "The Cypher correction step takes the existing Cypher statement, any identified errors, and the original question to generate a corrected version of the query."
   ]
  },
  {
   "cell_type": "code",
   "execution_count": 28,
   "metadata": {},
   "outputs": [],
   "source": [
    "# Create the correct_cypher_prompt\n",
    "correct_cypher_prompt = ChatPromptTemplate.from_messages(\n",
    "    [\n",
    "        (\n",
    "            \"system\",\n",
    "            (\n",
    "                \"You are a Cypher expert reviewing a statement written by a junior developer. \"\n",
    "                \"You need to correct the Cypher statement based on the provided errors. No pre-amble.\"\n",
    "                \"Do not wrap the response in any backticks or anything else. Respond with a Cypher statement only!\"\n",
    "            ),\n",
    "        ),\n",
    "        (\n",
    "            \"human\",\n",
    "            (\n",
    "                \"\"\"Check for invalid syntax or semantics and return a corrected Cypher statement.\n",
    "\n",
    "Schema:\n",
    "{schema}\n",
    "\n",
    "Note: Do not include any explanations or apologies in your responses.\n",
    "Do not wrap the response in any backticks or anything else.\n",
    "Respond with a Cypher statement only!\n",
    "\n",
    "Do not respond to any questions that might ask anything else than for you to construct a Cypher statement.\n",
    "\n",
    "The question is:\n",
    "{question}\n",
    "\n",
    "The Cypher statement is:\n",
    "{cypher}\n",
    "\n",
    "The errors are:\n",
    "{errors}\n",
    "\n",
    "Corrected Cypher statement: \"\"\"\n",
    "            ),\n",
    "        ),\n",
    "    ]\n",
    ")\n"
   ]
  },
  {
   "cell_type": "code",
   "execution_count": 29,
   "metadata": {},
   "outputs": [],
   "source": [
    "# Create the correct_cypher_chain\n",
    "correct_cypher_chain = correct_cypher_prompt | llm | StrOutputParser()\n",
    "\n",
    "def correct_cypher(state: OverallState) -> OverallState:\n",
    "    \"\"\"\n",
    "    Correct the Cypher statement based on the provided errors.\n",
    "    \"\"\"\n",
    "    corrected_cypher = correct_cypher_chain.invoke(\n",
    "        {\n",
    "            \"question\": state.get(\"question\"),\n",
    "            \"errors\": state.get(\"cypher_errors\"),\n",
    "            \"cypher\": state.get(\"cypher_statement\"),\n",
    "            \"schema\": graph.schema,\n",
    "        }\n",
    "    )\n",
    "\n",
    "    return {\n",
    "        \"next_action\": \"validate_cypher\",\n",
    "        \"cypher_statement\": corrected_cypher,\n",
    "        \"steps\": [\"correct_cypher\"],\n",
    "    }"
   ]
  },
  {
   "cell_type": "markdown",
   "metadata": {},
   "source": [
    "We need to add a step that executes the given Cypher statement. If no results are returned, we should explicitly handle this scenario, as leaving the context empty can sometimes lead to LLM hallucinations."
   ]
  },
  {
   "cell_type": "code",
   "execution_count": 30,
   "metadata": {},
   "outputs": [],
   "source": [
    "no_results = \"I couldn't find any relevant information in the database\"\n",
    "\n",
    "\n",
    "def execute_cypher(state: OverallState) -> OverallState:\n",
    "    \"\"\"\n",
    "    Executes the given Cypher statement.\n",
    "    \"\"\"\n",
    "\n",
    "    records = graph.query(state.get(\"cypher_statement\"))\n",
    "    return {\n",
    "        \"database_records\": records if records else no_results,\n",
    "        \"next_action\": \"end\",\n",
    "        \"steps\": [\"execute_cypher\"],\n",
    "    }"
   ]
  },
  {
   "cell_type": "markdown",
   "metadata": {},
   "source": [
    "The final step is to generate the answer. This involves combining the initial question with the database output to produce a relevant response."
   ]
  },
  {
   "cell_type": "code",
   "execution_count": 31,
   "metadata": {},
   "outputs": [],
   "source": [
    "generate_final_prompt = ChatPromptTemplate.from_messages(\n",
    "    [\n",
    "        (\n",
    "            \"system\",\n",
    "            \"You are a helpful assistant\",\n",
    "        ),\n",
    "        (\n",
    "            \"human\",\n",
    "            (\n",
    "                \"\"\"Use the following results retrieved from a database to provide\n",
    "a succinct, definitive answer to the user's question.\n",
    "\n",
    "Respond as if you are answering the question directly.\n",
    "\n",
    "Results: {results}\n",
    "Question: {question}\"\"\"\n",
    "            ),\n",
    "        ),\n",
    "    ]\n",
    ")\n",
    "\n",
    "generate_final_chain = generate_final_prompt | llm | StrOutputParser()\n",
    "\n",
    "def generate_final_answer(state: OverallState) -> OutputState:\n",
    "    \"\"\"\n",
    "    Decides if the question is related to the database.\n",
    "    \"\"\"\n",
    "    final_answer = generate_final_chain.invoke(\n",
    "        {\"question\": state.get(\"question\"), \"results\": state.get(\"database_records\")}\n",
    "    )\n",
    "    return {\"answer\": final_answer, \"steps\": [\"generate_final_answer\"]}"
   ]
  },
  {
   "cell_type": "markdown",
   "metadata": {},
   "source": [
    "Next, we will implement the LangGraph workflow, starting with defining the conditional edge functions."
   ]
  },
  {
   "cell_type": "code",
   "execution_count": 32,
   "metadata": {},
   "outputs": [],
   "source": [
    "from typing import Optional, Literal\n",
    "\n",
    "def validate_cypher_condition(\n",
    "    state: OverallState,\n",
    ") -> Literal[\"generate_final_answer\", \"correct_cypher\", \"execute_cypher\"]:\n",
    "    if state.get(\"next_action\") == \"end\":\n",
    "        return \"generate_final_answer\"\n",
    "    elif state.get(\"next_action\") == \"correct_cypher\":\n",
    "        return \"correct_cypher\"\n",
    "    elif state.get(\"next_action\") == \"execute_cypher\":\n",
    "        return \"execute_cypher\""
   ]
  },
  {
   "cell_type": "markdown",
   "metadata": {},
   "source": [
    "Let's put it all together now."
   ]
  },
  {
   "cell_type": "code",
   "execution_count": 33,
   "metadata": {},
   "outputs": [],
   "source": [
    "# Build the Workflow\n",
    "from langgraph.graph import StateGraph, START, END\n",
    "from langgraph.prebuilt import tools_condition\n",
    "\n",
    "app = StateGraph(OverallState, input=InputState, output=OutputState)\n",
    "\n",
    "app.add_node(generate_cypher)\n",
    "app.add_node(validate_cypher)\n",
    "app.add_node(correct_cypher)\n",
    "app.add_node(execute_cypher)\n",
    "app.add_node(generate_final_answer)\n",
    "\n",
    "app.add_edge(START, \"generate_cypher\")\n",
    "\n",
    "app.add_edge(\"generate_cypher\", \"validate_cypher\")\n",
    "app.add_conditional_edges(\n",
    "    \"validate_cypher\",\n",
    "    validate_cypher_condition,\n",
    ")\n",
    "app.add_edge(\"execute_cypher\", \"generate_final_answer\")\n",
    "app.add_edge(\"correct_cypher\", \"validate_cypher\")\n",
    "app.add_edge(\"generate_final_answer\", END)\n",
    "\n",
    "workflow = app.compile()\n"
   ]
  },
  {
   "cell_type": "code",
   "execution_count": 34,
   "metadata": {},
   "outputs": [
    {
     "data": {
      "image/png": "[encoded data removed]",
      "text/plain": [
       "<IPython.core.display.Image object>"
      ]
     },
     "metadata": {},
     "output_type": "display_data"
    }
   ],
   "source": [
    "from IPython.display import Image, display\n",
    "from langchain_core.runnables.graph import MermaidDrawMethod\n",
    "\n",
    "# Visualize the compiled StateGraph as a Mermaid diagram\n",
    "display(Image(workflow.get_graph().draw_mermaid_png()))"
   ]
  },
  {
   "cell_type": "code",
   "execution_count": 35,
   "metadata": {},
   "outputs": [
    {
     "name": "stdout",
     "output_type": "stream",
     "text": [
      "{'generate_cypher': {'cypher_statement': 'MATCH (p:Passenger)-[:TRAVELED_ON]->(t:Ticket)\\nRETURN t.ticketNo AS ticketNumber, SUM(p.family) AS familySize\\nORDER BY familySize DESC\\nLIMIT 1', 'steps': ['generate_cypher']}}\n",
      "----\n",
      "{'validate_cypher': {'next_action': 'execute_cypher', 'cypher_statement': 'MATCH (p:Passenger)-[:TRAVELED_ON]->(t:Ticket)\\nRETURN t.ticketNo AS ticketNumber, SUM(p.family) AS familySize\\nORDER BY familySize DESC\\nLIMIT 1', 'cypher_errors': [], 'steps': ['validate_cypher']}}\n",
      "----\n",
      "{'execute_cypher': {'database_records': [{'ticketNumber': '347082', 'familySize': 42}], 'next_action': 'end', 'steps': ['execute_cypher']}}\n",
      "----\n",
      "{'generate_final_answer': {'answer': 'The ticket used by the largest family to travel was ticket number 347082.', 'steps': ['generate_final_answer']}}\n",
      "----\n"
     ]
    }
   ],
   "source": [
    "from langchain_core.runnables import RunnableConfig\n",
    "from langchain_core.messages import HumanMessage\n",
    "\n",
    "# Config settings with checkpoint configuration\n",
    "config = RunnableConfig(\n",
    "    recursion_limit=10,\n",
    "    configurable={\n",
    "        \"thread_id\": \"test_123\",\n",
    "    },\n",
    ")\n",
    "\n",
    "for chunk in workflow.stream({\"question\": \"Which ticket was used by the largest family to travel?\"}, config):\n",
    "    print(chunk)\n",
    "    print(\"----\")\n"
   ]
  }
 ],
 "metadata": {
  "kernelspec": {
   "display_name": "langchain-opentutorial-jPP3Iqy--py3.11",
   "language": "python",
   "name": "python3"
  },
  "language_info": {
   "codemirror_mode": {
    "name": "ipython",
    "version": 3
   },
   "file_extension": ".py",
   "mimetype": "text/x-python",
   "name": "python",
   "nbconvert_exporter": "python",
   "pygments_lexer": "ipython3",
   "version": "3.11.11"
  }
 },
 "nbformat": 4,
 "nbformat_minor": 2
}
