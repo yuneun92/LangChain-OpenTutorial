{
  "cells": [
    {
      "cell_type": "markdown",
      "id": "635d8ebb",
      "metadata": {},
      "source": [
        "# Pairwise Evaluation\n",
        "\n",
        "- Author: [BokyungisaGod](https://github.com/BokyungisaGod)\n",
        "- Design: \n",
        "- Peer Review: \n",
        "- This is a part of [LangChain Open Tutorial](https://github.com/LangChain-OpenTutorial/LangChain-OpenTutorial)\n",
        "\n",
        "[![Open in Colab](https://colab.research.google.com/assets/colab-badge.svg)](https://colab.research.google.com/github/LangChain-OpenTutorial/LangChain-OpenTutorial/blob/main/99-TEMPLATE/00-BASE-TEMPLATE-EXAMPLE.ipynb) [![Open in GitHub](https://img.shields.io/badge/Open%20in%20GitHub-181717?style=flat-square&logo=github&logoColor=white)](https://github.com/LangChain-OpenTutorial/LangChain-OpenTutorial/blob/main/99-TEMPLATE/00-BASE-TEMPLATE-EXAMPLE.ipynb)\n",
        "\n",
        "## Overview\n",
        "In some evaluations, the goal is to compare the outputs of two or more LLMs.\n",
        "\n",
        "This comparative evaluation method is commonly encountered on platforms like [Chatbot Arena](https://lmsys.org/blog/2023-05-03-arena/) or LLM leaderboards.\n",
        "\n",
        "### Table of Contents\n",
        "\n",
        "- [Overview](#overview)\n",
        "- [Environment Setup](#environment-setup)\n",
        "- [Pairwise evaluation](#pairwise-evaluation)\n",
        "\n",
        "### References\n",
        "\n",
        "- [LangChain](https://blog.langchain.dev/)\n",
        "----"
      ]
    },
    {
      "cell_type": "markdown",
      "id": "c6c7aba4",
      "metadata": {},
      "source": [
        "## Environment Setup\n",
        "\n",
        "Setting up your environment is the first step. See the [Environment Setup](https://wikidocs.net/257836) guide for more details.\n",
        "\n",
        "\n",
        "**[Note]**\n",
        "\n",
        "The langchain-opentutorial is a package of easy-to-use environment setup guidance, useful functions and utilities for tutorials.\n",
        "Check out the  [`langchain-opentutorial`](https://github.com/LangChain-OpenTutorial/langchain-opentutorial-pypi) for more details."
      ]
    },
    {
      "cell_type": "code",
      "execution_count": 7,
      "id": "21943adb",
      "metadata": {},
      "outputs": [],
      "source": [
        "%%capture --no-stderr\n",
        "%pip install langchain-opentutorial"
      ]
    },
    {
      "cell_type": "code",
      "execution_count": 8,
      "id": "f25ec196",
      "metadata": {},
      "outputs": [],
      "source": [
        "# Install required packages\n",
        "from langchain_opentutorial import package\n",
        "\n",
        "package.install(\n",
        "    [\n",
        "        \"langsmith\",\n",
        "        \"langchain\",\n",
        "        \"langchain_core\",\n",
        "        \"langchain_openai\",\n",
        "    ],\n",
        "    verbose=False,\n",
        "    upgrade=False,\n",
        ")"
      ]
    },
    {
      "cell_type": "markdown",
      "id": "690a9ae0",
      "metadata": {},
      "source": [
        "You can set API keys in a `.env` file or set them manually.\n",
        "\n",
        "[Note] If you’re not using the `.env` file, no worries! Just enter the keys directly in the cell below, and you’re good to go."
      ]
    },
    {
      "cell_type": "code",
      "execution_count": 9,
      "id": "327c2c7c",
      "metadata": {},
      "outputs": [],
      "source": [
        "from dotenv import load_dotenv\n",
        "from langchain_opentutorial import set_env\n",
        "\n",
        "# Attempt to load environment variables from a .env file; if unsuccessful, set them manually.\n",
        "if not load_dotenv():\n",
        "    set_env(\n",
        "        {\n",
        "            \"OPENAI_API_KEY\": \"\",\n",
        "            \"LANGCHAIN_API_KEY\": \"\",\n",
        "            \"LANGCHAIN_TRACING_V2\": \"true\",\n",
        "            \"LANGCHAIN_ENDPOINT\": \"https://api.smith.langchain.com\",\n",
        "            \"LANGCHAIN_PROJECT\": \"\",  # set the project name same as the title\n",
        "        }\n",
        "    )"
      ]
    },
    {
      "cell_type": "markdown",
      "id": "883a7f02",
      "metadata": {},
      "source": [
        "## Pairwise Evaluation\n",
        "\n",
        "Now, you can generate a dataset from these example executions.\n",
        "\n",
        "Only the inputs need to be saved."
      ]
    },
    {
      "cell_type": "code",
      "execution_count": 11,
      "id": "e3d38375",
      "metadata": {},
      "outputs": [],
      "source": [
        "from langchain_openai import ChatOpenAI\n",
        "from langchain_core.prompts import PromptTemplate\n",
        "from langchain_core.output_parsers import StrOutputParser\n",
        "\n",
        "\n",
        "def evaluate_pairwise(runs: list, example) -> dict:\n",
        "    \"\"\"\n",
        "    A simple evaluator for pairwise answers to score based on engagement\n",
        "    \"\"\"\n",
        "\n",
        "    # Save scores\n",
        "    scores = {}\n",
        "    for i, run in enumerate(runs):\n",
        "        scores[run.id] = i\n",
        "\n",
        "    # Execution pairs for each example\n",
        "    answer_a = runs[0].outputs[\"answer\"]\n",
        "    answer_b = runs[1].outputs[\"answer\"]\n",
        "    question = example.inputs[\"question\"]\n",
        "\n",
        "    # LLM with function calls, using a high-performance model\n",
        "    llm = ChatOpenAI(model=\"gpt-4o-mini\", temperature=0)\n",
        "\n",
        "    # Structured prompt\n",
        "    grade_prompt = PromptTemplate.from_template(\n",
        "        \"\"\"\n",
        "        You are an LLM judge. Compare the following two answers to a question and determine which one is better.\n",
        "        Better answer is the one that is more detailed and informative.\n",
        "        If the answer is not related to the question, it is not a good answer.\n",
        "        \n",
        "        # Question:\n",
        "        {question}\n",
        "        \n",
        "        #Answer A: \n",
        "        {answer_a}\n",
        "        \n",
        "        #Answer B: \n",
        "        {answer_b}\n",
        "        \n",
        "        Output should be either `A` or `B`. Pick the answer that is better.\n",
        "        \n",
        "        #Preference:\n",
        "        \"\"\"\n",
        "    )\n",
        "    answer_grader = grade_prompt | llm | StrOutputParser()\n",
        "\n",
        "    # Obtain scores\n",
        "    score = answer_grader.invoke(\n",
        "        {\n",
        "            \"question\": question,\n",
        "            \"answer_a\": answer_a,\n",
        "            \"answer_b\": answer_b,\n",
        "        }\n",
        "    )\n",
        "    # score = score[\"Preference\"]\n",
        "\n",
        "    # Map execution assignments based on scores\n",
        "    if score == \"A\":  # Preference for Assistant A\n",
        "        scores[runs[0].id] = 1\n",
        "        scores[runs[1].id] = 0\n",
        "    elif score == \"B\":  # Preference for Assistant B\n",
        "        scores[runs[0].id] = 0\n",
        "        scores[runs[1].id] = 1\n",
        "    else:\n",
        "        scores[runs[0].id] = 0\n",
        "        scores[runs[1].id] = 0\n",
        "\n",
        "    return {\"key\": \"ranked_preference\", \"scores\": scores}"
      ]
    },
    {
      "cell_type": "markdown",
      "id": "2b1d91aa",
      "metadata": {},
      "source": [
        "Conduct a comparative evaluation."
      ]
    },
    {
      "cell_type": "code",
      "execution_count": 12,
      "id": "69cb77da",
      "metadata": {},
      "outputs": [
        {
          "name": "stdout",
          "output_type": "stream",
          "text": [
            "View the pairwise evaluation results at:\n",
            "https://smith.langchain.com/o/9089d1d3-e786-4000-8468-66153f05444b/datasets/9b4ca107-33fe-4c71-bb7f-488272d895a3/compare?selectedSessions=33fa8084-b82f-45ee-a3dd-c374caad16e0%2Cf784a8c4-88ab-4a35-89a7-3aba5367f182&comparativeExperiment=f9b31d2e-299a-45bc-a61c-0c2622dbceac\n",
            "\n",
            "\n"
          ]
        },
        {
          "data": {
            "application/vnd.jupyter.widget-view+json": {
              "model_id": "36b5a7f02f11433287b628550059be5f",
              "version_major": 2,
              "version_minor": 0
            },
            "text/plain": [
              "  0%|          | 0/6 [00:00<?, ?it/s]"
            ]
          },
          "metadata": {},
          "output_type": "display_data"
        },
        {
          "data": {
            "text/plain": [
              "<langsmith.evaluation._runner.ComparativeExperimentResults at 0x105fc5bd0>"
            ]
          },
          "execution_count": 12,
          "metadata": {},
          "output_type": "execute_result"
        }
      ],
      "source": [
        "from langsmith.evaluation import evaluate_comparative\n",
        "\n",
        "# Replace with an array of experiment names or IDs\n",
        "evaluate_comparative(\n",
        "    [\"MODEL_COMPARE_EVAL-05b6496b\", \"MODEL_COMPARE_EVAL-c264adb7\"],\n",
        "    # Array of evaluators\n",
        "    evaluators=[evaluate_pairwise],\n",
        ")"
      ]
    },
    {
      "cell_type": "markdown",
      "id": "572e9fd0",
      "metadata": {},
      "source": [
        "![](./assets/12-langsmith-pairwise-evaluation-01.png)"
      ]
    }
  ],
  "metadata": {
    "kernelspec": {
      "display_name": "langchain-kr-lwwSZlnu-py3.11",
      "language": "python",
      "name": "python3"
    },
    "language_info": {
      "codemirror_mode": {
        "name": "ipython",
        "version": 3
      },
      "file_extension": ".py",
      "mimetype": "text/x-python",
      "name": "python",
      "nbconvert_exporter": "python",
      "pygments_lexer": "ipython3",
      "version": "3.11.11"
    }
  },
  "nbformat": 4,
  "nbformat_minor": 5
}
