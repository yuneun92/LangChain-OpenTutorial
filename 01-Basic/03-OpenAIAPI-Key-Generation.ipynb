{
  "cells": [
    {
      "cell_type": "markdown",
      "metadata": {},
      "source": [
        "# OpenAI API Key Generation and Testing Guide\n",
        "\n",
        "- Author: [Minji](https://github.com/r14minji)\n",
        "- Design: \n",
        "- Peer Review: \n",
        "- This is a part of [LangChain Open Tutorial](https://github.com/LangChain-OpenTutorial/LangChain-OpenTutorial)\n",
        "\n",
        "[![Open in Colab](https://colab.research.google.com/assets/colab-badge.svg)](https://colab.research.google.com/github/LangChain-OpenTutorial/LangChain-OpenTutorial/blob/main/01-Basic/03-OpenAIAPIKeyGeneration.ipynb) [![Open in GitHub](https://img.shields.io/badge/Open%20in%20GitHub-181717?style=flat-square&logo=github&logoColor=white)](https://github.com/LangChain-OpenTutorial/LangChain-OpenTutorial/blob/main/01-Basic/03-OpenAIAPIKeyGeneration.ipynb)\n",
        "\n",
        "## Overview\n",
        "\n",
        "This guide explains how to get and use an OpenAI API key, including costs and limits.\n",
        "\n",
        "To begin, you'll create your API key on OpenAI's platform and set up your development environment.\n",
        "\n",
        "After setup, you can test your API key to ensure it works correctly with your applications.\n",
        "\n",
        "### Table of Contents\n",
        "- [Overview](#overview)\n",
        "- [Setting Up OpenAI API Payment and Usage Limits](#setting-up-openai-api-payment-and-usage-limits)\n",
        "- [OpenAI API Key Generation](#openai-api-key-generation)\n",
        "- [Environment Setup](#environment-setup)\n",
        "\n",
        "----"
      ]
    },
    {
      "cell_type": "markdown",
      "metadata": {},
      "source": [
        "## Setting Up OpenAI API Payment and Usage Limits\n",
        "\n",
        "Visit the OpenAI API website\n",
        "\n",
        "\n",
        "- Visit: https://platform.openai.com/docs/overview\n",
        "\n",
        "Click **\"Sign Up\"** in the top right corner to create an account (If you already have an account, click **\"Log in\")**.\n",
        "\n",
        "![step1](./assets/02-OpenAIAPIKeyGeneration-01.png)\n",
        "\n",
        "After logging in, navigate to your **settings** in the top right corner and select \"Billing\"\n",
        "\n",
        "![step2](./assets/02-OpenAIAPIKeyGeneration-02.png)\n",
        "\n",
        "In the left \"Billing\" menu, click on \"Payment methods\" to register your credit card.\n",
        "\n",
        "![step3](./assets/02-OpenAIAPIKeyGeneration-03.png)\n",
        "\n",
        "Once your credit card is registered, it will appear in the list of payment methods as shown below.\n",
        "\n",
        "![step4](./assets/02-OpenAIAPIKeyGeneration-04.png)\n",
        "\n",
        "Click the \"Add to credit balance\" button to enter the amount in USD you wish to use.\n",
        "\n",
        "\n",
        "![step5](./assets/02-OpenAIAPIKeyGeneration-05.png)\n",
        "\n",
        "\n",
        "\n",
        "You can add funds starting from `$5` (meaning you must pay at least the minimum amount of $5).\n",
        "\n",
        "After entering the amount, click \"Continue\" to proceed with the payment.\n",
        "\n",
        "![step6](./assets/02-OpenAIAPIKeyGeneration-06.png)\n",
        "\n",
        "In the **\"Limits\"** tab on the left, you can set your monthly usage limits\n",
        "\n",
        "- **\"Set a monthly budget\"** : This sets your monthly spending limit. Once you reach this amount, billing stops and the API will cease to function.\n",
        "- **\"Set an email notification threshold\"** : You can specify the amount at which you'll receive an email notification. When your usage reaches this amount, you'll get an email alert.\n",
        "\n",
        "![step7](./assets/02-OpenAIAPIKeyGeneration-07.png)"
      ]
    },
    {
      "cell_type": "markdown",
      "metadata": {},
      "source": [
        "## OpenAI API Key Generation\n",
        "\n",
        "Click on your profile picture in the top-right corner, then select **\"Your Profile.\"** \n",
        "\n",
        "![step7](./assets/02-OpenAIAPIKeyGeneration-08.png)\n",
        "\n",
        "Access the API Key Management Menu\n",
        "\n",
        "- Visit: https://platform.openai.com/api-keys\n",
        "\n",
        "\n",
        "Click on **\"Create new secret key\"**\n",
        "\n",
        "![step8](./assets/02-OpenAIAPIKeyGeneration-09.png)\n",
        "\n",
        "Enter a Name and select a project (if you haven't created any projects, select Default project)\n",
        "\n",
        "![step9](./assets/02-OpenAIAPIKeyGeneration-10.png)\n",
        "\n",
        "Click the **\"Copy\"** button on the right to copy your key.\n",
        "\n",
        "**IMPORTANT WARNING!!!**\n",
        "\n",
        "If your key is leaked, others can use your API KEY to access GPT services, and charges will be billed to **YOUR account** .\n",
        "**NEVER share your key** with others and store it in a secure location! (Think of it as your password)\n",
        "\n",
        "![step10](./assets/02-OpenAIAPIKeyGeneration-11.png)\n"
      ]
    },
    {
      "cell_type": "markdown",
      "metadata": {},
      "source": [
        "## Environment Setup\n",
        "\n",
        "Setting up the `.env` File\n",
        "\n",
        "1. Create a `.env` file in your project's root directory.\n",
        "2. In the `.env` file, enter `OPENAI_API_KEY=your-copied-key` then press Ctrl + S (or Command + S on Mac) to save and close the file.\n",
        "\n",
        "![step12](./assets/02-OpenAIAPIKeyGeneration-12.png)\n",
        "\n",
        "Setting up the .gitignore File\n",
        "1. Create a `.gitignore` file in your project's root directory.\n",
        "2. Add `.env` to your `.gitignore` file to prevent it from being tracked by Git.\n",
        "\n",
        "![step13](./assets/02-OpenAIAPIKeyGeneration-13.png)\n"
      ]
    },
    {
      "cell_type": "code",
      "execution_count": null,
      "metadata": {
        "vscode": {
          "languageId": "plaintext"
        }
      },
      "outputs": [],
      "source": [
        "# Update LangChain\n",
        "!pip install langchain-opentutorial"
      ]
    },
    {
      "cell_type": "code",
      "execution_count": null,
      "metadata": {
        "vscode": {
          "languageId": "plaintext"
        }
      },
      "outputs": [],
      "source": [
        "# Configuration file to manage API KEY as environment variable\n",
        "# Install: pip install python-dotenv\n",
        "from dotenv import load_dotenv\n",
        "\n",
        "# Load API KEY information\n",
        "load_dotenv()"
      ]
    },
    {
      "cell_type": "code",
      "execution_count": null,
      "metadata": {
        "vscode": {
          "languageId": "plaintext"
        }
      },
      "outputs": [],
      "source": [
        "True"
      ]
    },
    {
      "cell_type": "markdown",
      "metadata": {},
      "source": [
        "Let's verify if the API Key is properly configured:"
      ]
    },
    {
      "cell_type": "code",
      "execution_count": null,
      "metadata": {
        "vscode": {
          "languageId": "plaintext"
        }
      },
      "outputs": [],
      "source": [
        "import os\n",
        "print(f\"[API KEY]\\n{os.environ['OPENAI_API_KEY']}\")"
      ]
    }
  ],
  "metadata": {
    "language_info": {
      "name": "python"
    }
  },
  "nbformat": 4,
  "nbformat_minor": 2
}
